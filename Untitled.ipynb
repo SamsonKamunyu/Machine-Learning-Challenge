{
 "cells": [
  {
   "cell_type": "markdown",
   "metadata": {},
   "source": [
    "# Day 1 - 1st Nov, 2022"
   ]
  },
  {
   "cell_type": "markdown",
   "metadata": {},
   "source": [
    "## What is Python?\n",
    "A high level multi-purpose programming language.\n",
    "\n",
    "Supports both object oriented and procedural programming styles.\n",
    "\n",
    "It has a wide range of libraries and frameworks which makes its use popular in Machine Learning."
   ]
  },
  {
   "cell_type": "markdown",
   "metadata": {},
   "source": [
    "# Day 2"
   ]
  },
  {
   "cell_type": "markdown",
   "metadata": {},
   "source": [
    "## Python Data Types\n",
    "They represent the kind of value variables can hold and the operations that can be performed on a particular data."
   ]
  },
  {
   "cell_type": "markdown",
   "metadata": {},
   "source": [
    "### a. Integer"
   ]
  },
  {
   "cell_type": "code",
   "execution_count": 1,
   "metadata": {},
   "outputs": [
    {
     "name": "stdout",
     "output_type": "stream",
     "text": [
      "5\n",
      "<class 'int'>\n"
     ]
    }
   ],
   "source": [
    "var = 5\n",
    "print(var)\n",
    "print(type(var))"
   ]
  },
  {
   "cell_type": "markdown",
   "metadata": {},
   "source": [
    "### b. Float"
   ]
  },
  {
   "cell_type": "code",
   "execution_count": 2,
   "metadata": {},
   "outputs": [
    {
     "name": "stdout",
     "output_type": "stream",
     "text": [
      "0.789\n",
      "<class 'float'>\n"
     ]
    }
   ],
   "source": [
    "var2 = 0.789\n",
    "print(var2)\n",
    "print(type(var2))"
   ]
  },
  {
   "cell_type": "markdown",
   "metadata": {},
   "source": [
    "### c. Complex Numbers"
   ]
  },
  {
   "cell_type": "code",
   "execution_count": 3,
   "metadata": {},
   "outputs": [
    {
     "name": "stdout",
     "output_type": "stream",
     "text": [
      "2j\n",
      "<class 'complex'>\n"
     ]
    }
   ],
   "source": [
    "x = 2j\n",
    "print(x)\n",
    "print(type(x))"
   ]
  },
  {
   "cell_type": "markdown",
   "metadata": {},
   "source": [
    "### d. String"
   ]
  },
  {
   "cell_type": "code",
   "execution_count": 4,
   "metadata": {},
   "outputs": [
    {
     "name": "stdout",
     "output_type": "stream",
     "text": [
      "Hello World!\n",
      "<class 'str'>\n"
     ]
    }
   ],
   "source": [
    "greeting = 'Hello World!'\n",
    "print(greeting)\n",
    "print(type(greeting))"
   ]
  },
  {
   "cell_type": "markdown",
   "metadata": {},
   "source": [
    "### e. Lists"
   ]
  },
  {
   "cell_type": "code",
   "execution_count": 5,
   "metadata": {},
   "outputs": [
    {
     "name": "stdout",
     "output_type": "stream",
     "text": [
      "['Outback', 'Mercedes', 'Maserati']\n",
      "<class 'list'>\n"
     ]
    }
   ],
   "source": [
    "l1 = ['Outback', 'Mercedes', 'Maserati']\n",
    "print(l1)\n",
    "print(type(l1))"
   ]
  },
  {
   "cell_type": "markdown",
   "metadata": {},
   "source": [
    "### f. Tuple"
   ]
  },
  {
   "cell_type": "code",
   "execution_count": 6,
   "metadata": {},
   "outputs": [
    {
     "name": "stdout",
     "output_type": "stream",
     "text": [
      "('Outback', 'Mercedes', 'Maserati')\n",
      "<class 'tuple'>\n"
     ]
    }
   ],
   "source": [
    "t1 = ('Outback', 'Mercedes', 'Maserati')\n",
    "print(t1)\n",
    "print(type(t1))"
   ]
  },
  {
   "cell_type": "markdown",
   "metadata": {},
   "source": [
    "### g. Dictionary"
   ]
  },
  {
   "cell_type": "code",
   "execution_count": 7,
   "metadata": {},
   "outputs": [
    {
     "name": "stdout",
     "output_type": "stream",
     "text": [
      "{'Name': 'Samson', 'Role': 'ML-Eng', 'Location': 'Remote', 'Start': 'January-2023'}\n",
      "<class 'dict'>\n"
     ]
    }
   ],
   "source": [
    "soon = {'Name': 'Samson', 'Role':'ML-Eng', 'Location':'Remote', 'Start': 'January-2023'}\n",
    "print(soon)\n",
    "print(type(soon))"
   ]
  },
  {
   "cell_type": "markdown",
   "metadata": {},
   "source": [
    "### h. Set"
   ]
  },
  {
   "cell_type": "code",
   "execution_count": 8,
   "metadata": {},
   "outputs": [
    {
     "name": "stdout",
     "output_type": "stream",
     "text": [
      "{'Remote', 'ML-Eng', 'Samson', 'January-2023'}\n",
      "<class 'set'>\n"
     ]
    }
   ],
   "source": [
    "s1 = set({'Samson', 'ML-Eng', 'Remote', 'January-2023'})\n",
    "print(s1)\n",
    "print(type(s1))"
   ]
  },
  {
   "cell_type": "markdown",
   "metadata": {},
   "source": [
    "### i. Frozen Set"
   ]
  },
  {
   "cell_type": "code",
   "execution_count": 9,
   "metadata": {},
   "outputs": [
    {
     "name": "stdout",
     "output_type": "stream",
     "text": [
      "frozenset({'Remote', 'ML-Eng', 'Samson', 'January-2023'})\n",
      "<class 'frozenset'>\n"
     ]
    }
   ],
   "source": [
    "s2 = frozenset({'Remote', 'Samson', 'ML-Eng', 'Remote', 'January-2023', 'ML-Eng'})\n",
    "print(s2)\n",
    "print(type(s2))"
   ]
  },
  {
   "cell_type": "markdown",
   "metadata": {},
   "source": [
    "### j. Boolean"
   ]
  },
  {
   "cell_type": "code",
   "execution_count": 10,
   "metadata": {},
   "outputs": [
    {
     "name": "stdout",
     "output_type": "stream",
     "text": [
      "True\n",
      "<class 'bool'>\n"
     ]
    }
   ],
   "source": [
    "tf = True\n",
    "print(tf)\n",
    "print(type(tf))"
   ]
  },
  {
   "cell_type": "markdown",
   "metadata": {},
   "source": [
    "### k. Byte"
   ]
  },
  {
   "cell_type": "code",
   "execution_count": 11,
   "metadata": {},
   "outputs": [
    {
     "name": "stdout",
     "output_type": "stream",
     "text": [
      "b'Outback'\n",
      "<class 'bytes'>\n"
     ]
    }
   ],
   "source": [
    "b1 = b'Outback'\n",
    "print(b1)\n",
    "print(type(b1))"
   ]
  },
  {
   "cell_type": "markdown",
   "metadata": {},
   "source": [
    "# Day 3"
   ]
  },
  {
   "cell_type": "markdown",
   "metadata": {},
   "source": [
    "## Python Operators\n",
    "They are the contructs that manipulate the value of operands."
   ]
  },
  {
   "cell_type": "markdown",
   "metadata": {},
   "source": [
    "### a. Arithmetic Operators"
   ]
  },
  {
   "cell_type": "code",
   "execution_count": 12,
   "metadata": {},
   "outputs": [
    {
     "name": "stdout",
     "output_type": "stream",
     "text": [
      "Addition: 7\n",
      "Subtraction: 1\n",
      "Multiplication: 12\n",
      "Division: 1.3333333333333333\n",
      "Modulus: 1\n",
      "Floor Division: 1\n",
      "Exponent: 7\n"
     ]
    }
   ],
   "source": [
    "x = 4\n",
    "y = 3\n",
    "\n",
    "print('Addition:', x+y)\n",
    "print('Subtraction:', x-y)\n",
    "print('Multiplication:', x*y)\n",
    "print('Division:', x/y)\n",
    "print('Modulus:', x%y)\n",
    "print('Floor Division:', x//y)\n",
    "print('Exponent:', x+y)"
   ]
  },
  {
   "cell_type": "markdown",
   "metadata": {},
   "source": [
    "### b. Comparison Operators"
   ]
  },
  {
   "cell_type": "code",
   "execution_count": 13,
   "metadata": {},
   "outputs": [
    {
     "name": "stdout",
     "output_type": "stream",
     "text": [
      "Greater than: True\n",
      "Less than: False\n",
      "Greater than equal to: True\n",
      "Less than equal to: False\n",
      "Not equal to: True\n",
      "Equal to: False\n"
     ]
    }
   ],
   "source": [
    "#Result is either true or false\n",
    "\n",
    "x = 4\n",
    "y = 3\n",
    "\n",
    "print('Greater than:', x>y)\n",
    "print('Less than:', x<y)\n",
    "print('Greater than equal to:', x>=y)\n",
    "print('Less than equal to:', x<=y)\n",
    "print('Not equal to:', x!=y)\n",
    "print('Equal to:', x==y)"
   ]
  },
  {
   "cell_type": "markdown",
   "metadata": {},
   "source": [
    "### c. Logical Operators"
   ]
  },
  {
   "cell_type": "code",
   "execution_count": 14,
   "metadata": {},
   "outputs": [
    {
     "name": "stdout",
     "output_type": "stream",
     "text": [
      "And result: False\n",
      "Or result: True\n",
      "Not result: True\n"
     ]
    }
   ],
   "source": [
    "#Results in either True or False\n",
    "#and, or, not\n",
    "\n",
    "x = True\n",
    "y = False\n",
    "\n",
    "print('And result:', (x and y))\n",
    "print('Or result:', (x or y))\n",
    "print('Not result:', (not y))"
   ]
  },
  {
   "cell_type": "markdown",
   "metadata": {},
   "source": [
    "### d. Bitwise Operators"
   ]
  },
  {
   "cell_type": "code",
   "execution_count": 15,
   "metadata": {},
   "outputs": [
    {
     "name": "stdout",
     "output_type": "stream",
     "text": [
      "And result: 992\n",
      "Or result: 1019\n",
      "Not result: -1011\n",
      "XOR result: 27\n",
      "Bitwise right shift result: 250\n",
      "Bitwise left shift result: 4004\n"
     ]
    }
   ],
   "source": [
    "x = 1001\n",
    "y = 1010\n",
    "\n",
    "print('And result:', (x & y))\n",
    "print('Or result:', (x | y))\n",
    "print('Not result:', (~y))\n",
    "print('XOR result:', (x ^ y))\n",
    "print('Bitwise right shift result:', (x>>2))\n",
    "print('Bitwise left shift result:', (x<<2))"
   ]
  },
  {
   "cell_type": "markdown",
   "metadata": {},
   "source": [
    "### e. Membership Operators"
   ]
  },
  {
   "cell_type": "code",
   "execution_count": 16,
   "metadata": {},
   "outputs": [
    {
     "name": "stdout",
     "output_type": "stream",
     "text": [
      "False\n",
      "True\n"
     ]
    }
   ],
   "source": [
    "#Used to assign values to variables\n",
    "\n",
    "x = 'Machine Learning'\n",
    "\n",
    "print('y' in x)\n",
    "print('a' in x)"
   ]
  },
  {
   "cell_type": "markdown",
   "metadata": {},
   "source": [
    "### f. Identity Operators"
   ]
  },
  {
   "cell_type": "code",
   "execution_count": 17,
   "metadata": {},
   "outputs": [
    {
     "name": "stdout",
     "output_type": "stream",
     "text": [
      "Is operator result: True\n",
      "Is Not operator result: True\n"
     ]
    }
   ],
   "source": [
    "#Is and Is Not are the Python identity operators\n",
    "\n",
    "x = 7\n",
    "y = 7\n",
    "z = 'a'\n",
    "\n",
    "print('Is operator result:', (x is y))\n",
    "print('Is Not operator result:', (y is not z))"
   ]
  },
  {
   "cell_type": "markdown",
   "metadata": {},
   "source": [
    "# Day 4"
   ]
  },
  {
   "cell_type": "markdown",
   "metadata": {},
   "source": [
    "## Python Lists\n",
    "- Stores both non/homogenous elements.\n",
    "- Created by use of square brackets [].\n",
    "- The items in the list are indexed with the first item being index [0], second [1]...[n]."
   ]
  },
  {
   "cell_type": "markdown",
   "metadata": {},
   "source": [
    "### Create a list"
   ]
  },
  {
   "cell_type": "code",
   "execution_count": 18,
   "metadata": {},
   "outputs": [
    {
     "name": "stdout",
     "output_type": "stream",
     "text": [
      "['engineer', 'lead', 'analyst', 'scientist', 'senior', 'mentor']\n",
      "6\n"
     ]
    }
   ],
   "source": [
    "list_one = ['engineer', 'lead', 'analyst', 'scientist','senior', 'mentor']\n",
    "print(list_one)\n",
    "\n",
    "#List Length\n",
    "print(len(list_one))"
   ]
  },
  {
   "cell_type": "markdown",
   "metadata": {},
   "source": [
    "### List with different types of elements"
   ]
  },
  {
   "cell_type": "code",
   "execution_count": 19,
   "metadata": {},
   "outputs": [
    {
     "name": "stdout",
     "output_type": "stream",
     "text": [
      "['outback', 27, 'mayback', 80.67, 'male']\n"
     ]
    }
   ],
   "source": [
    "list_two = ['outback', 27, 'mayback', 80.67, 'male']\n",
    "print(list_two)"
   ]
  },
  {
   "cell_type": "markdown",
   "metadata": {},
   "source": [
    "### Create Nested List"
   ]
  },
  {
   "cell_type": "code",
   "execution_count": 20,
   "metadata": {},
   "outputs": [
    {
     "name": "stdout",
     "output_type": "stream",
     "text": [
      "['cars', ['roles', [1, 2, 3, 4], 'soon'], 'titles']\n"
     ]
    }
   ],
   "source": [
    "nest_list = ['cars', ['roles', [1, 2, 3, 4], 'soon'], 'titles']\n",
    "print(nest_list)"
   ]
  },
  {
   "cell_type": "markdown",
   "metadata": {},
   "source": [
    "### Slice Lists"
   ]
  },
  {
   "cell_type": "code",
   "execution_count": 21,
   "metadata": {},
   "outputs": [
    {
     "name": "stdout",
     "output_type": "stream",
     "text": [
      "['analyst', 'scientist', 'senior']\n"
     ]
    }
   ],
   "source": [
    "#Involves choosing a range\n",
    "list_one = ['engineer', 'lead', 'analyst', 'scientist','senior', 'mentor']\n",
    "print(list_one[2:5])"
   ]
  },
  {
   "cell_type": "code",
   "execution_count": 22,
   "metadata": {},
   "outputs": [
    {
     "name": "stdout",
     "output_type": "stream",
     "text": [
      "['outback', 27, 'mayback', 80.67, 'male', 28, 'wedding']\n"
     ]
    }
   ],
   "source": [
    "### Appending to a list\n",
    "list_two = ['outback', 27, 'mayback', 80.67, 'male']\n",
    "list_two.append(28)\n",
    "list_two.append('wedding')\n",
    "print(list_two)"
   ]
  },
  {
   "cell_type": "markdown",
   "metadata": {},
   "source": [
    "### Changing list elements"
   ]
  },
  {
   "cell_type": "code",
   "execution_count": 23,
   "metadata": {},
   "outputs": [
    {
     "data": {
      "text/plain": [
       "['outback', 27, 'mayback', 80.67, 'male', 28, 'wedding']"
      ]
     },
     "execution_count": 23,
     "metadata": {},
     "output_type": "execute_result"
    }
   ],
   "source": [
    "list_two"
   ]
  },
  {
   "cell_type": "code",
   "execution_count": 24,
   "metadata": {},
   "outputs": [
    {
     "name": "stdout",
     "output_type": "stream",
     "text": [
      "['outback', 27, 'mayback', 80.67, 'London', 28, 'wedding']\n"
     ]
    }
   ],
   "source": [
    "list_two[4] = 'London'\n",
    "print(list_two)"
   ]
  },
  {
   "cell_type": "markdown",
   "metadata": {},
   "source": [
    "# Day 5"
   ]
  },
  {
   "cell_type": "markdown",
   "metadata": {},
   "source": [
    "## Python Tuples\n",
    "- They are immutable(unchangeable), ordered and allow duplicate values.\n",
    "- Created by use of parentheses()."
   ]
  },
  {
   "cell_type": "markdown",
   "metadata": {},
   "source": [
    "### Create a tuple"
   ]
  },
  {
   "cell_type": "code",
   "execution_count": 25,
   "metadata": {},
   "outputs": [
    {
     "name": "stdout",
     "output_type": "stream",
     "text": [
      "(7, 1, 44, 69)\n",
      "4\n"
     ]
    }
   ],
   "source": [
    "numbers = (7, 1, 44, 69)\n",
    "print(numbers)\n",
    "\n",
    "#Tuple length\n",
    "print(len(numbers))"
   ]
  },
  {
   "cell_type": "markdown",
   "metadata": {},
   "source": [
    "### Tuple with different data types"
   ]
  },
  {
   "cell_type": "code",
   "execution_count": 26,
   "metadata": {},
   "outputs": [
    {
     "name": "stdout",
     "output_type": "stream",
     "text": [
      "('engineer', 7, True, 'red', 80.7)\n"
     ]
    }
   ],
   "source": [
    "a = ('engineer', 7, True, 'red', 80.7)\n",
    "print(a)"
   ]
  },
  {
   "cell_type": "markdown",
   "metadata": {},
   "source": [
    "### Nested tuples"
   ]
  },
  {
   "cell_type": "code",
   "execution_count": 27,
   "metadata": {},
   "outputs": [
    {
     "name": "stdout",
     "output_type": "stream",
     "text": [
      "('engineer', 7, True, (7, 1, 44, 69), 'red', 80.7, 'Jan_2023')\n"
     ]
    }
   ],
   "source": [
    "tuple_nest = ('engineer', 7, True, (7, 1, 44, 69), 'red', 80.7, 'Jan_2023')\n",
    "print(tuple_nest)"
   ]
  },
  {
   "cell_type": "markdown",
   "metadata": {},
   "source": [
    "### Accessing tuple elements"
   ]
  },
  {
   "cell_type": "code",
   "execution_count": 28,
   "metadata": {},
   "outputs": [
    {
     "name": "stdout",
     "output_type": "stream",
     "text": [
      "44\n"
     ]
    }
   ],
   "source": [
    "numbers = (7, 1, 44, 69)\n",
    "print(numbers[2])"
   ]
  },
  {
   "cell_type": "markdown",
   "metadata": {},
   "source": [
    "# Day 6"
   ]
  },
  {
   "cell_type": "markdown",
   "metadata": {},
   "source": [
    "## Python sets\n",
    "- They are unordered, unchangeable(can remove/add new items) and unindexed.\n",
    "- Created by wrapping items in brackets{}.\n",
    "- There cannot be nested sets and cannot access elements using indexes,"
   ]
  },
  {
   "cell_type": "markdown",
   "metadata": {},
   "source": [
    "### Creating a set"
   ]
  },
  {
   "cell_type": "code",
   "execution_count": 29,
   "metadata": {},
   "outputs": [
    {
     "name": "stdout",
     "output_type": "stream",
     "text": [
      "{1, 44, 69, 7}\n",
      "4\n"
     ]
    }
   ],
   "source": [
    "numbers = {7, 1, 44, 69}\n",
    "print(numbers)\n",
    "\n",
    "#Set length\n",
    "print(len(numbers))"
   ]
  },
  {
   "cell_type": "markdown",
   "metadata": {},
   "source": [
    "### A set with different types"
   ]
  },
  {
   "cell_type": "code",
   "execution_count": 30,
   "metadata": {},
   "outputs": [
    {
     "name": "stdout",
     "output_type": "stream",
     "text": [
      "{80.7, True, 'red', 7, 'engineer'}\n"
     ]
    }
   ],
   "source": [
    "b = {'engineer', 7, True, 'red', 80.7}\n",
    "print(b)"
   ]
  },
  {
   "cell_type": "markdown",
   "metadata": {},
   "source": [
    "### Accessing a set by looping through it"
   ]
  },
  {
   "cell_type": "code",
   "execution_count": 31,
   "metadata": {},
   "outputs": [
    {
     "name": "stdout",
     "output_type": "stream",
     "text": [
      "meat\n",
      "veggies\n",
      "fruits\n"
     ]
    }
   ],
   "source": [
    "this_set = {'fruits', 'meat', 'veggies'}\n",
    "\n",
    "for x in this_set:\n",
    "    print(x)"
   ]
  },
  {
   "cell_type": "markdown",
   "metadata": {},
   "source": [
    "### Update sets"
   ]
  },
  {
   "cell_type": "code",
   "execution_count": 32,
   "metadata": {},
   "outputs": [
    {
     "name": "stdout",
     "output_type": "stream",
     "text": [
      "{True, 'red', 7, 'veggies', 'engineer', 80.7, 'meat', 'fruits'}\n"
     ]
    }
   ],
   "source": [
    "this_set = {'fruits', 'meat', 'veggies'}\n",
    "a = {'engineer', 7, True, 'red', 80.7}\n",
    "\n",
    "this_set.update(a)\n",
    "\n",
    "print(this_set)"
   ]
  },
  {
   "cell_type": "markdown",
   "metadata": {},
   "source": [
    "# Day 7"
   ]
  },
  {
   "cell_type": "markdown",
   "metadata": {},
   "source": [
    "## Python Dictionaries\n",
    "- Data values are stored in key:values pairs.\n",
    "- Keys are immutable and can't be repeated while the values can be of any data type and be duplicated."
   ]
  },
  {
   "cell_type": "markdown",
   "metadata": {},
   "source": [
    "### Create a Dictionary"
   ]
  },
  {
   "cell_type": "code",
   "execution_count": 38,
   "metadata": {},
   "outputs": [
    {
     "name": "stdout",
     "output_type": "stream",
     "text": [
      "{0: 'engineer', 1: 7, 2: True, 3: 'red', 4: 80.7}\n",
      "5\n"
     ]
    }
   ],
   "source": [
    "b_dict = {0:'engineer', 1:7, 2:True, 3:'red', 4:80.7}\n",
    "print(b_dict)\n",
    "print(len(b_dict))"
   ]
  },
  {
   "cell_type": "markdown",
   "metadata": {},
   "source": [
    "### Accessing elements"
   ]
  },
  {
   "cell_type": "code",
   "execution_count": 42,
   "metadata": {},
   "outputs": [
    {
     "name": "stdout",
     "output_type": "stream",
     "text": [
      "meat\n"
     ]
    }
   ],
   "source": [
    "b_dict = {0:'engineer', 1:7, 2:True, 3:'red', 4:80.7, 5:'fruits', 6:'meat', 7:'veggies'}\n",
    "print(b_dict[6])"
   ]
  },
  {
   "cell_type": "code",
   "execution_count": 40,
   "metadata": {},
   "outputs": [
    {
     "name": "stdout",
     "output_type": "stream",
     "text": [
      "True\n"
     ]
    }
   ],
   "source": [
    "#Using the get() method\n",
    "b_dict = {0:'engineer', 1:7, 2:True, 3:'red', 4:80.7}\n",
    "print(b_dict.get(2))"
   ]
  },
  {
   "cell_type": "markdown",
   "metadata": {},
   "source": [
    "### Changing & Adding Elements"
   ]
  },
  {
   "cell_type": "code",
   "execution_count": 43,
   "metadata": {},
   "outputs": [
    {
     "name": "stdout",
     "output_type": "stream",
     "text": [
      "After changing an element {0: 'engineer', 1: 7, 2: True, 3: 'red', 4: 80.7, 5: 'fruits', 6: 'fish', 7: 'veggies'}\n",
      "After adding an element {0: 'engineer', 1: 7, 2: True, 3: 'red', 4: 80.7, 5: 'fruits', 6: 'fish', 7: 'veggies', 8: 'humility'}\n"
     ]
    }
   ],
   "source": [
    "b_dict = {0:'engineer', 1:7, 2:True, 3:'red', 4:80.7, 5:'fruits', 6:'meat', 7:'veggies'}\n",
    "\n",
    "#Change element\n",
    "b_dict[6] = 'fish'\n",
    "print('After changing an element', b_dict)\n",
    "\n",
    "#Add element\n",
    "b_dict[8] = 'humility'\n",
    "print('After adding an element', b_dict)"
   ]
  },
  {
   "cell_type": "markdown",
   "metadata": {},
   "source": [
    "### Removing Elements"
   ]
  },
  {
   "cell_type": "code",
   "execution_count": 46,
   "metadata": {},
   "outputs": [
    {
     "name": "stdout",
     "output_type": "stream",
     "text": [
      "80.7\n",
      "(7, 'veggies')\n"
     ]
    }
   ],
   "source": [
    "b_dict = {0:'engineer', 1:7, 2:True, 3:'red', 4:80.7, 5:'fruits', 6:'meat', 7:'veggies'}\n",
    "print(b_dict.pop(4))\n",
    "\n",
    "#popitem: remove an arbitrary item and return(key, value)\n",
    "print(b_dict.popitem()) #Last item in the dict. goes"
   ]
  },
  {
   "cell_type": "markdown",
   "metadata": {},
   "source": [
    "### Display a list of a dictionary's(key, value) tuple pairs"
   ]
  },
  {
   "cell_type": "code",
   "execution_count": 47,
   "metadata": {},
   "outputs": [
    {
     "name": "stdout",
     "output_type": "stream",
     "text": [
      "dict_items([(0, 'engineer'), (1, 7), (2, True), (3, 'red'), (4, 80.7), (5, 'fruits'), (6, 'meat'), (7, 'veggies')])\n"
     ]
    }
   ],
   "source": [
    "b_dict = {0:'engineer', 1:7, 2:True, 3:'red', 4:80.7, 5:'fruits', 6:'meat', 7:'veggies'}\n",
    "print(b_dict.items())"
   ]
  },
  {
   "cell_type": "markdown",
   "metadata": {},
   "source": [
    "### Nested dictionaries"
   ]
  },
  {
   "cell_type": "code",
   "execution_count": 49,
   "metadata": {},
   "outputs": [
    {
     "name": "stdout",
     "output_type": "stream",
     "text": [
      "scientist\n"
     ]
    }
   ],
   "source": [
    "person = {'food': {0:'fruits', 1:'meat', 2:'veggies'},\n",
    "            'role': {0:'engineer', 1:'scientist'}, \n",
    "            'likes': {0:True, 1:'red', 2:80.7}\n",
    "           }\n",
    "\n",
    "print(person['role'][1])"
   ]
  },
  {
   "cell_type": "markdown",
   "metadata": {},
   "source": [
    "## First Week Mini-Project\n",
    "#### Madlibs fun word game"
   ]
  },
  {
   "cell_type": "code",
   "execution_count": null,
   "metadata": {},
   "outputs": [],
   "source": [
    "adj = input('Adjective: awesome')\n",
    "verb1 = input('Verb: like')\n",
    "verb2 = input('Verb: walk')\n",
    "famous_person = input('Famous person: Mr. Beast')\n",
    "\n",
    "madlib = f'Python programming is so {adj}! It makes me so excited all the time because \\\n",
    "I love to {verb1}. Stay hydrated and {verb2} like you are {famous_person}!'\n",
    "\n",
    "print(madlib)"
   ]
  },
  {
   "cell_type": "markdown",
   "metadata": {},
   "source": [
    "# Day 8"
   ]
  },
  {
   "cell_type": "markdown",
   "metadata": {},
   "source": [
    "## Python Functions\n",
    "- A function is a block of code that only runs when called.\n",
    "- One passes data, known as parameters, into a function."
   ]
  },
  {
   "cell_type": "code",
   "execution_count": 54,
   "metadata": {},
   "outputs": [
    {
     "name": "stdout",
     "output_type": "stream",
     "text": [
      "I am on the challenge of #60DaysofMachineLearning!\n"
     ]
    }
   ],
   "source": [
    "def my_function():\n",
    "    print('I am on the challenge of #60DaysofMachineLearning!')\n",
    "    \n",
    "my_function()"
   ]
  },
  {
   "cell_type": "markdown",
   "metadata": {},
   "source": [
    "### Arguments\n",
    "- They are included in parentheses following the function name."
   ]
  },
  {
   "cell_type": "code",
   "execution_count": 55,
   "metadata": {},
   "outputs": [
    {
     "name": "stdout",
     "output_type": "stream",
     "text": [
      "ML Engineer\n",
      "Data Engineer\n",
      "Cloud Engineer\n",
      "AI Engineer\n"
     ]
    }
   ],
   "source": [
    "def my_function(fname):\n",
    "    print(fname + ' Engineer')\n",
    "    \n",
    "my_function('ML')\n",
    "my_function('Data')\n",
    "my_function('Cloud')\n",
    "my_function('AI')"
   ]
  },
  {
   "cell_type": "markdown",
   "metadata": {},
   "source": [
    "# Day 9"
   ]
  },
  {
   "cell_type": "markdown",
   "metadata": {},
   "source": [
    "## Python Conditions and If Statements\n",
    "- Executes a specific block of code ONLY when the given condition is met."
   ]
  },
  {
   "cell_type": "markdown",
   "metadata": {},
   "source": [
    "### IF statements"
   ]
  },
  {
   "cell_type": "code",
   "execution_count": 1,
   "metadata": {},
   "outputs": [
    {
     "name": "stdout",
     "output_type": "stream",
     "text": [
      "b is greater than a\n"
     ]
    }
   ],
   "source": [
    "a = 53\n",
    "b = 777\n",
    "\n",
    "if b > a:\n",
    "    print('b is greater than a')"
   ]
  },
  {
   "cell_type": "markdown",
   "metadata": {},
   "source": [
    "### ELIF Statements\n",
    "- Attempt this condition if the preceding conditions were not met."
   ]
  },
  {
   "cell_type": "code",
   "execution_count": 3,
   "metadata": {},
   "outputs": [
    {
     "name": "stdout",
     "output_type": "stream",
     "text": [
      "a and b are equal\n"
     ]
    }
   ],
   "source": [
    "a = 73\n",
    "b = 73\n",
    "\n",
    "if b > a:\n",
    "    print('b is greater than a')\n",
    "elif a == b:\n",
    "    print('a and b are equal')"
   ]
  },
  {
   "cell_type": "markdown",
   "metadata": {},
   "source": [
    "### ELSE Statement\n",
    "- Anything notcovered in previous conditions is captured by the else keyword."
   ]
  },
  {
   "cell_type": "code",
   "execution_count": 6,
   "metadata": {},
   "outputs": [
    {
     "name": "stdout",
     "output_type": "stream",
     "text": [
      "a is greater than b\n"
     ]
    }
   ],
   "source": [
    "a = 737\n",
    "b = 73\n",
    "\n",
    "if b > a:\n",
    "    print('b is greater than a')\n",
    "elif a == b:\n",
    "    print('a and b are equal')\n",
    "else:\n",
    "    print('a is greater than b')"
   ]
  },
  {
   "cell_type": "markdown",
   "metadata": {},
   "source": [
    "### Nested IF Statements"
   ]
  },
  {
   "cell_type": "code",
   "execution_count": 11,
   "metadata": {},
   "outputs": [
    {
     "name": "stdout",
     "output_type": "stream",
     "text": [
      "Above thirty\n",
      "and also above fifty\n",
      "but equals to seventy three.\n"
     ]
    }
   ],
   "source": [
    "a = 73\n",
    "\n",
    "if a > 30:\n",
    "    print('Above thirty')\n",
    "    if a > 50:\n",
    "        print('and also above fifty')\n",
    "        if a == 73:\n",
    "            print('but equals to seventy three.')\n",
    "else:\n",
    "    print('but not above 40')"
   ]
  },
  {
   "cell_type": "markdown",
   "metadata": {},
   "source": [
    "### PASS Statements\n",
    "- Prevents an error when the 'IF' statement has no content."
   ]
  },
  {
   "cell_type": "code",
   "execution_count": 12,
   "metadata": {},
   "outputs": [],
   "source": [
    "a = 73\n",
    "b = 73\n",
    "\n",
    "if b > a:\n",
    "    pass"
   ]
  },
  {
   "cell_type": "markdown",
   "metadata": {},
   "source": [
    "# Day 10"
   ]
  },
  {
   "cell_type": "markdown",
   "metadata": {},
   "source": [
    "## Python While Loops\n",
    "- Used to repeat a block of code a certain amount of times as long as the condition is true."
   ]
  },
  {
   "cell_type": "code",
   "execution_count": 14,
   "metadata": {},
   "outputs": [
    {
     "name": "stdout",
     "output_type": "stream",
     "text": [
      "1\n",
      "2\n",
      "3\n",
      "4\n",
      "5\n",
      "6\n",
      "7\n",
      "8\n",
      "9\n",
      "10\n",
      "11\n"
     ]
    }
   ],
   "source": [
    "a = 1\n",
    "\n",
    "while a < 12:\n",
    "    print(a)\n",
    "    a += 1"
   ]
  },
  {
   "cell_type": "markdown",
   "metadata": {},
   "source": [
    "### Break Statement\n",
    "- Used to stop a loop from continuing to iterate even when the hile condition is true."
   ]
  },
  {
   "cell_type": "code",
   "execution_count": 15,
   "metadata": {},
   "outputs": [
    {
     "name": "stdout",
     "output_type": "stream",
     "text": [
      "1\n",
      "2\n",
      "3\n",
      "4\n",
      "5\n",
      "6\n",
      "7\n"
     ]
    }
   ],
   "source": [
    "a = 1\n",
    "\n",
    "while a < 12:\n",
    "    print(a)\n",
    "    if a == 7:\n",
    "        break\n",
    "    a += 1"
   ]
  },
  {
   "cell_type": "markdown",
   "metadata": {},
   "source": [
    "### Continue Statement\n",
    "- Stops the current iteration and skips to the next iteration."
   ]
  },
  {
   "cell_type": "code",
   "execution_count": 21,
   "metadata": {},
   "outputs": [
    {
     "name": "stdout",
     "output_type": "stream",
     "text": [
      "1\n",
      "2\n",
      "3\n",
      "4\n",
      "5\n",
      "6\n",
      "8\n",
      "9\n",
      "10\n",
      "11\n",
      "12\n"
     ]
    }
   ],
   "source": [
    "a = 0\n",
    "\n",
    "while a < 12:\n",
    "    a += 1\n",
    "    if a == 7:\n",
    "        continue\n",
    "    print(a)"
   ]
  },
  {
   "cell_type": "markdown",
   "metadata": {},
   "source": [
    "### Else Statement\n",
    "- Runs a block of code after the loop condition is no longer true."
   ]
  },
  {
   "cell_type": "code",
   "execution_count": 22,
   "metadata": {},
   "outputs": [
    {
     "name": "stdout",
     "output_type": "stream",
     "text": [
      "1\n",
      "2\n",
      "3\n",
      "4\n",
      "5\n",
      "6\n",
      "7\n",
      "8\n",
      "9\n",
      "10\n",
      "11\n",
      "a is no longer less than 12!\n"
     ]
    }
   ],
   "source": [
    "a = 1\n",
    "\n",
    "while a < 12:\n",
    "    print(a)\n",
    "    a += 1\n",
    "else:\n",
    "    print('a is no longer less than 12!')"
   ]
  },
  {
   "cell_type": "markdown",
   "metadata": {},
   "source": [
    "# Day 11"
   ]
  },
  {
   "cell_type": "markdown",
   "metadata": {},
   "source": [
    "## Python For Loops\n",
    "- Used to iterate through a sequence."
   ]
  },
  {
   "cell_type": "code",
   "execution_count": 5,
   "metadata": {},
   "outputs": [
    {
     "name": "stdout",
     "output_type": "stream",
     "text": [
      "fish\n",
      "mutton\n",
      "beef\n",
      "chicken\n",
      "goat\n",
      "crocodile\n"
     ]
    }
   ],
   "source": [
    "meat = ['fish', 'mutton', 'beef', 'chicken', 'goat', 'crocodile']\n",
    "\n",
    "for x in meat:\n",
    "    print(x)"
   ]
  },
  {
   "cell_type": "code",
   "execution_count": 6,
   "metadata": {},
   "outputs": [
    {
     "name": "stdout",
     "output_type": "stream",
     "text": [
      "fish\n",
      "mutton\n",
      "beef\n"
     ]
    }
   ],
   "source": [
    "#We can use 'break' statement to stop the loop before looping through all items\n",
    "meat = ['fish', 'mutton', 'beef', 'chicken', 'goat', 'crocodile']\n",
    "\n",
    "for x in meat:\n",
    "    print(x)\n",
    "    if x == 'beef':\n",
    "        break"
   ]
  },
  {
   "cell_type": "code",
   "execution_count": 7,
   "metadata": {},
   "outputs": [
    {
     "name": "stdout",
     "output_type": "stream",
     "text": [
      "fish\n",
      "mutton\n",
      "chicken\n",
      "goat\n",
      "crocodile\n"
     ]
    }
   ],
   "source": [
    "#We use 'continue' to end current iteration and move to the next\n",
    "meat = ['fish', 'mutton', 'beef', 'chicken', 'goat', 'crocodile']\n",
    "\n",
    "for x in meat:\n",
    "    if x == 'beef':\n",
    "        continue\n",
    "    print(x)"
   ]
  },
  {
   "cell_type": "code",
   "execution_count": 8,
   "metadata": {},
   "outputs": [
    {
     "name": "stdout",
     "output_type": "stream",
     "text": [
      "0\n",
      "1\n",
      "2\n",
      "3\n",
      "4\n",
      "5\n",
      "6\n",
      "7\n"
     ]
    }
   ],
   "source": [
    "#We use 'range()' to loop a certain number of times.\n",
    "# Starts at zero and by default advances by one\n",
    "\n",
    "for x in range(8):\n",
    "    print(x)"
   ]
  },
  {
   "cell_type": "markdown",
   "metadata": {},
   "source": [
    "### Nested Loops\n",
    "- A loop contained in another loop"
   ]
  },
  {
   "cell_type": "code",
   "execution_count": 14,
   "metadata": {},
   "outputs": [
    {
     "name": "stdout",
     "output_type": "stream",
     "text": [
      "fruits engineer fish\n",
      "fruits engineer mutton\n",
      "fruits engineer beef\n",
      "fruits 7 fish\n",
      "fruits 7 mutton\n",
      "fruits 7 beef\n",
      "fruits True fish\n",
      "fruits True mutton\n",
      "fruits True beef\n",
      "meat engineer fish\n",
      "meat engineer mutton\n",
      "meat engineer beef\n",
      "meat 7 fish\n",
      "meat 7 mutton\n",
      "meat 7 beef\n",
      "meat True fish\n",
      "meat True mutton\n",
      "meat True beef\n",
      "veggies engineer fish\n",
      "veggies engineer mutton\n",
      "veggies engineer beef\n",
      "veggies 7 fish\n",
      "veggies 7 mutton\n",
      "veggies 7 beef\n",
      "veggies True fish\n",
      "veggies True mutton\n",
      "veggies True beef\n"
     ]
    }
   ],
   "source": [
    "food = ['fruits', 'meat', 'veggies']\n",
    "a = ['engineer', 7, True]\n",
    "meat = ['fish', 'mutton', 'beef']\n",
    "\n",
    "for x in food:\n",
    "    for y in a:\n",
    "        for z in meat:\n",
    "            print(x, y, z)"
   ]
  },
  {
   "cell_type": "code",
   "execution_count": 15,
   "metadata": {},
   "outputs": [],
   "source": [
    "# 'Pass' statement prevents an error when the loop has no comment\n",
    "\n",
    "food = ['fruits', 'meat', 'veggies']\n",
    "\n",
    "for x in food:\n",
    "    pass"
   ]
  },
  {
   "cell_type": "markdown",
   "metadata": {},
   "source": [
    "# Day 12"
   ]
  },
  {
   "cell_type": "markdown",
   "metadata": {},
   "source": [
    "## Python Classes and Objects\n",
    "- A class are a means for bunding data and functionality together.\n",
    "- Creating a class creates an object with instances of that type which may have methods for modifying their states."
   ]
  },
  {
   "cell_type": "markdown",
   "metadata": {},
   "source": [
    "### Create a class"
   ]
  },
  {
   "cell_type": "code",
   "execution_count": 16,
   "metadata": {},
   "outputs": [],
   "source": [
    "class Myclass:\n",
    "    a = 7"
   ]
  },
  {
   "cell_type": "markdown",
   "metadata": {},
   "source": [
    "### Create an object"
   ]
  },
  {
   "cell_type": "code",
   "execution_count": 18,
   "metadata": {},
   "outputs": [
    {
     "name": "stdout",
     "output_type": "stream",
     "text": [
      "7\n"
     ]
    }
   ],
   "source": [
    "n1 = Myclass()\n",
    "print(n1.a)"
   ]
  },
  {
   "cell_type": "markdown",
   "metadata": {},
   "source": [
    "### The 'init()' function\n",
    "- Executed every time the class is launched.\n",
    "- Used to assign values to object properties or perform other operations required when the object is created."
   ]
  },
  {
   "cell_type": "code",
   "execution_count": 19,
   "metadata": {},
   "outputs": [
    {
     "name": "stdout",
     "output_type": "stream",
     "text": [
      "Bob\n",
      "37\n"
     ]
    }
   ],
   "source": [
    "# Create a class named Person, use init() to assign values for namr and age\n",
    "\n",
    "class Person:\n",
    "    def __init__(self, name, age):\n",
    "        self.name = name\n",
    "        self.age = age\n",
    "        \n",
    "n1 = Person('Bob', 37)\n",
    "\n",
    "print(n1.name)\n",
    "print(n1.age)"
   ]
  },
  {
   "cell_type": "markdown",
   "metadata": {},
   "source": [
    "### Object Methods\n",
    "- They are functions that belong to the object."
   ]
  },
  {
   "cell_type": "code",
   "execution_count": 30,
   "metadata": {},
   "outputs": [
    {
     "name": "stdout",
     "output_type": "stream",
     "text": [
      "Hello my name is Bob.\n"
     ]
    }
   ],
   "source": [
    "# Create a method in Person class, insert a function to print a greeting and execute on n1 object\n",
    "\n",
    "class Person:\n",
    "    def __init__(self, name, age):\n",
    "        self.name = name\n",
    "        self.age = age\n",
    "    def myfunc(self):\n",
    "        print('Hello my name is ' + self.name + '.')\n",
    "        \n",
    "n1 = Person('Bob', 37)\n",
    "n1.myfunc()"
   ]
  },
  {
   "cell_type": "markdown",
   "metadata": {},
   "source": [
    "### Self Parameter\n",
    "- Refers to current class instance and used to access class variables.\n",
    "- The 'self' parameter can be called any name & be the first parameter of any method in the class."
   ]
  },
  {
   "cell_type": "code",
   "execution_count": 33,
   "metadata": {},
   "outputs": [
    {
     "name": "stdout",
     "output_type": "stream",
     "text": [
      "Hello my name is Bob.\n"
     ]
    }
   ],
   "source": [
    "class Person:\n",
    "    def __init__(home, name, age):\n",
    "        home.name = name\n",
    "        home.age = age\n",
    "        \n",
    "    def myfunc(night):\n",
    "        print('Hello my name is ' + night.name + '.')\n",
    "        \n",
    "n1 = Person('Bob', 37)\n",
    "n1.myfunc()"
   ]
  },
  {
   "cell_type": "code",
   "execution_count": 34,
   "metadata": {},
   "outputs": [
    {
     "data": {
      "text/plain": [
       "37"
      ]
     },
     "execution_count": 34,
     "metadata": {},
     "output_type": "execute_result"
    }
   ],
   "source": [
    "# You can modify properties just like any other Python variables\n",
    "n1.age"
   ]
  },
  {
   "cell_type": "code",
   "execution_count": 38,
   "metadata": {},
   "outputs": [
    {
     "name": "stdout",
     "output_type": "stream",
     "text": [
      "Bob\n",
      "47\n"
     ]
    }
   ],
   "source": [
    "n1.age = 47\n",
    "print(n1.name)\n",
    "print(n1.age)"
   ]
  },
  {
   "cell_type": "markdown",
   "metadata": {},
   "source": [
    "# Day 13"
   ]
  },
  {
   "cell_type": "markdown",
   "metadata": {},
   "source": [
    "## Python Inheritance\n",
    "- Allows us to create a class(child/derived class) that inherits another class's(parent/base class) methods and properties."
   ]
  },
  {
   "cell_type": "markdown",
   "metadata": {},
   "source": [
    "### Creating a Parent Class"
   ]
  },
  {
   "cell_type": "code",
   "execution_count": 40,
   "metadata": {},
   "outputs": [
    {
     "name": "stdout",
     "output_type": "stream",
     "text": [
      "Bob Money\n"
     ]
    }
   ],
   "source": [
    "class Person:\n",
    "    def __init__(self, fname, lname):\n",
    "        self.firstname = fname\n",
    "        self.lastname = lname\n",
    "        \n",
    "    def printname(self):\n",
    "        print(self.firstname, self.lastname)\n",
    "        \n",
    "# Use Person class to create an object and execute the printname method\n",
    "x = Person('Bob', 'Money')\n",
    "x.printname()"
   ]
  },
  {
   "cell_type": "markdown",
   "metadata": {},
   "source": [
    "### Creating a Child Class\n",
    "Set parent class as a parameter when constructing a child class."
   ]
  },
  {
   "cell_type": "code",
   "execution_count": 41,
   "metadata": {},
   "outputs": [
    {
     "name": "stdout",
     "output_type": "stream",
     "text": [
      "Poke Mone\n"
     ]
    }
   ],
   "source": [
    "# Create a class named Student which inherits from the parent class\n",
    "\n",
    "class Student(Person):\n",
    "    pass\n",
    "\n",
    "x = Student('Poke', 'Mone')\n",
    "x.printname()"
   ]
  },
  {
   "cell_type": "markdown",
   "metadata": {},
   "source": [
    "### Using the Super function\n",
    "- Makes child inherit from parent without mentioning parent class when using 'super()' function."
   ]
  },
  {
   "cell_type": "code",
   "execution_count": 45,
   "metadata": {},
   "outputs": [],
   "source": [
    "class Student(Person): \n",
    "    def __init__(self, fname, lname):\n",
    "        super().__init__(self, fname, lname)"
   ]
  },
  {
   "cell_type": "markdown",
   "metadata": {},
   "source": [
    "### Add Properties & Methods"
   ]
  },
  {
   "cell_type": "code",
   "execution_count": 51,
   "metadata": {},
   "outputs": [],
   "source": [
    "# Add a property 'graduationyear' to Student class and add a year parameter & pass correct year when creating objects\n",
    "# Add a method 'welcome' to the Student class\n",
    "\n",
    "class Student(Person): \n",
    "    def __init__(self, fname, lname, year):\n",
    "        super().__init__(self, fname, lname)\n",
    "        self.graduationyear = 2022\n",
    "        \n",
    "    def welcome(self):\n",
    "        print('Welcome', self.firstname, self.lastname, 'to the class of', self.graduationyear)"
   ]
  },
  {
   "cell_type": "markdown",
   "metadata": {},
   "source": [
    "# Day 14"
   ]
  },
  {
   "cell_type": "markdown",
   "metadata": {},
   "source": [
    "## Data Prep\n",
    "- Web scrapping skills which involves dabbling in html code.\n",
    "- Visit website of interest, click f12, side panel appears, search element with text you want and parse."
   ]
  },
  {
   "cell_type": "code",
   "execution_count": 2,
   "metadata": {},
   "outputs": [
    {
     "name": "stdout",
     "output_type": "stream",
     "text": [
      "<title>Machine learning - Wikipedia</title>\n",
      "Machine learning - Wikipedia\n",
      "Machine learning (ML) is a field of inquiry devoted to understanding and building methods that 'learn', that is, methods that leverage data to improve performance on some set of tasks.[1] It is seen as a part of artificial intelligence. Machine learning algorithms build a model based on sample data, known as training data, in order to make predictions or decisions without being explicitly programmed to do so.[2] Machine learning algorithms are used in a wide variety of applications, such as in medicine, email filtering, speech recognition, agriculture, and computer vision, where it is difficult or unfeasible to develop conventional algorithms to perform the needed tasks.[3][4] \n",
      "A subset of machine learning is closely related to computational statistics, which focuses on making predictions using computers, but not all machine learning is statistical learning. The study of mathematical optimization delivers methods, theory and application domains to the field of machine learning. Data mining is a related field of study, focusing on exploratory data analysis through unsupervised learning.[6][7] Some implementations of machine learning use data and neural networks in a way that mimics the working of a biological brain.[8][9]  In its application across business problems, machine learning is also referred to as predictive analytics.\n",
      "\n"
     ]
    }
   ],
   "source": [
    "import requests\n",
    "from bs4 import BeautifulSoup\n",
    "\n",
    "# Download content from the website\n",
    "r = requests.get('https://en.wikipedia.org/wiki/Machine_Learning')\n",
    "\n",
    "# Parse the html content\n",
    "soup = BeautifulSoup(r.content, 'html.parser')\n",
    "\n",
    "# Extract the title from the article\n",
    "print(soup.title)\n",
    "print(soup.title.text)\n",
    "\n",
    "# Extract the first paragraph from the article\n",
    "first_paragrph = soup.find_all('p')[0]\n",
    "print(first_paragrph.text)"
   ]
  },
  {
   "cell_type": "markdown",
   "metadata": {},
   "source": [
    "$ Further  Practice  on  Webscraping  Required $ - https://www.youtube.com/watch?v=XVv6mJpFOb0&ab_channel=freeCodeCamp.org"
   ]
  },
  {
   "cell_type": "markdown",
   "metadata": {},
   "source": [
    "# Day 15"
   ]
  },
  {
   "cell_type": "markdown",
   "metadata": {},
   "source": [
    "## Data Prep 2\n",
    "After collecting raw data, you need to extract and prepare the info important to train the ML model.\n",
    "\n",
    "## Parsing Files\n",
    "Converting data from one format to another."
   ]
  },
  {
   "cell_type": "code",
   "execution_count": null,
   "metadata": {},
   "outputs": [],
   "source": [
    "# Opening a file\n",
    "f = open('ML.txt', 'rt')\n",
    "\n",
    "# Read files\n",
    "print(f.read())\n",
    "\n",
    "# Read line per line of a file\n",
    "f = open('ML.txt', 'rt')\n",
    "for x in f:\n",
    "    print(x)\n",
    "    \n",
    "# Write/Create Files\n",
    "f = open('demofile2.txt', 'a')\n",
    "f.write('Now the file has more content')\n",
    "f.close()\n",
    "\n",
    "#Open and read the file after the appending\n",
    "f = open('demofile2.txt', 'r')\n",
    "print(f.read())\n",
    "\n",
    "# Delete files\n",
    "# You must import the 'OS' module and run its 'os.remove()' function\n",
    "import os\n",
    "os.remove('demofile.txt')"
   ]
  },
  {
   "cell_type": "markdown",
   "metadata": {},
   "source": [
    "# Day 16"
   ]
  },
  {
   "cell_type": "markdown",
   "metadata": {},
   "source": [
    "## Data Management using SQL with Python\n",
    "Python is used in database applications and one of the most popular databases is MySQL"
   ]
  },
  {
   "cell_type": "code",
   "execution_count": 19,
   "metadata": {},
   "outputs": [],
   "source": [
    "# Testing the connection\n",
    "import mysql.connector"
   ]
  },
  {
   "cell_type": "code",
   "execution_count": 20,
   "metadata": {},
   "outputs": [
    {
     "name": "stdout",
     "output_type": "stream",
     "text": [
      "<mysql.connector.connection_cext.CMySQLConnection object at 0x000002374D2883D0>\n"
     ]
    }
   ],
   "source": [
    "# Creating a connection to the database\n",
    "mydb = mysql.connector.connect(host = 'localhost',\n",
    "                              user = 'root',\n",
    "                              password = '@Brian/2001'\n",
    "                              )\n",
    "print(mydb)"
   ]
  },
  {
   "cell_type": "code",
   "execution_count": 23,
   "metadata": {},
   "outputs": [],
   "source": [
    "# Create a database(Use 'CREATE DATABASE' statement)\n",
    "mydb = mysql.connector.connect(host = 'localhost',\n",
    "                              user = 'root',\n",
    "                              password = '@Brian/2001'\n",
    "                              )\n",
    "mycursor = mydb.cursor()\n",
    "mycursor.execute('CREATE DATABASE mydatabase1')"
   ]
  },
  {
   "cell_type": "code",
   "execution_count": 13,
   "metadata": {},
   "outputs": [],
   "source": [
    "# Create a table(Use 'CREATE TABLE' statement)\n",
    "mydb = mysql.connector.connect(host = 'localhost',\n",
    "                              user = 'root',\n",
    "                              password = '@Brian/2001',\n",
    "                               database = 'mydatabase1'\n",
    "                              )\n",
    "mycursor = mydb.cursor()\n",
    "mycursor.execute('CREATE TABLE customers(name VARCHAR(255), address VARCHAR(255))')"
   ]
  },
  {
   "cell_type": "markdown",
   "metadata": {},
   "source": [
    "# Day 17"
   ]
  },
  {
   "cell_type": "markdown",
   "metadata": {},
   "source": [
    "## Data Management - Adding & Updating Records to a Table\n",
    "Use the 'INSERT INTO' statement."
   ]
  },
  {
   "cell_type": "code",
   "execution_count": 27,
   "metadata": {},
   "outputs": [
    {
     "name": "stdout",
     "output_type": "stream",
     "text": [
      "1 record inserted.\n"
     ]
    }
   ],
   "source": [
    "# Insert a record in the 'customers' table\n",
    "import mysql.connector\n",
    "mydb = mysql.connector.connect(host = 'localhost',\n",
    "                              user = 'root',\n",
    "                              password = '@Brian/2001',\n",
    "                               database = 'mydatabase1'\n",
    "                              )\n",
    "\n",
    "mycursor = mydb.cursor()\n",
    "\n",
    "sql = 'INSERT INTO customers (name, address) VALUES (%s, %s)'\n",
    "val = ('John', 'Highway 21')\n",
    "\n",
    "mycursor.execute(sql, val)\n",
    "\n",
    "mydb.commit()\n",
    "\n",
    "print(mycursor.rowcount, 'record inserted.')"
   ]
  },
  {
   "cell_type": "markdown",
   "metadata": {},
   "source": [
    "### Insert Multiple rows\n",
    "* use the 'executemany()' method\n",
    "* The 2nd parameter of the executemany() is a lst of tuples containing the data you want to insert"
   ]
  },
  {
   "cell_type": "code",
   "execution_count": 31,
   "metadata": {},
   "outputs": [
    {
     "name": "stdout",
     "output_type": "stream",
     "text": [
      "7 more records inserted.\n"
     ]
    }
   ],
   "source": [
    "import mysql.connector\n",
    "mydb = mysql.connector.connect(host = 'localhost',\n",
    "                              user = 'root',\n",
    "                              password = '@Brian/2001',\n",
    "                               database = 'mydatabase1'\n",
    "                              )\n",
    "\n",
    "mycursor = mydb.cursor()\n",
    "\n",
    "sql = 'INSERT INTO customers (name, address) VALUES (%s, %s)'\n",
    "val = [\n",
    "    ('Kim', 'High 4'),\n",
    "    ('Yolo', 'Came 54'),\n",
    "    ('Did', 'Databease 9'),\n",
    "    ('Won', '57 Waters'),\n",
    "    ('Ball', 'Monies 7'),\n",
    "    ('Gifty', 'Leeway 98'),\n",
    "    ('Understood', 'Remote 7')\n",
    "]\n",
    "\n",
    "mycursor.executemany(sql, val)\n",
    "\n",
    "mydb.commit()\n",
    "\n",
    "print(mycursor.rowcount, 'more records inserted.')"
   ]
  },
  {
   "cell_type": "markdown",
   "metadata": {},
   "source": [
    "### Insert an ID\n",
    "* You can get the id of the row you just inserted by asking the cursor object"
   ]
  },
  {
   "cell_type": "code",
   "execution_count": 32,
   "metadata": {},
   "outputs": [
    {
     "name": "stdout",
     "output_type": "stream",
     "text": [
      "1 record inserted, ID: 0\n"
     ]
    }
   ],
   "source": [
    "import mysql.connector\n",
    "mydb = mysql.connector.connect(host = 'localhost',\n",
    "                              user = 'root',\n",
    "                              password = '@Brian/2001',\n",
    "                               database = 'mydatabase1'\n",
    "                              )\n",
    "\n",
    "mycursor = mydb.cursor()\n",
    "\n",
    "sql = 'INSERT INTO customers (name, address) VALUES (%s, %s)'\n",
    "val = ('Role', 'Engineer 7')\n",
    "\n",
    "mycursor.execute(sql, val)\n",
    "\n",
    "mydb.commit()\n",
    "\n",
    "print('1 record inserted, ID:', mycursor.lastrowid)"
   ]
  },
  {
   "cell_type": "markdown",
   "metadata": {},
   "source": [
    "### Update a table\n",
    "* Use the 'UPDATE' statement"
   ]
  },
  {
   "cell_type": "code",
   "execution_count": 37,
   "metadata": {},
   "outputs": [
    {
     "name": "stdout",
     "output_type": "stream",
     "text": [
      "1 record(s) affected\n"
     ]
    }
   ],
   "source": [
    "# Overwrite the address column from 'Databease 9' to 'Landjob 123'\n",
    "import mysql.connector\n",
    "mydb = mysql.connector.connect(host = 'localhost',\n",
    "                              user = 'root',\n",
    "                              password = '@Brian/2001',\n",
    "                               database = 'mydatabase1'\n",
    "                              )\n",
    "\n",
    "mycursor = mydb.cursor()\n",
    "\n",
    "sql = \"UPDATE customers SET address = 'Jobland 123' WHERE address = 'Databease 9'\"\n",
    "\n",
    "mycursor.execute(sql)\n",
    "\n",
    "mydb.commit()\n",
    "\n",
    "print(mycursor.rowcount, 'record(s) affected')"
   ]
  },
  {
   "cell_type": "markdown",
   "metadata": {},
   "source": [
    "# Day 18"
   ]
  },
  {
   "cell_type": "markdown",
   "metadata": {},
   "source": [
    "## Database Management - Reading Database Records\n",
    "You need use the SELECT keyword to get results from a table."
   ]
  },
  {
   "cell_type": "code",
   "execution_count": 41,
   "metadata": {},
   "outputs": [
    {
     "name": "stdout",
     "output_type": "stream",
     "text": [
      "('John', 'Highway 21')\n",
      "('Kim', 'High 4')\n",
      "('Yolo', 'Came 54')\n",
      "('Did', 'Jobland 123')\n",
      "('Won', '57 Waters')\n",
      "('Ball', 'Monies 7')\n",
      "('Gifty', 'Leeway 98')\n",
      "('Understood', 'Remote 7')\n",
      "('Role', 'Engineer 7')\n"
     ]
    }
   ],
   "source": [
    "# Select all records from the 'customers' table and display the result\n",
    "import mysql.connector\n",
    "mydb = mysql.connector.connect(host = 'localhost',\n",
    "                              user = 'root',\n",
    "                              password = '@Brian/2001',\n",
    "                               database = 'mydatabase1'\n",
    "                              )\n",
    "\n",
    "mycursor = mydb.cursor()\n",
    "\n",
    "mycursor.execute('SELECT * FROM customers')\n",
    "\n",
    "myresult = mycursor.fetchall()\n",
    "\n",
    "for x in myresult:\n",
    "    print(x)"
   ]
  },
  {
   "cell_type": "markdown",
   "metadata": {},
   "source": [
    "### Selecting Columns"
   ]
  },
  {
   "cell_type": "code",
   "execution_count": 44,
   "metadata": {},
   "outputs": [
    {
     "name": "stdout",
     "output_type": "stream",
     "text": [
      "('Highway 21',)\n",
      "('High 4',)\n",
      "('Came 54',)\n",
      "('Jobland 123',)\n",
      "('57 Waters',)\n",
      "('Monies 7',)\n",
      "('Leeway 98',)\n",
      "('Remote 7',)\n",
      "('Engineer 7',)\n"
     ]
    }
   ],
   "source": [
    "import mysql.connector\n",
    "mydb = mysql.connector.connect(host = 'localhost',\n",
    "                              user = 'root',\n",
    "                              password = '@Brian/2001',\n",
    "                               database = 'mydatabase1'\n",
    "                              )\n",
    "\n",
    "mycursor = mydb.cursor()\n",
    "\n",
    "mycursor.execute('SELECT address FROM customers')\n",
    "\n",
    "myresult = mycursor.fetchall()\n",
    "\n",
    "for x in myresult:\n",
    "    print(x)"
   ]
  },
  {
   "cell_type": "markdown",
   "metadata": {},
   "source": [
    "### Selecting one row"
   ]
  },
  {
   "cell_type": "code",
   "execution_count": 50,
   "metadata": {},
   "outputs": [
    {
     "name": "stdout",
     "output_type": "stream",
     "text": [
      "John\n",
      "Highway 21\n"
     ]
    }
   ],
   "source": [
    "# Use 'fetchone()' method to select one row\n",
    "import mysql.connector\n",
    "mydb = mysql.connector.connect(host = 'localhost',\n",
    "                              user = 'root',\n",
    "                              password = '@Brian/2001',\n",
    "                               database = 'mydatabase1'\n",
    "                              )\n",
    "\n",
    "mycursor = mydb.cursor()\n",
    "\n",
    "mycursor.execute('SELECT name, address FROM customers')\n",
    "\n",
    "myresult = mycursor.fetchone()\n",
    "\n",
    "for x in myresult:\n",
    "    print(x)"
   ]
  },
  {
   "cell_type": "markdown",
   "metadata": {},
   "source": [
    "### Limiting returned results\n",
    "Use the 'LIMIT' statement"
   ]
  },
  {
   "cell_type": "code",
   "execution_count": 53,
   "metadata": {},
   "outputs": [
    {
     "name": "stdout",
     "output_type": "stream",
     "text": [
      "('John', 'Highway 21')\n",
      "('Kim', 'High 4')\n",
      "('Yolo', 'Came 54')\n"
     ]
    }
   ],
   "source": [
    "# Select the first 3 records in the 'customers' table\n",
    "import mysql.connector\n",
    "mydb = mysql.connector.connect(host = 'localhost',\n",
    "                              user = 'root',\n",
    "                              password = '@Brian/2001',\n",
    "                               database = 'mydatabase1'\n",
    "                              )\n",
    "\n",
    "mycursor = mydb.cursor()\n",
    "\n",
    "mycursor.execute('SELECT * FROM customers LIMIT 3')\n",
    "\n",
    "myresult = mycursor.fetchall()\n",
    "\n",
    "for x in myresult:\n",
    "    print(x)"
   ]
  },
  {
   "cell_type": "markdown",
   "metadata": {},
   "source": [
    "# Day 19"
   ]
  },
  {
   "cell_type": "markdown",
   "metadata": {},
   "source": [
    "## Database Management - Filtering Records\n",
    "* When selecting records, you can filter using the 'WHERE' satement"
   ]
  },
  {
   "cell_type": "code",
   "execution_count": 56,
   "metadata": {},
   "outputs": [
    {
     "name": "stdout",
     "output_type": "stream",
     "text": [
      "('Understood', 'Remote 7')\n"
     ]
    }
   ],
   "source": [
    "# Select record where the address is 'Remote 7'\n",
    "import mysql.connector\n",
    "mydb = mysql.connector.connect(host = 'localhost',\n",
    "                              user = 'root',\n",
    "                              password = '@Brian/2001',\n",
    "                               database = 'mydatabase1'\n",
    "                              )\n",
    "\n",
    "mycursor = mydb.cursor()\n",
    "\n",
    "sql = \"SELECT * FROM customers WHERE address = 'Remote 7'\"\n",
    "\n",
    "mycursor.execute(sql)\n",
    "\n",
    "myresult = mycursor.fetchall()\n",
    "\n",
    "for x in myresult:\n",
    "    print(x)"
   ]
  },
  {
   "cell_type": "code",
   "execution_count": 57,
   "metadata": {},
   "outputs": [
    {
     "name": "stdout",
     "output_type": "stream",
     "text": [
      "('Understood', 'Remote 7')\n"
     ]
    }
   ],
   "source": [
    "import mysql.connector\n",
    "mydb = mysql.connector.connect(host = 'localhost',\n",
    "                              user = 'root',\n",
    "                              password = '@Brian/2001',\n",
    "                               database = 'mydatabase1'\n",
    "                              )\n",
    "\n",
    "mycursor = mydb.cursor()\n",
    "\n",
    "mycursor.execute(\"SELECT * FROM customers WHERE address = 'Remote 7'\")\n",
    "\n",
    "myresult = mycursor.fetchall()\n",
    "\n",
    "for x in myresult:\n",
    "    print(x)"
   ]
  },
  {
   "cell_type": "markdown",
   "metadata": {},
   "source": [
    "### Wildcard Characters\n",
    "You can select records with certain characters/phrases.\n",
    "Use the % to rep. wildcard characters"
   ]
  },
  {
   "cell_type": "code",
   "execution_count": 58,
   "metadata": {},
   "outputs": [
    {
     "name": "stdout",
     "output_type": "stream",
     "text": [
      "('John', 'Highway 21')\n",
      "('Gifty', 'Leeway 98')\n"
     ]
    }
   ],
   "source": [
    "# Select records where address contains the word 'way'\n",
    "import mysql.connector\n",
    "mydb = mysql.connector.connect(host = 'localhost',\n",
    "                              user = 'root',\n",
    "                              password = '@Brian/2001',\n",
    "                               database = 'mydatabase1'\n",
    "                              )\n",
    "\n",
    "mycursor = mydb.cursor()\n",
    "\n",
    "mycursor.execute(\"SELECT * FROM customers WHERE address LIKE '%WAY%'\")\n",
    "\n",
    "myresult = mycursor.fetchall()\n",
    "\n",
    "for x in myresult:\n",
    "    print(x)"
   ]
  },
  {
   "cell_type": "markdown",
   "metadata": {},
   "source": [
    "### Prevent SQL Injection\n",
    "When the user provides query values, you should escape the values to avoid SQL injections.\n",
    "\n",
    "Use the placeholders '%s' method to escape query values"
   ]
  },
  {
   "cell_type": "code",
   "execution_count": 60,
   "metadata": {},
   "outputs": [],
   "source": [
    "import mysql.connector\n",
    "mydb = mysql.connector.connect(host = 'localhost',\n",
    "                              user = 'root',\n",
    "                              password = '@Brian/2001',\n",
    "                               database = 'mydatabase1'\n",
    "                              )\n",
    "\n",
    "mycursor = mydb.cursor()\n",
    "\n",
    "sql = \"SELECT * FROM customers WHERE address = '%s'\"\n",
    "adr = ('Engineer 7')\n",
    "\n",
    "mycursor.execute(sql)\n",
    "\n",
    "myresult = mycursor.fetchall()\n",
    "\n",
    "for x in myresult:\n",
    "    print(x)"
   ]
  },
  {
   "cell_type": "markdown",
   "metadata": {},
   "source": [
    "# Day 20"
   ]
  },
  {
   "cell_type": "markdown",
   "metadata": {},
   "source": [
    "## Database Management - Sorting Records\n",
    "Use the 'OREDR BY' command to sort in ASC/DESC order. By default, the command sorts in ascending."
   ]
  },
  {
   "cell_type": "code",
   "execution_count": 61,
   "metadata": {},
   "outputs": [
    {
     "name": "stdout",
     "output_type": "stream",
     "text": [
      "('Ball', 'Monies 7')\n",
      "('Did', 'Jobland 123')\n",
      "('Gifty', 'Leeway 98')\n",
      "('John', 'Highway 21')\n",
      "('Kim', 'High 4')\n",
      "('Role', 'Engineer 7')\n",
      "('Understood', 'Remote 7')\n",
      "('Won', '57 Waters')\n",
      "('Yolo', 'Came 54')\n"
     ]
    }
   ],
   "source": [
    "import mysql.connector\n",
    "mydb = mysql.connector.connect(host = 'localhost',\n",
    "                              user = 'root',\n",
    "                              password = '@Brian/2001',\n",
    "                               database = 'mydatabase1'\n",
    "                              )\n",
    "\n",
    "mycursor = mydb.cursor()\n",
    "\n",
    "sql = \"SELECT * FROM customers ORDER BY name\"\n",
    "adr = ('Engineer 7')\n",
    "\n",
    "mycursor.execute(sql)\n",
    "\n",
    "myresult = mycursor.fetchall()\n",
    "\n",
    "for x in myresult:\n",
    "    print(x)"
   ]
  },
  {
   "cell_type": "code",
   "execution_count": 62,
   "metadata": {},
   "outputs": [
    {
     "name": "stdout",
     "output_type": "stream",
     "text": [
      "('Yolo', 'Came 54')\n",
      "('Won', '57 Waters')\n",
      "('Understood', 'Remote 7')\n",
      "('Role', 'Engineer 7')\n",
      "('Kim', 'High 4')\n",
      "('John', 'Highway 21')\n",
      "('Gifty', 'Leeway 98')\n",
      "('Did', 'Jobland 123')\n",
      "('Ball', 'Monies 7')\n"
     ]
    }
   ],
   "source": [
    "import mysql.connector\n",
    "mydb = mysql.connector.connect(host = 'localhost',\n",
    "                              user = 'root',\n",
    "                              password = '@Brian/2001',\n",
    "                               database = 'mydatabase1'\n",
    "                              )\n",
    "\n",
    "mycursor = mydb.cursor()\n",
    "\n",
    "sql = \"SELECT * FROM customers ORDER BY name DESC\"\n",
    "adr = ('Engineer 7')\n",
    "\n",
    "mycursor.execute(sql)\n",
    "\n",
    "myresult = mycursor.fetchall()\n",
    "\n",
    "for x in myresult:\n",
    "    print(x)"
   ]
  },
  {
   "cell_type": "markdown",
   "metadata": {},
   "source": [
    "# Day 21"
   ]
  },
  {
   "cell_type": "markdown",
   "metadata": {},
   "source": [
    "## Data Management - Delete Records\n",
    "- Use the 'DELETE FROM' statement"
   ]
  },
  {
   "cell_type": "code",
   "execution_count": 4,
   "metadata": {},
   "outputs": [
    {
     "name": "stdout",
     "output_type": "stream",
     "text": [
      "0 record(s) deleted\n"
     ]
    }
   ],
   "source": [
    "# Delete any record where the address is '57 Waters'\n",
    "import mysql.connector\n",
    "mydb = mysql.connector.connect(host = 'localhost',\n",
    "                              user = 'root',\n",
    "                              password = '@Brian/2001',\n",
    "                               database = 'mydatabase1'\n",
    "                              )\n",
    "\n",
    "mycursor = mydb.cursor()\n",
    "\n",
    "sql = \"DELETE FROM customers WHERE address = '57 Waters'\"\n",
    "\n",
    "mycursor.execute(sql)\n",
    "\n",
    "mydb.commit()\n",
    "\n",
    "print(mycursor.rowcount, 'record(s) deleted')"
   ]
  },
  {
   "cell_type": "markdown",
   "metadata": {},
   "source": [
    "### Delete a table\n",
    "- Use the 'DROP TABLE' statement\n",
    "- If the table you intend to delete has been deleted before, use 'IF EXISTS' to avoid an error."
   ]
  },
  {
   "cell_type": "code",
   "execution_count": 10,
   "metadata": {},
   "outputs": [],
   "source": [
    "#Drop the table customers\n",
    "import mysql.connector\n",
    "mydb = mysql.connector.connect(host = 'localhost',\n",
    "                              user = 'root',\n",
    "                              password = '@Brian/2001',\n",
    "                               database = 'mydatabase1'\n",
    "                              )\n",
    "\n",
    "mycursor = mydb.cursor()\n",
    "\n",
    "sql = \"DROP TABLE customers\"\n",
    "\n",
    "mycursor.execute(sql)"
   ]
  },
  {
   "cell_type": "code",
   "execution_count": 11,
   "metadata": {},
   "outputs": [],
   "source": [
    "import mysql.connector\n",
    "mydb = mysql.connector.connect(host = 'localhost',\n",
    "                              user = 'root',\n",
    "                              password = '@Brian/2001',\n",
    "                               database = 'mydatabase1'\n",
    "                              )\n",
    "\n",
    "mycursor = mydb.cursor()\n",
    "\n",
    "sql = \"DROP TABLE IF EXISTS customers\"\n",
    "\n",
    "mycursor.execute(sql)"
   ]
  },
  {
   "cell_type": "markdown",
   "metadata": {},
   "source": [
    "# Day 22"
   ]
  },
  {
   "cell_type": "markdown",
   "metadata": {},
   "source": [
    "## Data Management - Updating Tables\n",
    "- Use the 'UPDATE' statement"
   ]
  },
  {
   "cell_type": "code",
   "execution_count": 15,
   "metadata": {},
   "outputs": [
    {
     "name": "stdout",
     "output_type": "stream",
     "text": [
      "0 record(s) affected\n"
     ]
    }
   ],
   "source": [
    "# Overwrite 'Came 54' to 'Maximize Time'\n",
    "import mysql.connector\n",
    "mydb = mysql.connector.connect(host = 'localhost',\n",
    "                              user = 'root',\n",
    "                              password = '@Brian/2001',\n",
    "                               database = 'mydatabase1'\n",
    "                              )\n",
    "\n",
    "mycursor = mydb.cursor()\n",
    "\n",
    "sql = \"UPDATE customers SET address = 'Maximize Time' WHERE address = 'Came 54'\"\n",
    "\n",
    "mycursor.execute(sql)\n",
    "\n",
    "mydb.commit()\n",
    "\n",
    "print(mycursor.rowcount, 'record(s) affected')"
   ]
  },
  {
   "cell_type": "code",
   "execution_count": null,
   "metadata": {},
   "outputs": [],
   "source": []
  }
 ],
 "metadata": {
  "kernelspec": {
   "display_name": "Python (project_practice)",
   "language": "python",
   "name": "project_practice"
  },
  "language_info": {
   "codemirror_mode": {
    "name": "ipython",
    "version": 3
   },
   "file_extension": ".py",
   "mimetype": "text/x-python",
   "name": "python",
   "nbconvert_exporter": "python",
   "pygments_lexer": "ipython3",
   "version": "3.9.13"
  }
 },
 "nbformat": 4,
 "nbformat_minor": 4
}
