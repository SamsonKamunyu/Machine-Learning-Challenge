{
 "cells": [
  {
   "cell_type": "markdown",
   "metadata": {},
   "source": [
    "# Day 1 - 1st Nov, 2022"
   ]
  },
  {
   "cell_type": "markdown",
   "metadata": {},
   "source": [
    "## What is Python?\n",
    "A high level multi-purpose programming language.\n",
    "\n",
    "Supports both object oriented and procedural programming styles.\n",
    "\n",
    "It has a wide range of libraries and frameworks which makes its use popular in Machine Learning."
   ]
  },
  {
   "cell_type": "markdown",
   "metadata": {},
   "source": [
    "# Day 2"
   ]
  },
  {
   "cell_type": "markdown",
   "metadata": {},
   "source": [
    "## Python Data Types\n",
    "They represent the kind of value variables can hold and the operations that can be performed on a particular data."
   ]
  },
  {
   "cell_type": "markdown",
   "metadata": {},
   "source": [
    "### a. Integer"
   ]
  },
  {
   "cell_type": "code",
   "execution_count": 1,
   "metadata": {},
   "outputs": [
    {
     "name": "stdout",
     "output_type": "stream",
     "text": [
      "5\n",
      "<class 'int'>\n"
     ]
    }
   ],
   "source": [
    "var = 5\n",
    "print(var)\n",
    "print(type(var))"
   ]
  },
  {
   "cell_type": "markdown",
   "metadata": {},
   "source": [
    "### b. Float"
   ]
  },
  {
   "cell_type": "code",
   "execution_count": 2,
   "metadata": {},
   "outputs": [
    {
     "name": "stdout",
     "output_type": "stream",
     "text": [
      "0.789\n",
      "<class 'float'>\n"
     ]
    }
   ],
   "source": [
    "var2 = 0.789\n",
    "print(var2)\n",
    "print(type(var2))"
   ]
  },
  {
   "cell_type": "markdown",
   "metadata": {},
   "source": [
    "### c. Complex Numbers"
   ]
  },
  {
   "cell_type": "code",
   "execution_count": 3,
   "metadata": {},
   "outputs": [
    {
     "name": "stdout",
     "output_type": "stream",
     "text": [
      "2j\n",
      "<class 'complex'>\n"
     ]
    }
   ],
   "source": [
    "x = 2j\n",
    "print(x)\n",
    "print(type(x))"
   ]
  },
  {
   "cell_type": "markdown",
   "metadata": {},
   "source": [
    "### d. String"
   ]
  },
  {
   "cell_type": "code",
   "execution_count": 4,
   "metadata": {},
   "outputs": [
    {
     "name": "stdout",
     "output_type": "stream",
     "text": [
      "Hello World!\n",
      "<class 'str'>\n"
     ]
    }
   ],
   "source": [
    "greeting = 'Hello World!'\n",
    "print(greeting)\n",
    "print(type(greeting))"
   ]
  },
  {
   "cell_type": "markdown",
   "metadata": {},
   "source": [
    "### e. Lists"
   ]
  },
  {
   "cell_type": "code",
   "execution_count": 5,
   "metadata": {},
   "outputs": [
    {
     "name": "stdout",
     "output_type": "stream",
     "text": [
      "['Outback', 'Mercedes', 'Maserati']\n",
      "<class 'list'>\n"
     ]
    }
   ],
   "source": [
    "l1 = ['Outback', 'Mercedes', 'Maserati']\n",
    "print(l1)\n",
    "print(type(l1))"
   ]
  },
  {
   "cell_type": "markdown",
   "metadata": {},
   "source": [
    "### f. Tuple"
   ]
  },
  {
   "cell_type": "code",
   "execution_count": 6,
   "metadata": {},
   "outputs": [
    {
     "name": "stdout",
     "output_type": "stream",
     "text": [
      "('Outback', 'Mercedes', 'Maserati')\n",
      "<class 'tuple'>\n"
     ]
    }
   ],
   "source": [
    "t1 = ('Outback', 'Mercedes', 'Maserati')\n",
    "print(t1)\n",
    "print(type(t1))"
   ]
  },
  {
   "cell_type": "markdown",
   "metadata": {},
   "source": [
    "### g. Dictionary"
   ]
  },
  {
   "cell_type": "code",
   "execution_count": 7,
   "metadata": {},
   "outputs": [
    {
     "name": "stdout",
     "output_type": "stream",
     "text": [
      "{'Name': 'Samson', 'Role': 'ML-Eng', 'Location': 'Remote', 'Start': 'January-2023'}\n",
      "<class 'dict'>\n"
     ]
    }
   ],
   "source": [
    "soon = {'Name': 'Samson', 'Role':'ML-Eng', 'Location':'Remote', 'Start': 'January-2023'}\n",
    "print(soon)\n",
    "print(type(soon))"
   ]
  },
  {
   "cell_type": "markdown",
   "metadata": {},
   "source": [
    "### h. Set"
   ]
  },
  {
   "cell_type": "code",
   "execution_count": 8,
   "metadata": {},
   "outputs": [
    {
     "name": "stdout",
     "output_type": "stream",
     "text": [
      "{'Remote', 'ML-Eng', 'Samson', 'January-2023'}\n",
      "<class 'set'>\n"
     ]
    }
   ],
   "source": [
    "s1 = set({'Samson', 'ML-Eng', 'Remote', 'January-2023'})\n",
    "print(s1)\n",
    "print(type(s1))"
   ]
  },
  {
   "cell_type": "markdown",
   "metadata": {},
   "source": [
    "### i. Frozen Set"
   ]
  },
  {
   "cell_type": "code",
   "execution_count": 9,
   "metadata": {},
   "outputs": [
    {
     "name": "stdout",
     "output_type": "stream",
     "text": [
      "frozenset({'Remote', 'ML-Eng', 'Samson', 'January-2023'})\n",
      "<class 'frozenset'>\n"
     ]
    }
   ],
   "source": [
    "s2 = frozenset({'Remote', 'Samson', 'ML-Eng', 'Remote', 'January-2023', 'ML-Eng'})\n",
    "print(s2)\n",
    "print(type(s2))"
   ]
  },
  {
   "cell_type": "markdown",
   "metadata": {},
   "source": [
    "### j. Boolean"
   ]
  },
  {
   "cell_type": "code",
   "execution_count": 10,
   "metadata": {},
   "outputs": [
    {
     "name": "stdout",
     "output_type": "stream",
     "text": [
      "True\n",
      "<class 'bool'>\n"
     ]
    }
   ],
   "source": [
    "tf = True\n",
    "print(tf)\n",
    "print(type(tf))"
   ]
  },
  {
   "cell_type": "markdown",
   "metadata": {},
   "source": [
    "### k. Byte"
   ]
  },
  {
   "cell_type": "code",
   "execution_count": 11,
   "metadata": {},
   "outputs": [
    {
     "name": "stdout",
     "output_type": "stream",
     "text": [
      "b'Outback'\n",
      "<class 'bytes'>\n"
     ]
    }
   ],
   "source": [
    "b1 = b'Outback'\n",
    "print(b1)\n",
    "print(type(b1))"
   ]
  },
  {
   "cell_type": "markdown",
   "metadata": {},
   "source": [
    "# Day 3"
   ]
  },
  {
   "cell_type": "markdown",
   "metadata": {},
   "source": [
    "## Python Operators\n",
    "They are the contructs that manipulate the value of operands."
   ]
  },
  {
   "cell_type": "markdown",
   "metadata": {},
   "source": [
    "### a. Arithmetic Operators"
   ]
  },
  {
   "cell_type": "code",
   "execution_count": 12,
   "metadata": {},
   "outputs": [
    {
     "name": "stdout",
     "output_type": "stream",
     "text": [
      "Addition: 7\n",
      "Subtraction: 1\n",
      "Multiplication: 12\n",
      "Division: 1.3333333333333333\n",
      "Modulus: 1\n",
      "Floor Division: 1\n",
      "Exponent: 7\n"
     ]
    }
   ],
   "source": [
    "x = 4\n",
    "y = 3\n",
    "\n",
    "print('Addition:', x+y)\n",
    "print('Subtraction:', x-y)\n",
    "print('Multiplication:', x*y)\n",
    "print('Division:', x/y)\n",
    "print('Modulus:', x%y)\n",
    "print('Floor Division:', x//y)\n",
    "print('Exponent:', x+y)"
   ]
  },
  {
   "cell_type": "markdown",
   "metadata": {},
   "source": [
    "### b. Comparison Operators"
   ]
  },
  {
   "cell_type": "code",
   "execution_count": 13,
   "metadata": {},
   "outputs": [
    {
     "name": "stdout",
     "output_type": "stream",
     "text": [
      "Greater than: True\n",
      "Less than: False\n",
      "Greater than equal to: True\n",
      "Less than equal to: False\n",
      "Not equal to: True\n",
      "Equal to: False\n"
     ]
    }
   ],
   "source": [
    "#Result is either true or false\n",
    "\n",
    "x = 4\n",
    "y = 3\n",
    "\n",
    "print('Greater than:', x>y)\n",
    "print('Less than:', x<y)\n",
    "print('Greater than equal to:', x>=y)\n",
    "print('Less than equal to:', x<=y)\n",
    "print('Not equal to:', x!=y)\n",
    "print('Equal to:', x==y)"
   ]
  },
  {
   "cell_type": "markdown",
   "metadata": {},
   "source": [
    "### c. Logical Operators"
   ]
  },
  {
   "cell_type": "code",
   "execution_count": 14,
   "metadata": {},
   "outputs": [
    {
     "name": "stdout",
     "output_type": "stream",
     "text": [
      "And result: False\n",
      "Or result: True\n",
      "Not result: True\n"
     ]
    }
   ],
   "source": [
    "#Results in either True or False\n",
    "#and, or, not\n",
    "\n",
    "x = True\n",
    "y = False\n",
    "\n",
    "print('And result:', (x and y))\n",
    "print('Or result:', (x or y))\n",
    "print('Not result:', (not y))"
   ]
  },
  {
   "cell_type": "markdown",
   "metadata": {},
   "source": [
    "### d. Bitwise Operators"
   ]
  },
  {
   "cell_type": "code",
   "execution_count": 15,
   "metadata": {},
   "outputs": [
    {
     "name": "stdout",
     "output_type": "stream",
     "text": [
      "And result: 992\n",
      "Or result: 1019\n",
      "Not result: -1011\n",
      "XOR result: 27\n",
      "Bitwise right shift result: 250\n",
      "Bitwise left shift result: 4004\n"
     ]
    }
   ],
   "source": [
    "x = 1001\n",
    "y = 1010\n",
    "\n",
    "print('And result:', (x & y))\n",
    "print('Or result:', (x | y))\n",
    "print('Not result:', (~y))\n",
    "print('XOR result:', (x ^ y))\n",
    "print('Bitwise right shift result:', (x>>2))\n",
    "print('Bitwise left shift result:', (x<<2))"
   ]
  },
  {
   "cell_type": "markdown",
   "metadata": {},
   "source": [
    "### e. Membership Operators"
   ]
  },
  {
   "cell_type": "code",
   "execution_count": 16,
   "metadata": {},
   "outputs": [
    {
     "name": "stdout",
     "output_type": "stream",
     "text": [
      "False\n",
      "True\n"
     ]
    }
   ],
   "source": [
    "#Used to assign values to variables\n",
    "\n",
    "x = 'Machine Learning'\n",
    "\n",
    "print('y' in x)\n",
    "print('a' in x)"
   ]
  },
  {
   "cell_type": "markdown",
   "metadata": {},
   "source": [
    "### f. Identity Operators"
   ]
  },
  {
   "cell_type": "code",
   "execution_count": 17,
   "metadata": {},
   "outputs": [
    {
     "name": "stdout",
     "output_type": "stream",
     "text": [
      "Is operator result: True\n",
      "Is Not operator result: True\n"
     ]
    }
   ],
   "source": [
    "#Is and Is Not are the Python identity operators\n",
    "\n",
    "x = 7\n",
    "y = 7\n",
    "z = 'a'\n",
    "\n",
    "print('Is operator result:', (x is y))\n",
    "print('Is Not operator result:', (y is not z))"
   ]
  },
  {
   "cell_type": "markdown",
   "metadata": {},
   "source": [
    "# Day 4"
   ]
  },
  {
   "cell_type": "markdown",
   "metadata": {},
   "source": [
    "## Python Lists\n",
    "- Stores both non/homogenous elements.\n",
    "- Created by use of square brackets [].\n",
    "- The items in the list are indexed with the first item being index [0], second [1]...[n]."
   ]
  },
  {
   "cell_type": "markdown",
   "metadata": {},
   "source": [
    "### Create a list"
   ]
  },
  {
   "cell_type": "code",
   "execution_count": 18,
   "metadata": {},
   "outputs": [
    {
     "name": "stdout",
     "output_type": "stream",
     "text": [
      "['engineer', 'lead', 'analyst', 'scientist', 'senior', 'mentor']\n",
      "6\n"
     ]
    }
   ],
   "source": [
    "list_one = ['engineer', 'lead', 'analyst', 'scientist','senior', 'mentor']\n",
    "print(list_one)\n",
    "\n",
    "#List Length\n",
    "print(len(list_one))"
   ]
  },
  {
   "cell_type": "markdown",
   "metadata": {},
   "source": [
    "### List with different types of elements"
   ]
  },
  {
   "cell_type": "code",
   "execution_count": 19,
   "metadata": {},
   "outputs": [
    {
     "name": "stdout",
     "output_type": "stream",
     "text": [
      "['outback', 27, 'mayback', 80.67, 'male']\n"
     ]
    }
   ],
   "source": [
    "list_two = ['outback', 27, 'mayback', 80.67, 'male']\n",
    "print(list_two)"
   ]
  },
  {
   "cell_type": "markdown",
   "metadata": {},
   "source": [
    "### Create Nested List"
   ]
  },
  {
   "cell_type": "code",
   "execution_count": 20,
   "metadata": {},
   "outputs": [
    {
     "name": "stdout",
     "output_type": "stream",
     "text": [
      "['cars', ['roles', [1, 2, 3, 4], 'soon'], 'titles']\n"
     ]
    }
   ],
   "source": [
    "nest_list = ['cars', ['roles', [1, 2, 3, 4], 'soon'], 'titles']\n",
    "print(nest_list)"
   ]
  },
  {
   "cell_type": "markdown",
   "metadata": {},
   "source": [
    "### Slice Lists"
   ]
  },
  {
   "cell_type": "code",
   "execution_count": 21,
   "metadata": {},
   "outputs": [
    {
     "name": "stdout",
     "output_type": "stream",
     "text": [
      "['analyst', 'scientist', 'senior']\n"
     ]
    }
   ],
   "source": [
    "#Involves choosing a range\n",
    "list_one = ['engineer', 'lead', 'analyst', 'scientist','senior', 'mentor']\n",
    "print(list_one[2:5])"
   ]
  },
  {
   "cell_type": "code",
   "execution_count": 22,
   "metadata": {},
   "outputs": [
    {
     "name": "stdout",
     "output_type": "stream",
     "text": [
      "['outback', 27, 'mayback', 80.67, 'male', 28, 'wedding']\n"
     ]
    }
   ],
   "source": [
    "### Appending to a list\n",
    "list_two = ['outback', 27, 'mayback', 80.67, 'male']\n",
    "list_two.append(28)\n",
    "list_two.append('wedding')\n",
    "print(list_two)"
   ]
  },
  {
   "cell_type": "markdown",
   "metadata": {},
   "source": [
    "### Changing list elements"
   ]
  },
  {
   "cell_type": "code",
   "execution_count": 23,
   "metadata": {},
   "outputs": [
    {
     "data": {
      "text/plain": [
       "['outback', 27, 'mayback', 80.67, 'male', 28, 'wedding']"
      ]
     },
     "execution_count": 23,
     "metadata": {},
     "output_type": "execute_result"
    }
   ],
   "source": [
    "list_two"
   ]
  },
  {
   "cell_type": "code",
   "execution_count": 24,
   "metadata": {},
   "outputs": [
    {
     "name": "stdout",
     "output_type": "stream",
     "text": [
      "['outback', 27, 'mayback', 80.67, 'London', 28, 'wedding']\n"
     ]
    }
   ],
   "source": [
    "list_two[4] = 'London'\n",
    "print(list_two)"
   ]
  },
  {
   "cell_type": "markdown",
   "metadata": {},
   "source": [
    "# Day 5"
   ]
  },
  {
   "cell_type": "markdown",
   "metadata": {},
   "source": [
    "## Python Tuples\n",
    "- They are immutable(unchangeable), ordered and allow duplicate values.\n",
    "- Created by use of parentheses()."
   ]
  },
  {
   "cell_type": "markdown",
   "metadata": {},
   "source": [
    "### Create a tuple"
   ]
  },
  {
   "cell_type": "code",
   "execution_count": 25,
   "metadata": {},
   "outputs": [
    {
     "name": "stdout",
     "output_type": "stream",
     "text": [
      "(7, 1, 44, 69)\n",
      "4\n"
     ]
    }
   ],
   "source": [
    "numbers = (7, 1, 44, 69)\n",
    "print(numbers)\n",
    "\n",
    "#Tuple length\n",
    "print(len(numbers))"
   ]
  },
  {
   "cell_type": "markdown",
   "metadata": {},
   "source": [
    "### Tuple with different data types"
   ]
  },
  {
   "cell_type": "code",
   "execution_count": 26,
   "metadata": {},
   "outputs": [
    {
     "name": "stdout",
     "output_type": "stream",
     "text": [
      "('engineer', 7, True, 'red', 80.7)\n"
     ]
    }
   ],
   "source": [
    "a = ('engineer', 7, True, 'red', 80.7)\n",
    "print(a)"
   ]
  },
  {
   "cell_type": "markdown",
   "metadata": {},
   "source": [
    "### Nested tuples"
   ]
  },
  {
   "cell_type": "code",
   "execution_count": 27,
   "metadata": {},
   "outputs": [
    {
     "name": "stdout",
     "output_type": "stream",
     "text": [
      "('engineer', 7, True, (7, 1, 44, 69), 'red', 80.7, 'Jan_2023')\n"
     ]
    }
   ],
   "source": [
    "tuple_nest = ('engineer', 7, True, (7, 1, 44, 69), 'red', 80.7, 'Jan_2023')\n",
    "print(tuple_nest)"
   ]
  },
  {
   "cell_type": "markdown",
   "metadata": {},
   "source": [
    "### Accessing tuple elements"
   ]
  },
  {
   "cell_type": "code",
   "execution_count": 28,
   "metadata": {},
   "outputs": [
    {
     "name": "stdout",
     "output_type": "stream",
     "text": [
      "44\n"
     ]
    }
   ],
   "source": [
    "numbers = (7, 1, 44, 69)\n",
    "print(numbers[2])"
   ]
  },
  {
   "cell_type": "markdown",
   "metadata": {},
   "source": [
    "# Day 6"
   ]
  },
  {
   "cell_type": "markdown",
   "metadata": {},
   "source": [
    "## Python sets\n",
    "- They are unordered, unchangeable(can remove/add new items) and unindexed.\n",
    "- Created by wrapping items in brackets{}.\n",
    "- There cannot be nested sets and cannot access elements using indexes,"
   ]
  },
  {
   "cell_type": "markdown",
   "metadata": {},
   "source": [
    "### Creating a set"
   ]
  },
  {
   "cell_type": "code",
   "execution_count": 29,
   "metadata": {},
   "outputs": [
    {
     "name": "stdout",
     "output_type": "stream",
     "text": [
      "{1, 44, 69, 7}\n",
      "4\n"
     ]
    }
   ],
   "source": [
    "numbers = {7, 1, 44, 69}\n",
    "print(numbers)\n",
    "\n",
    "#Set length\n",
    "print(len(numbers))"
   ]
  },
  {
   "cell_type": "markdown",
   "metadata": {},
   "source": [
    "### A set with different types"
   ]
  },
  {
   "cell_type": "code",
   "execution_count": 30,
   "metadata": {},
   "outputs": [
    {
     "name": "stdout",
     "output_type": "stream",
     "text": [
      "{80.7, True, 'red', 7, 'engineer'}\n"
     ]
    }
   ],
   "source": [
    "b = {'engineer', 7, True, 'red', 80.7}\n",
    "print(b)"
   ]
  },
  {
   "cell_type": "markdown",
   "metadata": {},
   "source": [
    "### Accessing a set by looping through it"
   ]
  },
  {
   "cell_type": "code",
   "execution_count": 31,
   "metadata": {},
   "outputs": [
    {
     "name": "stdout",
     "output_type": "stream",
     "text": [
      "meat\n",
      "veggies\n",
      "fruits\n"
     ]
    }
   ],
   "source": [
    "this_set = {'fruits', 'meat', 'veggies'}\n",
    "\n",
    "for x in this_set:\n",
    "    print(x)"
   ]
  },
  {
   "cell_type": "markdown",
   "metadata": {},
   "source": [
    "### Update sets"
   ]
  },
  {
   "cell_type": "code",
   "execution_count": 32,
   "metadata": {},
   "outputs": [
    {
     "name": "stdout",
     "output_type": "stream",
     "text": [
      "{True, 'red', 7, 'veggies', 'engineer', 80.7, 'meat', 'fruits'}\n"
     ]
    }
   ],
   "source": [
    "this_set = {'fruits', 'meat', 'veggies'}\n",
    "a = {'engineer', 7, True, 'red', 80.7}\n",
    "\n",
    "this_set.update(a)\n",
    "\n",
    "print(this_set)"
   ]
  },
  {
   "cell_type": "markdown",
   "metadata": {},
   "source": [
    "# Day 7"
   ]
  },
  {
   "cell_type": "markdown",
   "metadata": {},
   "source": [
    "## Python Dictionaries\n",
    "- Data values are stored in key:values pairs.\n",
    "- Keys are immutable and can't be repeated while the values can be of any data type and be duplicated."
   ]
  },
  {
   "cell_type": "markdown",
   "metadata": {},
   "source": [
    "### Create a Dictionary"
   ]
  },
  {
   "cell_type": "code",
   "execution_count": 38,
   "metadata": {},
   "outputs": [
    {
     "name": "stdout",
     "output_type": "stream",
     "text": [
      "{0: 'engineer', 1: 7, 2: True, 3: 'red', 4: 80.7}\n",
      "5\n"
     ]
    }
   ],
   "source": [
    "b_dict = {0:'engineer', 1:7, 2:True, 3:'red', 4:80.7}\n",
    "print(b_dict)\n",
    "print(len(b_dict))"
   ]
  },
  {
   "cell_type": "markdown",
   "metadata": {},
   "source": [
    "### Accessing elements"
   ]
  },
  {
   "cell_type": "code",
   "execution_count": 42,
   "metadata": {},
   "outputs": [
    {
     "name": "stdout",
     "output_type": "stream",
     "text": [
      "meat\n"
     ]
    }
   ],
   "source": [
    "b_dict = {0:'engineer', 1:7, 2:True, 3:'red', 4:80.7, 5:'fruits', 6:'meat', 7:'veggies'}\n",
    "print(b_dict[6])"
   ]
  },
  {
   "cell_type": "code",
   "execution_count": 40,
   "metadata": {},
   "outputs": [
    {
     "name": "stdout",
     "output_type": "stream",
     "text": [
      "True\n"
     ]
    }
   ],
   "source": [
    "#Using the get() method\n",
    "b_dict = {0:'engineer', 1:7, 2:True, 3:'red', 4:80.7}\n",
    "print(b_dict.get(2))"
   ]
  },
  {
   "cell_type": "markdown",
   "metadata": {},
   "source": [
    "### Changing & Adding Elements"
   ]
  },
  {
   "cell_type": "code",
   "execution_count": 43,
   "metadata": {},
   "outputs": [
    {
     "name": "stdout",
     "output_type": "stream",
     "text": [
      "After changing an element {0: 'engineer', 1: 7, 2: True, 3: 'red', 4: 80.7, 5: 'fruits', 6: 'fish', 7: 'veggies'}\n",
      "After adding an element {0: 'engineer', 1: 7, 2: True, 3: 'red', 4: 80.7, 5: 'fruits', 6: 'fish', 7: 'veggies', 8: 'humility'}\n"
     ]
    }
   ],
   "source": [
    "b_dict = {0:'engineer', 1:7, 2:True, 3:'red', 4:80.7, 5:'fruits', 6:'meat', 7:'veggies'}\n",
    "\n",
    "#Change element\n",
    "b_dict[6] = 'fish'\n",
    "print('After changing an element', b_dict)\n",
    "\n",
    "#Add element\n",
    "b_dict[8] = 'humility'\n",
    "print('After adding an element', b_dict)"
   ]
  },
  {
   "cell_type": "markdown",
   "metadata": {},
   "source": [
    "### Removing Elements"
   ]
  },
  {
   "cell_type": "code",
   "execution_count": 46,
   "metadata": {},
   "outputs": [
    {
     "name": "stdout",
     "output_type": "stream",
     "text": [
      "80.7\n",
      "(7, 'veggies')\n"
     ]
    }
   ],
   "source": [
    "b_dict = {0:'engineer', 1:7, 2:True, 3:'red', 4:80.7, 5:'fruits', 6:'meat', 7:'veggies'}\n",
    "print(b_dict.pop(4))\n",
    "\n",
    "#popitem: remove an arbitrary item and return(key, value)\n",
    "print(b_dict.popitem()) #Last item in the dict. goes"
   ]
  },
  {
   "cell_type": "markdown",
   "metadata": {},
   "source": [
    "### Display a list of a dictionary's(key, value) tuple pairs"
   ]
  },
  {
   "cell_type": "code",
   "execution_count": 47,
   "metadata": {},
   "outputs": [
    {
     "name": "stdout",
     "output_type": "stream",
     "text": [
      "dict_items([(0, 'engineer'), (1, 7), (2, True), (3, 'red'), (4, 80.7), (5, 'fruits'), (6, 'meat'), (7, 'veggies')])\n"
     ]
    }
   ],
   "source": [
    "b_dict = {0:'engineer', 1:7, 2:True, 3:'red', 4:80.7, 5:'fruits', 6:'meat', 7:'veggies'}\n",
    "print(b_dict.items())"
   ]
  },
  {
   "cell_type": "markdown",
   "metadata": {},
   "source": [
    "### Nested dictionaries"
   ]
  },
  {
   "cell_type": "code",
   "execution_count": 49,
   "metadata": {},
   "outputs": [
    {
     "name": "stdout",
     "output_type": "stream",
     "text": [
      "scientist\n"
     ]
    }
   ],
   "source": [
    "person = {'food': {0:'fruits', 1:'meat', 2:'veggies'},\n",
    "            'role': {0:'engineer', 1:'scientist'}, \n",
    "            'likes': {0:True, 1:'red', 2:80.7}\n",
    "           }\n",
    "\n",
    "print(person['role'][1])"
   ]
  },
  {
   "cell_type": "markdown",
   "metadata": {},
   "source": [
    "## First Week Mini-Project\n",
    "#### Madlibs fun word game"
   ]
  },
  {
   "cell_type": "code",
   "execution_count": null,
   "metadata": {},
   "outputs": [],
   "source": [
    "adj = input('Adjective: awesome')\n",
    "verb1 = input('Verb: like')\n",
    "verb2 = input('Verb: walk')\n",
    "famous_person = input('Famous person: Mr. Beast')\n",
    "\n",
    "madlib = f'Python programming is so {adj}! It makes me so excited all the time because \\\n",
    "I love to {verb1}. Stay hydrated and {verb2} like you are {famous_person}!'\n",
    "\n",
    "print(madlib)"
   ]
  },
  {
   "cell_type": "markdown",
   "metadata": {},
   "source": [
    "# Day 8"
   ]
  },
  {
   "cell_type": "markdown",
   "metadata": {},
   "source": [
    "## Python Functions\n",
    "- A function is a block of code that only runs when called.\n",
    "- One passes data, known as parameters, into a function."
   ]
  },
  {
   "cell_type": "code",
   "execution_count": 54,
   "metadata": {},
   "outputs": [
    {
     "name": "stdout",
     "output_type": "stream",
     "text": [
      "I am on the challenge of #60DaysofMachineLearning!\n"
     ]
    }
   ],
   "source": [
    "def my_function():\n",
    "    print('I am on the challenge of #60DaysofMachineLearning!')\n",
    "    \n",
    "my_function()"
   ]
  },
  {
   "cell_type": "markdown",
   "metadata": {},
   "source": [
    "### Arguments\n",
    "- They are included in parentheses following the function name."
   ]
  },
  {
   "cell_type": "code",
   "execution_count": 55,
   "metadata": {},
   "outputs": [
    {
     "name": "stdout",
     "output_type": "stream",
     "text": [
      "ML Engineer\n",
      "Data Engineer\n",
      "Cloud Engineer\n",
      "AI Engineer\n"
     ]
    }
   ],
   "source": [
    "def my_function(fname):\n",
    "    print(fname + ' Engineer')\n",
    "    \n",
    "my_function('ML')\n",
    "my_function('Data')\n",
    "my_function('Cloud')\n",
    "my_function('AI')"
   ]
  },
  {
   "cell_type": "code",
   "execution_count": null,
   "metadata": {},
   "outputs": [],
   "source": []
  }
 ],
 "metadata": {
  "kernelspec": {
   "display_name": "Python (project_practice)",
   "language": "python",
   "name": "project_practice"
  },
  "language_info": {
   "codemirror_mode": {
    "name": "ipython",
    "version": 3
   },
   "file_extension": ".py",
   "mimetype": "text/x-python",
   "name": "python",
   "nbconvert_exporter": "python",
   "pygments_lexer": "ipython3",
   "version": "3.9.13"
  }
 },
 "nbformat": 4,
 "nbformat_minor": 4
}
