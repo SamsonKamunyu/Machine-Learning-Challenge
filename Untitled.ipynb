{
 "cells": [
  {
   "cell_type": "markdown",
   "metadata": {},
   "source": [
    "# Day 1 - 1st Nov, 2022"
   ]
  },
  {
   "cell_type": "markdown",
   "metadata": {},
   "source": [
    "## What is Python?\n",
    "A high level multi-purpose programming language.\n",
    "\n",
    "Supports both object oriented and procedural programming styles.\n",
    "\n",
    "It has a wide range of libraries and frameworks which makes its use popular in Machine Learning."
   ]
  },
  {
   "cell_type": "markdown",
   "metadata": {},
   "source": [
    "# Day 2"
   ]
  },
  {
   "cell_type": "markdown",
   "metadata": {},
   "source": [
    "## Python Data Types\n",
    "They represent the kind of value variables can hold and the operations that can be performed on a particular data."
   ]
  },
  {
   "cell_type": "markdown",
   "metadata": {},
   "source": [
    "### a. Integer"
   ]
  },
  {
   "cell_type": "code",
   "execution_count": 1,
   "metadata": {},
   "outputs": [
    {
     "name": "stdout",
     "output_type": "stream",
     "text": [
      "5\n",
      "<class 'int'>\n"
     ]
    }
   ],
   "source": [
    "var = 5\n",
    "print(var)\n",
    "print(type(var))"
   ]
  },
  {
   "cell_type": "markdown",
   "metadata": {},
   "source": [
    "### b. Float"
   ]
  },
  {
   "cell_type": "code",
   "execution_count": 2,
   "metadata": {},
   "outputs": [
    {
     "name": "stdout",
     "output_type": "stream",
     "text": [
      "0.789\n",
      "<class 'float'>\n"
     ]
    }
   ],
   "source": [
    "var2 = 0.789\n",
    "print(var2)\n",
    "print(type(var2))"
   ]
  },
  {
   "cell_type": "markdown",
   "metadata": {},
   "source": [
    "### c. Complex Numbers"
   ]
  },
  {
   "cell_type": "code",
   "execution_count": 3,
   "metadata": {},
   "outputs": [
    {
     "name": "stdout",
     "output_type": "stream",
     "text": [
      "2j\n",
      "<class 'complex'>\n"
     ]
    }
   ],
   "source": [
    "x = 2j\n",
    "print(x)\n",
    "print(type(x))"
   ]
  },
  {
   "cell_type": "markdown",
   "metadata": {},
   "source": [
    "### d. String"
   ]
  },
  {
   "cell_type": "code",
   "execution_count": 4,
   "metadata": {},
   "outputs": [
    {
     "name": "stdout",
     "output_type": "stream",
     "text": [
      "Hello World!\n",
      "<class 'str'>\n"
     ]
    }
   ],
   "source": [
    "greeting = 'Hello World!'\n",
    "print(greeting)\n",
    "print(type(greeting))"
   ]
  },
  {
   "cell_type": "markdown",
   "metadata": {},
   "source": [
    "### e. Lists"
   ]
  },
  {
   "cell_type": "code",
   "execution_count": 5,
   "metadata": {},
   "outputs": [
    {
     "name": "stdout",
     "output_type": "stream",
     "text": [
      "['Outback', 'Mercedes', 'Maserati']\n",
      "<class 'list'>\n"
     ]
    }
   ],
   "source": [
    "l1 = ['Outback', 'Mercedes', 'Maserati']\n",
    "print(l1)\n",
    "print(type(l1))"
   ]
  },
  {
   "cell_type": "markdown",
   "metadata": {},
   "source": [
    "### f. Tuple"
   ]
  },
  {
   "cell_type": "code",
   "execution_count": 6,
   "metadata": {},
   "outputs": [
    {
     "name": "stdout",
     "output_type": "stream",
     "text": [
      "('Outback', 'Mercedes', 'Maserati')\n",
      "<class 'tuple'>\n"
     ]
    }
   ],
   "source": [
    "t1 = ('Outback', 'Mercedes', 'Maserati')\n",
    "print(t1)\n",
    "print(type(t1))"
   ]
  },
  {
   "cell_type": "markdown",
   "metadata": {},
   "source": [
    "### g. Dictionary"
   ]
  },
  {
   "cell_type": "code",
   "execution_count": 7,
   "metadata": {},
   "outputs": [
    {
     "name": "stdout",
     "output_type": "stream",
     "text": [
      "{'Name': 'Samson', 'Role': 'ML-Eng', 'Location': 'Remote', 'Start': 'January-2023'}\n",
      "<class 'dict'>\n"
     ]
    }
   ],
   "source": [
    "soon = {'Name': 'Samson', 'Role':'ML-Eng', 'Location':'Remote', 'Start': 'January-2023'}\n",
    "print(soon)\n",
    "print(type(soon))"
   ]
  },
  {
   "cell_type": "markdown",
   "metadata": {},
   "source": [
    "### h. Set"
   ]
  },
  {
   "cell_type": "code",
   "execution_count": 8,
   "metadata": {},
   "outputs": [
    {
     "name": "stdout",
     "output_type": "stream",
     "text": [
      "{'Remote', 'ML-Eng', 'Samson', 'January-2023'}\n",
      "<class 'set'>\n"
     ]
    }
   ],
   "source": [
    "s1 = set({'Samson', 'ML-Eng', 'Remote', 'January-2023'})\n",
    "print(s1)\n",
    "print(type(s1))"
   ]
  },
  {
   "cell_type": "markdown",
   "metadata": {},
   "source": [
    "### i. Frozen Set"
   ]
  },
  {
   "cell_type": "code",
   "execution_count": 9,
   "metadata": {},
   "outputs": [
    {
     "name": "stdout",
     "output_type": "stream",
     "text": [
      "frozenset({'Remote', 'ML-Eng', 'Samson', 'January-2023'})\n",
      "<class 'frozenset'>\n"
     ]
    }
   ],
   "source": [
    "s2 = frozenset({'Remote', 'Samson', 'ML-Eng', 'Remote', 'January-2023', 'ML-Eng'})\n",
    "print(s2)\n",
    "print(type(s2))"
   ]
  },
  {
   "cell_type": "markdown",
   "metadata": {},
   "source": [
    "### j. Boolean"
   ]
  },
  {
   "cell_type": "code",
   "execution_count": 10,
   "metadata": {},
   "outputs": [
    {
     "name": "stdout",
     "output_type": "stream",
     "text": [
      "True\n",
      "<class 'bool'>\n"
     ]
    }
   ],
   "source": [
    "tf = True\n",
    "print(tf)\n",
    "print(type(tf))"
   ]
  },
  {
   "cell_type": "markdown",
   "metadata": {},
   "source": [
    "### k. Byte"
   ]
  },
  {
   "cell_type": "code",
   "execution_count": 11,
   "metadata": {},
   "outputs": [
    {
     "name": "stdout",
     "output_type": "stream",
     "text": [
      "b'Outback'\n",
      "<class 'bytes'>\n"
     ]
    }
   ],
   "source": [
    "b1 = b'Outback'\n",
    "print(b1)\n",
    "print(type(b1))"
   ]
  },
  {
   "cell_type": "markdown",
   "metadata": {},
   "source": [
    "# Day 3"
   ]
  },
  {
   "cell_type": "markdown",
   "metadata": {},
   "source": [
    "## Python Operators\n",
    "They are the contructs that manipulate the value of operands."
   ]
  },
  {
   "cell_type": "markdown",
   "metadata": {},
   "source": [
    "### a. Arithmetic Operators"
   ]
  },
  {
   "cell_type": "code",
   "execution_count": 12,
   "metadata": {},
   "outputs": [
    {
     "name": "stdout",
     "output_type": "stream",
     "text": [
      "Addition: 7\n",
      "Subtraction: 1\n",
      "Multiplication: 12\n",
      "Division: 1.3333333333333333\n",
      "Modulus: 1\n",
      "Floor Division: 1\n",
      "Exponent: 7\n"
     ]
    }
   ],
   "source": [
    "x = 4\n",
    "y = 3\n",
    "\n",
    "print('Addition:', x+y)\n",
    "print('Subtraction:', x-y)\n",
    "print('Multiplication:', x*y)\n",
    "print('Division:', x/y)\n",
    "print('Modulus:', x%y)\n",
    "print('Floor Division:', x//y)\n",
    "print('Exponent:', x+y)"
   ]
  },
  {
   "cell_type": "markdown",
   "metadata": {},
   "source": [
    "### b. Comparison Operators"
   ]
  },
  {
   "cell_type": "code",
   "execution_count": 13,
   "metadata": {},
   "outputs": [
    {
     "name": "stdout",
     "output_type": "stream",
     "text": [
      "Greater than: True\n",
      "Less than: False\n",
      "Greater than equal to: True\n",
      "Less than equal to: False\n",
      "Not equal to: True\n",
      "Equal to: False\n"
     ]
    }
   ],
   "source": [
    "#Result is either true or false\n",
    "\n",
    "x = 4\n",
    "y = 3\n",
    "\n",
    "print('Greater than:', x>y)\n",
    "print('Less than:', x<y)\n",
    "print('Greater than equal to:', x>=y)\n",
    "print('Less than equal to:', x<=y)\n",
    "print('Not equal to:', x!=y)\n",
    "print('Equal to:', x==y)"
   ]
  },
  {
   "cell_type": "markdown",
   "metadata": {},
   "source": [
    "### c. Logical Operators"
   ]
  },
  {
   "cell_type": "code",
   "execution_count": 14,
   "metadata": {},
   "outputs": [
    {
     "name": "stdout",
     "output_type": "stream",
     "text": [
      "And result: False\n",
      "Or result: True\n",
      "Not result: True\n"
     ]
    }
   ],
   "source": [
    "#Results in either True or False\n",
    "#and, or, not\n",
    "\n",
    "x = True\n",
    "y = False\n",
    "\n",
    "print('And result:', (x and y))\n",
    "print('Or result:', (x or y))\n",
    "print('Not result:', (not y))"
   ]
  },
  {
   "cell_type": "markdown",
   "metadata": {},
   "source": [
    "### d. Bitwise Operators"
   ]
  },
  {
   "cell_type": "code",
   "execution_count": 15,
   "metadata": {},
   "outputs": [
    {
     "name": "stdout",
     "output_type": "stream",
     "text": [
      "And result: 992\n",
      "Or result: 1019\n",
      "Not result: -1011\n",
      "XOR result: 27\n",
      "Bitwise right shift result: 250\n",
      "Bitwise left shift result: 4004\n"
     ]
    }
   ],
   "source": [
    "x = 1001\n",
    "y = 1010\n",
    "\n",
    "print('And result:', (x & y))\n",
    "print('Or result:', (x | y))\n",
    "print('Not result:', (~y))\n",
    "print('XOR result:', (x ^ y))\n",
    "print('Bitwise right shift result:', (x>>2))\n",
    "print('Bitwise left shift result:', (x<<2))"
   ]
  },
  {
   "cell_type": "markdown",
   "metadata": {},
   "source": [
    "### e. Membership Operators"
   ]
  },
  {
   "cell_type": "code",
   "execution_count": 16,
   "metadata": {},
   "outputs": [
    {
     "name": "stdout",
     "output_type": "stream",
     "text": [
      "False\n",
      "True\n"
     ]
    }
   ],
   "source": [
    "#Used to assign values to variables\n",
    "\n",
    "x = 'Machine Learning'\n",
    "\n",
    "print('y' in x)\n",
    "print('a' in x)"
   ]
  },
  {
   "cell_type": "markdown",
   "metadata": {},
   "source": [
    "### f. Identity Operators"
   ]
  },
  {
   "cell_type": "code",
   "execution_count": 17,
   "metadata": {},
   "outputs": [
    {
     "name": "stdout",
     "output_type": "stream",
     "text": [
      "Is operator result: True\n",
      "Is Not operator result: True\n"
     ]
    }
   ],
   "source": [
    "#Is and Is Not are the Python identity operators\n",
    "\n",
    "x = 7\n",
    "y = 7\n",
    "z = 'a'\n",
    "\n",
    "print('Is operator result:', (x is y))\n",
    "print('Is Not operator result:', (y is not z))"
   ]
  },
  {
   "cell_type": "markdown",
   "metadata": {},
   "source": [
    "# Day 4"
   ]
  },
  {
   "cell_type": "markdown",
   "metadata": {},
   "source": [
    "## Python Lists\n",
    "- Stores both non/homogenous elements.\n",
    "- Created by use of square brackets [].\n",
    "- The items in the list are indexed with the first item being index [0], second [1]...[n]."
   ]
  },
  {
   "cell_type": "markdown",
   "metadata": {},
   "source": [
    "### Create a list"
   ]
  },
  {
   "cell_type": "code",
   "execution_count": 18,
   "metadata": {},
   "outputs": [
    {
     "name": "stdout",
     "output_type": "stream",
     "text": [
      "['engineer', 'lead', 'analyst', 'scientist', 'senior', 'mentor']\n",
      "6\n"
     ]
    }
   ],
   "source": [
    "list_one = ['engineer', 'lead', 'analyst', 'scientist','senior', 'mentor']\n",
    "print(list_one)\n",
    "\n",
    "#List Length\n",
    "print(len(list_one))"
   ]
  },
  {
   "cell_type": "markdown",
   "metadata": {},
   "source": [
    "### List with different types of elements"
   ]
  },
  {
   "cell_type": "code",
   "execution_count": 19,
   "metadata": {},
   "outputs": [
    {
     "name": "stdout",
     "output_type": "stream",
     "text": [
      "['outback', 27, 'mayback', 80.67, 'male']\n"
     ]
    }
   ],
   "source": [
    "list_two = ['outback', 27, 'mayback', 80.67, 'male']\n",
    "print(list_two)"
   ]
  },
  {
   "cell_type": "markdown",
   "metadata": {},
   "source": [
    "### Create Nested List"
   ]
  },
  {
   "cell_type": "code",
   "execution_count": 20,
   "metadata": {},
   "outputs": [
    {
     "name": "stdout",
     "output_type": "stream",
     "text": [
      "['cars', ['roles', [1, 2, 3, 4], 'soon'], 'titles']\n"
     ]
    }
   ],
   "source": [
    "nest_list = ['cars', ['roles', [1, 2, 3, 4], 'soon'], 'titles']\n",
    "print(nest_list)"
   ]
  },
  {
   "cell_type": "markdown",
   "metadata": {},
   "source": [
    "### Slice Lists"
   ]
  },
  {
   "cell_type": "code",
   "execution_count": 21,
   "metadata": {},
   "outputs": [
    {
     "name": "stdout",
     "output_type": "stream",
     "text": [
      "['analyst', 'scientist', 'senior']\n"
     ]
    }
   ],
   "source": [
    "#Involves choosing a range\n",
    "list_one = ['engineer', 'lead', 'analyst', 'scientist','senior', 'mentor']\n",
    "print(list_one[2:5])"
   ]
  },
  {
   "cell_type": "code",
   "execution_count": 22,
   "metadata": {},
   "outputs": [
    {
     "name": "stdout",
     "output_type": "stream",
     "text": [
      "['outback', 27, 'mayback', 80.67, 'male', 28, 'wedding']\n"
     ]
    }
   ],
   "source": [
    "### Appending to a list\n",
    "list_two = ['outback', 27, 'mayback', 80.67, 'male']\n",
    "list_two.append(28)\n",
    "list_two.append('wedding')\n",
    "print(list_two)"
   ]
  },
  {
   "cell_type": "markdown",
   "metadata": {},
   "source": [
    "### Changing list elements"
   ]
  },
  {
   "cell_type": "code",
   "execution_count": 23,
   "metadata": {},
   "outputs": [
    {
     "data": {
      "text/plain": [
       "['outback', 27, 'mayback', 80.67, 'male', 28, 'wedding']"
      ]
     },
     "execution_count": 23,
     "metadata": {},
     "output_type": "execute_result"
    }
   ],
   "source": [
    "list_two"
   ]
  },
  {
   "cell_type": "code",
   "execution_count": 24,
   "metadata": {},
   "outputs": [
    {
     "name": "stdout",
     "output_type": "stream",
     "text": [
      "['outback', 27, 'mayback', 80.67, 'London', 28, 'wedding']\n"
     ]
    }
   ],
   "source": [
    "list_two[4] = 'London'\n",
    "print(list_two)"
   ]
  },
  {
   "cell_type": "markdown",
   "metadata": {},
   "source": [
    "# Day 5"
   ]
  },
  {
   "cell_type": "markdown",
   "metadata": {},
   "source": [
    "## Python Tuples\n",
    "- They are immutable(unchangeable), ordered and allow duplicate values.\n",
    "- Created by use of parentheses()."
   ]
  },
  {
   "cell_type": "markdown",
   "metadata": {},
   "source": [
    "### Create a tuple"
   ]
  },
  {
   "cell_type": "code",
   "execution_count": 25,
   "metadata": {},
   "outputs": [
    {
     "name": "stdout",
     "output_type": "stream",
     "text": [
      "(7, 1, 44, 69)\n",
      "4\n"
     ]
    }
   ],
   "source": [
    "numbers = (7, 1, 44, 69)\n",
    "print(numbers)\n",
    "\n",
    "#Tuple length\n",
    "print(len(numbers))"
   ]
  },
  {
   "cell_type": "markdown",
   "metadata": {},
   "source": [
    "### Tuple with different data types"
   ]
  },
  {
   "cell_type": "code",
   "execution_count": 26,
   "metadata": {},
   "outputs": [
    {
     "name": "stdout",
     "output_type": "stream",
     "text": [
      "('engineer', 7, True, 'red', 80.7)\n"
     ]
    }
   ],
   "source": [
    "a = ('engineer', 7, True, 'red', 80.7)\n",
    "print(a)"
   ]
  },
  {
   "cell_type": "markdown",
   "metadata": {},
   "source": [
    "### Nested tuples"
   ]
  },
  {
   "cell_type": "code",
   "execution_count": 27,
   "metadata": {},
   "outputs": [
    {
     "name": "stdout",
     "output_type": "stream",
     "text": [
      "('engineer', 7, True, (7, 1, 44, 69), 'red', 80.7, 'Jan_2023')\n"
     ]
    }
   ],
   "source": [
    "tuple_nest = ('engineer', 7, True, (7, 1, 44, 69), 'red', 80.7, 'Jan_2023')\n",
    "print(tuple_nest)"
   ]
  },
  {
   "cell_type": "markdown",
   "metadata": {},
   "source": [
    "### Accessing tuple elements"
   ]
  },
  {
   "cell_type": "code",
   "execution_count": 28,
   "metadata": {},
   "outputs": [
    {
     "name": "stdout",
     "output_type": "stream",
     "text": [
      "44\n"
     ]
    }
   ],
   "source": [
    "numbers = (7, 1, 44, 69)\n",
    "print(numbers[2])"
   ]
  },
  {
   "cell_type": "markdown",
   "metadata": {},
   "source": [
    "# Day 6"
   ]
  },
  {
   "cell_type": "markdown",
   "metadata": {},
   "source": [
    "## Python sets\n",
    "- They are unordered, unchangeable(can remove/add new items) and unindexed.\n",
    "- Created by wrapping items in brackets{}.\n",
    "- There cannot be nested sets and cannot access elements using indexes,"
   ]
  },
  {
   "cell_type": "markdown",
   "metadata": {},
   "source": [
    "### Creating a set"
   ]
  },
  {
   "cell_type": "code",
   "execution_count": 29,
   "metadata": {},
   "outputs": [
    {
     "name": "stdout",
     "output_type": "stream",
     "text": [
      "{1, 44, 69, 7}\n",
      "4\n"
     ]
    }
   ],
   "source": [
    "numbers = {7, 1, 44, 69}\n",
    "print(numbers)\n",
    "\n",
    "#Set length\n",
    "print(len(numbers))"
   ]
  },
  {
   "cell_type": "markdown",
   "metadata": {},
   "source": [
    "### A set with different types"
   ]
  },
  {
   "cell_type": "code",
   "execution_count": 30,
   "metadata": {},
   "outputs": [
    {
     "name": "stdout",
     "output_type": "stream",
     "text": [
      "{80.7, True, 'red', 7, 'engineer'}\n"
     ]
    }
   ],
   "source": [
    "b = {'engineer', 7, True, 'red', 80.7}\n",
    "print(b)"
   ]
  },
  {
   "cell_type": "markdown",
   "metadata": {},
   "source": [
    "### Accessing a set by looping through it"
   ]
  },
  {
   "cell_type": "code",
   "execution_count": 31,
   "metadata": {},
   "outputs": [
    {
     "name": "stdout",
     "output_type": "stream",
     "text": [
      "meat\n",
      "veggies\n",
      "fruits\n"
     ]
    }
   ],
   "source": [
    "this_set = {'fruits', 'meat', 'veggies'}\n",
    "\n",
    "for x in this_set:\n",
    "    print(x)"
   ]
  },
  {
   "cell_type": "markdown",
   "metadata": {},
   "source": [
    "### Update sets"
   ]
  },
  {
   "cell_type": "code",
   "execution_count": 32,
   "metadata": {},
   "outputs": [
    {
     "name": "stdout",
     "output_type": "stream",
     "text": [
      "{True, 'red', 7, 'veggies', 'engineer', 80.7, 'meat', 'fruits'}\n"
     ]
    }
   ],
   "source": [
    "this_set = {'fruits', 'meat', 'veggies'}\n",
    "a = {'engineer', 7, True, 'red', 80.7}\n",
    "\n",
    "this_set.update(a)\n",
    "\n",
    "print(this_set)"
   ]
  },
  {
   "cell_type": "markdown",
   "metadata": {},
   "source": [
    "# Day 7"
   ]
  },
  {
   "cell_type": "markdown",
   "metadata": {},
   "source": [
    "## Python Dictionaries\n",
    "- Data values are stored in key:values pairs.\n",
    "- Keys are immutable and can't be repeated while the values can be of any data type and be duplicated."
   ]
  },
  {
   "cell_type": "markdown",
   "metadata": {},
   "source": [
    "### Create a Dictionary"
   ]
  },
  {
   "cell_type": "code",
   "execution_count": 38,
   "metadata": {},
   "outputs": [
    {
     "name": "stdout",
     "output_type": "stream",
     "text": [
      "{0: 'engineer', 1: 7, 2: True, 3: 'red', 4: 80.7}\n",
      "5\n"
     ]
    }
   ],
   "source": [
    "b_dict = {0:'engineer', 1:7, 2:True, 3:'red', 4:80.7}\n",
    "print(b_dict)\n",
    "print(len(b_dict))"
   ]
  },
  {
   "cell_type": "markdown",
   "metadata": {},
   "source": [
    "### Accessing elements"
   ]
  },
  {
   "cell_type": "code",
   "execution_count": 42,
   "metadata": {},
   "outputs": [
    {
     "name": "stdout",
     "output_type": "stream",
     "text": [
      "meat\n"
     ]
    }
   ],
   "source": [
    "b_dict = {0:'engineer', 1:7, 2:True, 3:'red', 4:80.7, 5:'fruits', 6:'meat', 7:'veggies'}\n",
    "print(b_dict[6])"
   ]
  },
  {
   "cell_type": "code",
   "execution_count": 40,
   "metadata": {},
   "outputs": [
    {
     "name": "stdout",
     "output_type": "stream",
     "text": [
      "True\n"
     ]
    }
   ],
   "source": [
    "#Using the get() method\n",
    "b_dict = {0:'engineer', 1:7, 2:True, 3:'red', 4:80.7}\n",
    "print(b_dict.get(2))"
   ]
  },
  {
   "cell_type": "markdown",
   "metadata": {},
   "source": [
    "### Changing & Adding Elements"
   ]
  },
  {
   "cell_type": "code",
   "execution_count": 43,
   "metadata": {},
   "outputs": [
    {
     "name": "stdout",
     "output_type": "stream",
     "text": [
      "After changing an element {0: 'engineer', 1: 7, 2: True, 3: 'red', 4: 80.7, 5: 'fruits', 6: 'fish', 7: 'veggies'}\n",
      "After adding an element {0: 'engineer', 1: 7, 2: True, 3: 'red', 4: 80.7, 5: 'fruits', 6: 'fish', 7: 'veggies', 8: 'humility'}\n"
     ]
    }
   ],
   "source": [
    "b_dict = {0:'engineer', 1:7, 2:True, 3:'red', 4:80.7, 5:'fruits', 6:'meat', 7:'veggies'}\n",
    "\n",
    "#Change element\n",
    "b_dict[6] = 'fish'\n",
    "print('After changing an element', b_dict)\n",
    "\n",
    "#Add element\n",
    "b_dict[8] = 'humility'\n",
    "print('After adding an element', b_dict)"
   ]
  },
  {
   "cell_type": "markdown",
   "metadata": {},
   "source": [
    "### Removing Elements"
   ]
  },
  {
   "cell_type": "code",
   "execution_count": 46,
   "metadata": {},
   "outputs": [
    {
     "name": "stdout",
     "output_type": "stream",
     "text": [
      "80.7\n",
      "(7, 'veggies')\n"
     ]
    }
   ],
   "source": [
    "b_dict = {0:'engineer', 1:7, 2:True, 3:'red', 4:80.7, 5:'fruits', 6:'meat', 7:'veggies'}\n",
    "print(b_dict.pop(4))\n",
    "\n",
    "#popitem: remove an arbitrary item and return(key, value)\n",
    "print(b_dict.popitem()) #Last item in the dict. goes"
   ]
  },
  {
   "cell_type": "markdown",
   "metadata": {},
   "source": [
    "### Display a list of a dictionary's(key, value) tuple pairs"
   ]
  },
  {
   "cell_type": "code",
   "execution_count": 47,
   "metadata": {},
   "outputs": [
    {
     "name": "stdout",
     "output_type": "stream",
     "text": [
      "dict_items([(0, 'engineer'), (1, 7), (2, True), (3, 'red'), (4, 80.7), (5, 'fruits'), (6, 'meat'), (7, 'veggies')])\n"
     ]
    }
   ],
   "source": [
    "b_dict = {0:'engineer', 1:7, 2:True, 3:'red', 4:80.7, 5:'fruits', 6:'meat', 7:'veggies'}\n",
    "print(b_dict.items())"
   ]
  },
  {
   "cell_type": "markdown",
   "metadata": {},
   "source": [
    "### Nested dictionaries"
   ]
  },
  {
   "cell_type": "code",
   "execution_count": 49,
   "metadata": {},
   "outputs": [
    {
     "name": "stdout",
     "output_type": "stream",
     "text": [
      "scientist\n"
     ]
    }
   ],
   "source": [
    "person = {'food': {0:'fruits', 1:'meat', 2:'veggies'},\n",
    "            'role': {0:'engineer', 1:'scientist'}, \n",
    "            'likes': {0:True, 1:'red', 2:80.7}\n",
    "           }\n",
    "\n",
    "print(person['role'][1])"
   ]
  },
  {
   "cell_type": "markdown",
   "metadata": {},
   "source": [
    "## First Week Mini-Project\n",
    "#### Madlibs fun word game"
   ]
  },
  {
   "cell_type": "code",
   "execution_count": null,
   "metadata": {},
   "outputs": [],
   "source": [
    "adj = input('Adjective: awesome')\n",
    "verb1 = input('Verb: like')\n",
    "verb2 = input('Verb: walk')\n",
    "famous_person = input('Famous person: Mr. Beast')\n",
    "\n",
    "madlib = f'Python programming is so {adj}! It makes me so excited all the time because \\\n",
    "I love to {verb1}. Stay hydrated and {verb2} like you are {famous_person}!'\n",
    "\n",
    "print(madlib)"
   ]
  },
  {
   "cell_type": "markdown",
   "metadata": {},
   "source": [
    "# Day 8"
   ]
  },
  {
   "cell_type": "markdown",
   "metadata": {},
   "source": [
    "## Python Functions\n",
    "- A function is a block of code that only runs when called.\n",
    "- One passes data, known as parameters, into a function."
   ]
  },
  {
   "cell_type": "code",
   "execution_count": 54,
   "metadata": {},
   "outputs": [
    {
     "name": "stdout",
     "output_type": "stream",
     "text": [
      "I am on the challenge of #60DaysofMachineLearning!\n"
     ]
    }
   ],
   "source": [
    "def my_function():\n",
    "    print('I am on the challenge of #60DaysofMachineLearning!')\n",
    "    \n",
    "my_function()"
   ]
  },
  {
   "cell_type": "markdown",
   "metadata": {},
   "source": [
    "### Arguments\n",
    "- They are included in parentheses following the function name."
   ]
  },
  {
   "cell_type": "code",
   "execution_count": 55,
   "metadata": {},
   "outputs": [
    {
     "name": "stdout",
     "output_type": "stream",
     "text": [
      "ML Engineer\n",
      "Data Engineer\n",
      "Cloud Engineer\n",
      "AI Engineer\n"
     ]
    }
   ],
   "source": [
    "def my_function(fname):\n",
    "    print(fname + ' Engineer')\n",
    "    \n",
    "my_function('ML')\n",
    "my_function('Data')\n",
    "my_function('Cloud')\n",
    "my_function('AI')"
   ]
  },
  {
   "cell_type": "markdown",
   "metadata": {},
   "source": [
    "# Day 9"
   ]
  },
  {
   "cell_type": "markdown",
   "metadata": {},
   "source": [
    "## Python Conditions and If Statements\n",
    "- Executes a specific block of code ONLY when the given condition is met."
   ]
  },
  {
   "cell_type": "markdown",
   "metadata": {},
   "source": [
    "### IF statements"
   ]
  },
  {
   "cell_type": "code",
   "execution_count": 1,
   "metadata": {},
   "outputs": [
    {
     "name": "stdout",
     "output_type": "stream",
     "text": [
      "b is greater than a\n"
     ]
    }
   ],
   "source": [
    "a = 53\n",
    "b = 777\n",
    "\n",
    "if b > a:\n",
    "    print('b is greater than a')"
   ]
  },
  {
   "cell_type": "markdown",
   "metadata": {},
   "source": [
    "### ELIF Statements\n",
    "- Attempt this condition if the preceding conditions were not met."
   ]
  },
  {
   "cell_type": "code",
   "execution_count": 3,
   "metadata": {},
   "outputs": [
    {
     "name": "stdout",
     "output_type": "stream",
     "text": [
      "a and b are equal\n"
     ]
    }
   ],
   "source": [
    "a = 73\n",
    "b = 73\n",
    "\n",
    "if b > a:\n",
    "    print('b is greater than a')\n",
    "elif a == b:\n",
    "    print('a and b are equal')"
   ]
  },
  {
   "cell_type": "markdown",
   "metadata": {},
   "source": [
    "### ELSE Statement\n",
    "- Anything notcovered in previous conditions is captured by the else keyword."
   ]
  },
  {
   "cell_type": "code",
   "execution_count": 6,
   "metadata": {},
   "outputs": [
    {
     "name": "stdout",
     "output_type": "stream",
     "text": [
      "a is greater than b\n"
     ]
    }
   ],
   "source": [
    "a = 737\n",
    "b = 73\n",
    "\n",
    "if b > a:\n",
    "    print('b is greater than a')\n",
    "elif a == b:\n",
    "    print('a and b are equal')\n",
    "else:\n",
    "    print('a is greater than b')"
   ]
  },
  {
   "cell_type": "markdown",
   "metadata": {},
   "source": [
    "### Nested IF Statements"
   ]
  },
  {
   "cell_type": "code",
   "execution_count": 11,
   "metadata": {},
   "outputs": [
    {
     "name": "stdout",
     "output_type": "stream",
     "text": [
      "Above thirty\n",
      "and also above fifty\n",
      "but equals to seventy three.\n"
     ]
    }
   ],
   "source": [
    "a = 73\n",
    "\n",
    "if a > 30:\n",
    "    print('Above thirty')\n",
    "    if a > 50:\n",
    "        print('and also above fifty')\n",
    "        if a == 73:\n",
    "            print('but equals to seventy three.')\n",
    "else:\n",
    "    print('but not above 40')"
   ]
  },
  {
   "cell_type": "markdown",
   "metadata": {},
   "source": [
    "### PASS Statements\n",
    "- Prevents an error when the 'IF' statement has no content."
   ]
  },
  {
   "cell_type": "code",
   "execution_count": 12,
   "metadata": {},
   "outputs": [],
   "source": [
    "a = 73\n",
    "b = 73\n",
    "\n",
    "if b > a:\n",
    "    pass"
   ]
  },
  {
   "cell_type": "markdown",
   "metadata": {},
   "source": [
    "# Day 10"
   ]
  },
  {
   "cell_type": "markdown",
   "metadata": {},
   "source": [
    "## Python While Loops\n",
    "- Used to repeat a block of code a certain amount of times as long as the condition is true."
   ]
  },
  {
   "cell_type": "code",
   "execution_count": 14,
   "metadata": {},
   "outputs": [
    {
     "name": "stdout",
     "output_type": "stream",
     "text": [
      "1\n",
      "2\n",
      "3\n",
      "4\n",
      "5\n",
      "6\n",
      "7\n",
      "8\n",
      "9\n",
      "10\n",
      "11\n"
     ]
    }
   ],
   "source": [
    "a = 1\n",
    "\n",
    "while a < 12:\n",
    "    print(a)\n",
    "    a += 1"
   ]
  },
  {
   "cell_type": "markdown",
   "metadata": {},
   "source": [
    "### Break Statement\n",
    "- Used to stop a loop from continuing to iterate even when the hile condition is true."
   ]
  },
  {
   "cell_type": "code",
   "execution_count": 15,
   "metadata": {},
   "outputs": [
    {
     "name": "stdout",
     "output_type": "stream",
     "text": [
      "1\n",
      "2\n",
      "3\n",
      "4\n",
      "5\n",
      "6\n",
      "7\n"
     ]
    }
   ],
   "source": [
    "a = 1\n",
    "\n",
    "while a < 12:\n",
    "    print(a)\n",
    "    if a == 7:\n",
    "        break\n",
    "    a += 1"
   ]
  },
  {
   "cell_type": "markdown",
   "metadata": {},
   "source": [
    "### Continue Statement\n",
    "- Stops the current iteration and skips to the next iteration."
   ]
  },
  {
   "cell_type": "code",
   "execution_count": 21,
   "metadata": {},
   "outputs": [
    {
     "name": "stdout",
     "output_type": "stream",
     "text": [
      "1\n",
      "2\n",
      "3\n",
      "4\n",
      "5\n",
      "6\n",
      "8\n",
      "9\n",
      "10\n",
      "11\n",
      "12\n"
     ]
    }
   ],
   "source": [
    "a = 0\n",
    "\n",
    "while a < 12:\n",
    "    a += 1\n",
    "    if a == 7:\n",
    "        continue\n",
    "    print(a)"
   ]
  },
  {
   "cell_type": "markdown",
   "metadata": {},
   "source": [
    "### Else Statement\n",
    "- Runs a block of code after the loop condition is no longer true."
   ]
  },
  {
   "cell_type": "code",
   "execution_count": 22,
   "metadata": {},
   "outputs": [
    {
     "name": "stdout",
     "output_type": "stream",
     "text": [
      "1\n",
      "2\n",
      "3\n",
      "4\n",
      "5\n",
      "6\n",
      "7\n",
      "8\n",
      "9\n",
      "10\n",
      "11\n",
      "a is no longer less than 12!\n"
     ]
    }
   ],
   "source": [
    "a = 1\n",
    "\n",
    "while a < 12:\n",
    "    print(a)\n",
    "    a += 1\n",
    "else:\n",
    "    print('a is no longer less than 12!')"
   ]
  },
  {
   "cell_type": "markdown",
   "metadata": {},
   "source": [
    "# Day 11"
   ]
  },
  {
   "cell_type": "markdown",
   "metadata": {},
   "source": [
    "## Python For Loops\n",
    "- Used to iterate through a sequence."
   ]
  },
  {
   "cell_type": "code",
   "execution_count": 5,
   "metadata": {},
   "outputs": [
    {
     "name": "stdout",
     "output_type": "stream",
     "text": [
      "fish\n",
      "mutton\n",
      "beef\n",
      "chicken\n",
      "goat\n",
      "crocodile\n"
     ]
    }
   ],
   "source": [
    "meat = ['fish', 'mutton', 'beef', 'chicken', 'goat', 'crocodile']\n",
    "\n",
    "for x in meat:\n",
    "    print(x)"
   ]
  },
  {
   "cell_type": "code",
   "execution_count": 6,
   "metadata": {},
   "outputs": [
    {
     "name": "stdout",
     "output_type": "stream",
     "text": [
      "fish\n",
      "mutton\n",
      "beef\n"
     ]
    }
   ],
   "source": [
    "#We can use 'break' statement to stop the loop before looping through all items\n",
    "meat = ['fish', 'mutton', 'beef', 'chicken', 'goat', 'crocodile']\n",
    "\n",
    "for x in meat:\n",
    "    print(x)\n",
    "    if x == 'beef':\n",
    "        break"
   ]
  },
  {
   "cell_type": "code",
   "execution_count": 7,
   "metadata": {},
   "outputs": [
    {
     "name": "stdout",
     "output_type": "stream",
     "text": [
      "fish\n",
      "mutton\n",
      "chicken\n",
      "goat\n",
      "crocodile\n"
     ]
    }
   ],
   "source": [
    "#We use 'continue' to end current iteration and move to the next\n",
    "meat = ['fish', 'mutton', 'beef', 'chicken', 'goat', 'crocodile']\n",
    "\n",
    "for x in meat:\n",
    "    if x == 'beef':\n",
    "        continue\n",
    "    print(x)"
   ]
  },
  {
   "cell_type": "code",
   "execution_count": 8,
   "metadata": {},
   "outputs": [
    {
     "name": "stdout",
     "output_type": "stream",
     "text": [
      "0\n",
      "1\n",
      "2\n",
      "3\n",
      "4\n",
      "5\n",
      "6\n",
      "7\n"
     ]
    }
   ],
   "source": [
    "#We use 'range()' to loop a certain number of times.\n",
    "# Starts at zero and by default advances by one\n",
    "\n",
    "for x in range(8):\n",
    "    print(x)"
   ]
  },
  {
   "cell_type": "markdown",
   "metadata": {},
   "source": [
    "### Nested Loops\n",
    "- A loop contained in another loop"
   ]
  },
  {
   "cell_type": "code",
   "execution_count": 14,
   "metadata": {},
   "outputs": [
    {
     "name": "stdout",
     "output_type": "stream",
     "text": [
      "fruits engineer fish\n",
      "fruits engineer mutton\n",
      "fruits engineer beef\n",
      "fruits 7 fish\n",
      "fruits 7 mutton\n",
      "fruits 7 beef\n",
      "fruits True fish\n",
      "fruits True mutton\n",
      "fruits True beef\n",
      "meat engineer fish\n",
      "meat engineer mutton\n",
      "meat engineer beef\n",
      "meat 7 fish\n",
      "meat 7 mutton\n",
      "meat 7 beef\n",
      "meat True fish\n",
      "meat True mutton\n",
      "meat True beef\n",
      "veggies engineer fish\n",
      "veggies engineer mutton\n",
      "veggies engineer beef\n",
      "veggies 7 fish\n",
      "veggies 7 mutton\n",
      "veggies 7 beef\n",
      "veggies True fish\n",
      "veggies True mutton\n",
      "veggies True beef\n"
     ]
    }
   ],
   "source": [
    "food = ['fruits', 'meat', 'veggies']\n",
    "a = ['engineer', 7, True]\n",
    "meat = ['fish', 'mutton', 'beef']\n",
    "\n",
    "for x in food:\n",
    "    for y in a:\n",
    "        for z in meat:\n",
    "            print(x, y, z)"
   ]
  },
  {
   "cell_type": "code",
   "execution_count": 15,
   "metadata": {},
   "outputs": [],
   "source": [
    "# 'Pass' statement prevents an error when the loop has no comment\n",
    "\n",
    "food = ['fruits', 'meat', 'veggies']\n",
    "\n",
    "for x in food:\n",
    "    pass"
   ]
  },
  {
   "cell_type": "markdown",
   "metadata": {},
   "source": [
    "# Day 12"
   ]
  },
  {
   "cell_type": "markdown",
   "metadata": {},
   "source": [
    "## Python Classes and Objects\n",
    "- A class are a means for bunding data and functionality together.\n",
    "- Creating a class creates an object with instances of that type which may have methods for modifying their states."
   ]
  },
  {
   "cell_type": "markdown",
   "metadata": {},
   "source": [
    "### Create a class"
   ]
  },
  {
   "cell_type": "code",
   "execution_count": 16,
   "metadata": {},
   "outputs": [],
   "source": [
    "class Myclass:\n",
    "    a = 7"
   ]
  },
  {
   "cell_type": "markdown",
   "metadata": {},
   "source": [
    "### Create an object"
   ]
  },
  {
   "cell_type": "code",
   "execution_count": 18,
   "metadata": {},
   "outputs": [
    {
     "name": "stdout",
     "output_type": "stream",
     "text": [
      "7\n"
     ]
    }
   ],
   "source": [
    "n1 = Myclass()\n",
    "print(n1.a)"
   ]
  },
  {
   "cell_type": "markdown",
   "metadata": {},
   "source": [
    "### The 'init()' function\n",
    "- Executed every time the class is launched.\n",
    "- Used to assign values to object properties or perform other operations required when the object is created."
   ]
  },
  {
   "cell_type": "code",
   "execution_count": 19,
   "metadata": {},
   "outputs": [
    {
     "name": "stdout",
     "output_type": "stream",
     "text": [
      "Bob\n",
      "37\n"
     ]
    }
   ],
   "source": [
    "# Create a class named Person, use init() to assign values for name and age\n",
    "\n",
    "class Person:\n",
    "    def __init__(self, name, age):\n",
    "        self.name = name\n",
    "        self.age = age\n",
    "        \n",
    "n1 = Person('Bob', 37)\n",
    "\n",
    "print(n1.name)\n",
    "print(n1.age)"
   ]
  },
  {
   "cell_type": "markdown",
   "metadata": {},
   "source": [
    "### Object Methods\n",
    "- They are functions that belong to the object."
   ]
  },
  {
   "cell_type": "code",
   "execution_count": 30,
   "metadata": {},
   "outputs": [
    {
     "name": "stdout",
     "output_type": "stream",
     "text": [
      "Hello my name is Bob.\n"
     ]
    }
   ],
   "source": [
    "# Create a method in Person class, insert a function to print a greeting and execute on n1 object\n",
    "\n",
    "class Person:\n",
    "    def __init__(self, name, age):\n",
    "        self.name = name\n",
    "        self.age = age\n",
    "    def myfunc(self):\n",
    "        print('Hello my name is ' + self.name + '.')\n",
    "        \n",
    "n1 = Person('Bob', 37)\n",
    "n1.myfunc()"
   ]
  },
  {
   "cell_type": "markdown",
   "metadata": {},
   "source": [
    "### Self Parameter\n",
    "- Refers to current class instance and used to access class variables.\n",
    "- The 'self' parameter can be called any name & be the first parameter of any method in the class."
   ]
  },
  {
   "cell_type": "code",
   "execution_count": 33,
   "metadata": {},
   "outputs": [
    {
     "name": "stdout",
     "output_type": "stream",
     "text": [
      "Hello my name is Bob.\n"
     ]
    }
   ],
   "source": [
    "class Person:\n",
    "    def __init__(home, name, age):\n",
    "        home.name = name\n",
    "        home.age = age\n",
    "        \n",
    "    def myfunc(night):\n",
    "        print('Hello my name is ' + night.name + '.')\n",
    "        \n",
    "n1 = Person('Bob', 37)\n",
    "n1.myfunc()"
   ]
  },
  {
   "cell_type": "code",
   "execution_count": 34,
   "metadata": {},
   "outputs": [
    {
     "data": {
      "text/plain": [
       "37"
      ]
     },
     "execution_count": 34,
     "metadata": {},
     "output_type": "execute_result"
    }
   ],
   "source": [
    "# You can modify properties just like any other Python variables\n",
    "n1.age"
   ]
  },
  {
   "cell_type": "code",
   "execution_count": 38,
   "metadata": {},
   "outputs": [
    {
     "name": "stdout",
     "output_type": "stream",
     "text": [
      "Bob\n",
      "47\n"
     ]
    }
   ],
   "source": [
    "n1.age = 47\n",
    "print(n1.name)\n",
    "print(n1.age)"
   ]
  },
  {
   "cell_type": "markdown",
   "metadata": {},
   "source": [
    "# Day 13"
   ]
  },
  {
   "cell_type": "markdown",
   "metadata": {},
   "source": [
    "## Python Inheritance\n",
    "- Allows us to create a class(child/derived class) that inherits another class's(parent/base class) methods and properties."
   ]
  },
  {
   "cell_type": "markdown",
   "metadata": {},
   "source": [
    "### Creating a Parent Class"
   ]
  },
  {
   "cell_type": "code",
   "execution_count": 40,
   "metadata": {},
   "outputs": [
    {
     "name": "stdout",
     "output_type": "stream",
     "text": [
      "Bob Money\n"
     ]
    }
   ],
   "source": [
    "class Person:\n",
    "    def __init__(self, fname, lname):\n",
    "        self.firstname = fname\n",
    "        self.lastname = lname\n",
    "        \n",
    "    def printname(self):\n",
    "        print(self.firstname, self.lastname)\n",
    "        \n",
    "# Use Person class to create an object and execute the printname method\n",
    "x = Person('Bob', 'Money')\n",
    "x.printname()"
   ]
  },
  {
   "cell_type": "markdown",
   "metadata": {},
   "source": [
    "### Creating a Child Class\n",
    "Set parent class as a parameter when constructing a child class."
   ]
  },
  {
   "cell_type": "code",
   "execution_count": 41,
   "metadata": {},
   "outputs": [
    {
     "name": "stdout",
     "output_type": "stream",
     "text": [
      "Poke Mone\n"
     ]
    }
   ],
   "source": [
    "# Create a class named Student which inherits from the parent class\n",
    "\n",
    "class Student(Person):\n",
    "    pass\n",
    "\n",
    "x = Student('Poke', 'Mone')\n",
    "x.printname()"
   ]
  },
  {
   "cell_type": "markdown",
   "metadata": {},
   "source": [
    "### Using the Super function\n",
    "- Makes child inherit from parent without mentioning parent class when using 'super()' function."
   ]
  },
  {
   "cell_type": "code",
   "execution_count": 45,
   "metadata": {},
   "outputs": [],
   "source": [
    "class Student(Person): \n",
    "    def __init__(self, fname, lname):\n",
    "        super().__init__(self, fname, lname)"
   ]
  },
  {
   "cell_type": "markdown",
   "metadata": {},
   "source": [
    "### Add Properties & Methods"
   ]
  },
  {
   "cell_type": "code",
   "execution_count": 51,
   "metadata": {},
   "outputs": [],
   "source": [
    "# Add a property 'graduationyear' to Student class and add a year parameter & pass correct year when creating objects\n",
    "# Add a method 'welcome' to the Student class\n",
    "\n",
    "class Student(Person): \n",
    "    def __init__(self, fname, lname, year):\n",
    "        super().__init__(self, fname, lname)\n",
    "        self.graduationyear = 2022\n",
    "        \n",
    "    def welcome(self):\n",
    "        print('Welcome', self.firstname, self.lastname, 'to the class of', self.graduationyear)"
   ]
  },
  {
   "cell_type": "markdown",
   "metadata": {},
   "source": [
    "# Day 14"
   ]
  },
  {
   "cell_type": "markdown",
   "metadata": {},
   "source": [
    "## Data Prep\n",
    "- Web scrapping skills which involves dabbling in html code.\n",
    "- Visit website of interest, click f12, side panel appears, search element with text you want and parse."
   ]
  },
  {
   "cell_type": "code",
   "execution_count": 2,
   "metadata": {},
   "outputs": [
    {
     "name": "stdout",
     "output_type": "stream",
     "text": [
      "<title>Machine learning - Wikipedia</title>\n",
      "Machine learning - Wikipedia\n",
      "Machine learning (ML) is a field of inquiry devoted to understanding and building methods that 'learn', that is, methods that leverage data to improve performance on some set of tasks.[1] It is seen as a part of artificial intelligence. Machine learning algorithms build a model based on sample data, known as training data, in order to make predictions or decisions without being explicitly programmed to do so.[2] Machine learning algorithms are used in a wide variety of applications, such as in medicine, email filtering, speech recognition, agriculture, and computer vision, where it is difficult or unfeasible to develop conventional algorithms to perform the needed tasks.[3][4] \n",
      "A subset of machine learning is closely related to computational statistics, which focuses on making predictions using computers, but not all machine learning is statistical learning. The study of mathematical optimization delivers methods, theory and application domains to the field of machine learning. Data mining is a related field of study, focusing on exploratory data analysis through unsupervised learning.[6][7] Some implementations of machine learning use data and neural networks in a way that mimics the working of a biological brain.[8][9]  In its application across business problems, machine learning is also referred to as predictive analytics.\n",
      "\n"
     ]
    }
   ],
   "source": [
    "import requests\n",
    "from bs4 import BeautifulSoup\n",
    "\n",
    "# Download content from the website\n",
    "r = requests.get('https://en.wikipedia.org/wiki/Machine_Learning')\n",
    "\n",
    "# Parse the html content\n",
    "soup = BeautifulSoup(r.content, 'html.parser')\n",
    "\n",
    "# Extract the title from the article\n",
    "print(soup.title)\n",
    "print(soup.title.text)\n",
    "\n",
    "# Extract the first paragraph from the article\n",
    "first_paragrph = soup.find_all('p')[0]\n",
    "print(first_paragrph.text)"
   ]
  },
  {
   "cell_type": "markdown",
   "metadata": {},
   "source": [
    "$ Further  Practice  on  Webscraping  Required $ - https://www.youtube.com/watch?v=XVv6mJpFOb0&ab_channel=freeCodeCamp.org"
   ]
  },
  {
   "cell_type": "markdown",
   "metadata": {},
   "source": [
    "# Day 15"
   ]
  },
  {
   "cell_type": "markdown",
   "metadata": {},
   "source": [
    "## Data Prep 2\n",
    "After collecting raw data, you need to extract and prepare the info important to train the ML model.\n",
    "\n",
    "## Parsing Files\n",
    "Converting data from one format to another."
   ]
  },
  {
   "cell_type": "code",
   "execution_count": null,
   "metadata": {},
   "outputs": [],
   "source": [
    "# Opening a file\n",
    "f = open('ML.txt', 'rt')\n",
    "\n",
    "# Read files\n",
    "print(f.read())\n",
    "\n",
    "# Read line per line of a file\n",
    "f = open('ML.txt', 'rt')\n",
    "for x in f:\n",
    "    print(x)\n",
    "    \n",
    "# Write/Create Files\n",
    "f = open('demofile2.txt', 'a')\n",
    "f.write('Now the file has more content')\n",
    "f.close()\n",
    "\n",
    "#Open and read the file after the appending\n",
    "f = open('demofile2.txt', 'r')\n",
    "print(f.read())\n",
    "\n",
    "# Delete files\n",
    "# You must import the 'OS' module and run its 'os.remove()' function\n",
    "import os\n",
    "os.remove('demofile.txt')"
   ]
  },
  {
   "cell_type": "markdown",
   "metadata": {},
   "source": [
    "# Day 16"
   ]
  },
  {
   "cell_type": "markdown",
   "metadata": {},
   "source": [
    "## Data Management using SQL with Python\n",
    "Python is used in database applications and one of the most popular databases is MySQL"
   ]
  },
  {
   "cell_type": "code",
   "execution_count": 19,
   "metadata": {},
   "outputs": [],
   "source": [
    "# Testing the connection\n",
    "import mysql.connector"
   ]
  },
  {
   "cell_type": "code",
   "execution_count": 20,
   "metadata": {},
   "outputs": [
    {
     "name": "stdout",
     "output_type": "stream",
     "text": [
      "<mysql.connector.connection_cext.CMySQLConnection object at 0x000002374D2883D0>\n"
     ]
    }
   ],
   "source": [
    "# Creating a connection to the database\n",
    "mydb = mysql.connector.connect(host = 'localhost',\n",
    "                              user = 'root',\n",
    "                              password = '@Brian/2001'\n",
    "                              )\n",
    "print(mydb)"
   ]
  },
  {
   "cell_type": "code",
   "execution_count": 23,
   "metadata": {},
   "outputs": [],
   "source": [
    "# Create a database(Use 'CREATE DATABASE' statement)\n",
    "mydb = mysql.connector.connect(host = 'localhost',\n",
    "                              user = 'root',\n",
    "                              password = '@Brian/2001'\n",
    "                              )\n",
    "mycursor = mydb.cursor()\n",
    "mycursor.execute('CREATE DATABASE mydatabase1')"
   ]
  },
  {
   "cell_type": "code",
   "execution_count": 13,
   "metadata": {},
   "outputs": [],
   "source": [
    "# Create a table(Use 'CREATE TABLE' statement)\n",
    "mydb = mysql.connector.connect(host = 'localhost',\n",
    "                              user = 'root',\n",
    "                              password = '@Brian/2001',\n",
    "                               database = 'mydatabase1'\n",
    "                              )\n",
    "mycursor = mydb.cursor()\n",
    "mycursor.execute('CREATE TABLE customers(name VARCHAR(255), address VARCHAR(255))')"
   ]
  },
  {
   "cell_type": "markdown",
   "metadata": {},
   "source": [
    "# Day 17"
   ]
  },
  {
   "cell_type": "markdown",
   "metadata": {},
   "source": [
    "## Data Management - Adding & Updating Records to a Table\n",
    "Use the 'INSERT INTO' statement."
   ]
  },
  {
   "cell_type": "code",
   "execution_count": 27,
   "metadata": {},
   "outputs": [
    {
     "name": "stdout",
     "output_type": "stream",
     "text": [
      "1 record inserted.\n"
     ]
    }
   ],
   "source": [
    "# Insert a record in the 'customers' table\n",
    "import mysql.connector\n",
    "mydb = mysql.connector.connect(host = 'localhost',\n",
    "                              user = 'root',\n",
    "                              password = '@Brian/2001',\n",
    "                               database = 'mydatabase1'\n",
    "                              )\n",
    "\n",
    "mycursor = mydb.cursor()\n",
    "\n",
    "sql = 'INSERT INTO customers (name, address) VALUES (%s, %s)'\n",
    "val = ('John', 'Highway 21')\n",
    "\n",
    "mycursor.execute(sql, val)\n",
    "\n",
    "mydb.commit()\n",
    "\n",
    "print(mycursor.rowcount, 'record inserted.')"
   ]
  },
  {
   "cell_type": "markdown",
   "metadata": {},
   "source": [
    "### Insert Multiple rows\n",
    "* use the 'executemany()' method\n",
    "* The 2nd parameter of the executemany() is a lst of tuples containing the data you want to insert"
   ]
  },
  {
   "cell_type": "code",
   "execution_count": 31,
   "metadata": {},
   "outputs": [
    {
     "name": "stdout",
     "output_type": "stream",
     "text": [
      "7 more records inserted.\n"
     ]
    }
   ],
   "source": [
    "import mysql.connector\n",
    "mydb = mysql.connector.connect(host = 'localhost',\n",
    "                              user = 'root',\n",
    "                              password = '@Brian/2001',\n",
    "                               database = 'mydatabase1'\n",
    "                              )\n",
    "\n",
    "mycursor = mydb.cursor()\n",
    "\n",
    "sql = 'INSERT INTO customers (name, address) VALUES (%s, %s)'\n",
    "val = [\n",
    "    ('Kim', 'High 4'),\n",
    "    ('Yolo', 'Came 54'),\n",
    "    ('Did', 'Databease 9'),\n",
    "    ('Won', '57 Waters'),\n",
    "    ('Ball', 'Monies 7'),\n",
    "    ('Gifty', 'Leeway 98'),\n",
    "    ('Understood', 'Remote 7')\n",
    "]\n",
    "\n",
    "mycursor.executemany(sql, val)\n",
    "\n",
    "mydb.commit()\n",
    "\n",
    "print(mycursor.rowcount, 'more records inserted.')"
   ]
  },
  {
   "cell_type": "markdown",
   "metadata": {},
   "source": [
    "### Insert an ID\n",
    "* You can get the id of the row you just inserted by asking the cursor object"
   ]
  },
  {
   "cell_type": "code",
   "execution_count": 32,
   "metadata": {},
   "outputs": [
    {
     "name": "stdout",
     "output_type": "stream",
     "text": [
      "1 record inserted, ID: 0\n"
     ]
    }
   ],
   "source": [
    "import mysql.connector\n",
    "mydb = mysql.connector.connect(host = 'localhost',\n",
    "                              user = 'root',\n",
    "                              password = '@Brian/2001',\n",
    "                               database = 'mydatabase1'\n",
    "                              )\n",
    "\n",
    "mycursor = mydb.cursor()\n",
    "\n",
    "sql = 'INSERT INTO customers (name, address) VALUES (%s, %s)'\n",
    "val = ('Role', 'Engineer 7')\n",
    "\n",
    "mycursor.execute(sql, val)\n",
    "\n",
    "mydb.commit()\n",
    "\n",
    "print('1 record inserted, ID:', mycursor.lastrowid)"
   ]
  },
  {
   "cell_type": "markdown",
   "metadata": {},
   "source": [
    "### Update a table\n",
    "* Use the 'UPDATE' statement"
   ]
  },
  {
   "cell_type": "code",
   "execution_count": 37,
   "metadata": {},
   "outputs": [
    {
     "name": "stdout",
     "output_type": "stream",
     "text": [
      "1 record(s) affected\n"
     ]
    }
   ],
   "source": [
    "# Overwrite the address column from 'Databease 9' to 'Landjob 123'\n",
    "import mysql.connector\n",
    "mydb = mysql.connector.connect(host = 'localhost',\n",
    "                              user = 'root',\n",
    "                              password = '@Brian/2001',\n",
    "                               database = 'mydatabase1'\n",
    "                              )\n",
    "\n",
    "mycursor = mydb.cursor()\n",
    "\n",
    "sql = \"UPDATE customers SET address = 'Jobland 123' WHERE address = 'Databease 9'\"\n",
    "\n",
    "mycursor.execute(sql)\n",
    "\n",
    "mydb.commit()\n",
    "\n",
    "print(mycursor.rowcount, 'record(s) affected')"
   ]
  },
  {
   "cell_type": "markdown",
   "metadata": {},
   "source": [
    "# Day 18"
   ]
  },
  {
   "cell_type": "markdown",
   "metadata": {},
   "source": [
    "## Database Management - Reading Database Records\n",
    "You need use the SELECT keyword to get results from a table."
   ]
  },
  {
   "cell_type": "code",
   "execution_count": 41,
   "metadata": {},
   "outputs": [
    {
     "name": "stdout",
     "output_type": "stream",
     "text": [
      "('John', 'Highway 21')\n",
      "('Kim', 'High 4')\n",
      "('Yolo', 'Came 54')\n",
      "('Did', 'Jobland 123')\n",
      "('Won', '57 Waters')\n",
      "('Ball', 'Monies 7')\n",
      "('Gifty', 'Leeway 98')\n",
      "('Understood', 'Remote 7')\n",
      "('Role', 'Engineer 7')\n"
     ]
    }
   ],
   "source": [
    "# Select all records from the 'customers' table and display the result\n",
    "import mysql.connector\n",
    "mydb = mysql.connector.connect(host = 'localhost',\n",
    "                              user = 'root',\n",
    "                              password = '@Brian/2001',\n",
    "                               database = 'mydatabase1'\n",
    "                              )\n",
    "\n",
    "mycursor = mydb.cursor()\n",
    "\n",
    "mycursor.execute('SELECT * FROM customers')\n",
    "\n",
    "myresult = mycursor.fetchall()\n",
    "\n",
    "for x in myresult:\n",
    "    print(x)"
   ]
  },
  {
   "cell_type": "markdown",
   "metadata": {},
   "source": [
    "### Selecting Columns"
   ]
  },
  {
   "cell_type": "code",
   "execution_count": 44,
   "metadata": {},
   "outputs": [
    {
     "name": "stdout",
     "output_type": "stream",
     "text": [
      "('Highway 21',)\n",
      "('High 4',)\n",
      "('Came 54',)\n",
      "('Jobland 123',)\n",
      "('57 Waters',)\n",
      "('Monies 7',)\n",
      "('Leeway 98',)\n",
      "('Remote 7',)\n",
      "('Engineer 7',)\n"
     ]
    }
   ],
   "source": [
    "import mysql.connector\n",
    "mydb = mysql.connector.connect(host = 'localhost',\n",
    "                              user = 'root',\n",
    "                              password = '@Brian/2001',\n",
    "                               database = 'mydatabase1'\n",
    "                              )\n",
    "\n",
    "mycursor = mydb.cursor()\n",
    "\n",
    "mycursor.execute('SELECT address FROM customers')\n",
    "\n",
    "myresult = mycursor.fetchall()\n",
    "\n",
    "for x in myresult:\n",
    "    print(x)"
   ]
  },
  {
   "cell_type": "markdown",
   "metadata": {},
   "source": [
    "### Selecting one row"
   ]
  },
  {
   "cell_type": "code",
   "execution_count": 50,
   "metadata": {},
   "outputs": [
    {
     "name": "stdout",
     "output_type": "stream",
     "text": [
      "John\n",
      "Highway 21\n"
     ]
    }
   ],
   "source": [
    "# Use 'fetchone()' method to select one row\n",
    "import mysql.connector\n",
    "mydb = mysql.connector.connect(host = 'localhost',\n",
    "                              user = 'root',\n",
    "                              password = '@Brian/2001',\n",
    "                               database = 'mydatabase1'\n",
    "                              )\n",
    "\n",
    "mycursor = mydb.cursor()\n",
    "\n",
    "mycursor.execute('SELECT name, address FROM customers')\n",
    "\n",
    "myresult = mycursor.fetchone()\n",
    "\n",
    "for x in myresult:\n",
    "    print(x)"
   ]
  },
  {
   "cell_type": "markdown",
   "metadata": {},
   "source": [
    "### Limiting returned results\n",
    "Use the 'LIMIT' statement"
   ]
  },
  {
   "cell_type": "code",
   "execution_count": 53,
   "metadata": {},
   "outputs": [
    {
     "name": "stdout",
     "output_type": "stream",
     "text": [
      "('John', 'Highway 21')\n",
      "('Kim', 'High 4')\n",
      "('Yolo', 'Came 54')\n"
     ]
    }
   ],
   "source": [
    "# Select the first 3 records in the 'customers' table\n",
    "import mysql.connector\n",
    "mydb = mysql.connector.connect(host = 'localhost',\n",
    "                              user = 'root',\n",
    "                              password = '@Brian/2001',\n",
    "                               database = 'mydatabase1'\n",
    "                              )\n",
    "\n",
    "mycursor = mydb.cursor()\n",
    "\n",
    "mycursor.execute('SELECT * FROM customers LIMIT 3')\n",
    "\n",
    "myresult = mycursor.fetchall()\n",
    "\n",
    "for x in myresult:\n",
    "    print(x)"
   ]
  },
  {
   "cell_type": "markdown",
   "metadata": {},
   "source": [
    "# Day 19"
   ]
  },
  {
   "cell_type": "markdown",
   "metadata": {},
   "source": [
    "## Database Management - Filtering Records\n",
    "* When selecting records, you can filter using the 'WHERE' satement"
   ]
  },
  {
   "cell_type": "code",
   "execution_count": 56,
   "metadata": {},
   "outputs": [
    {
     "name": "stdout",
     "output_type": "stream",
     "text": [
      "('Understood', 'Remote 7')\n"
     ]
    }
   ],
   "source": [
    "# Select record where the address is 'Remote 7'\n",
    "import mysql.connector\n",
    "mydb = mysql.connector.connect(host = 'localhost',\n",
    "                              user = 'root',\n",
    "                              password = '@Brian/2001',\n",
    "                               database = 'mydatabase1'\n",
    "                              )\n",
    "\n",
    "mycursor = mydb.cursor()\n",
    "\n",
    "sql = \"SELECT * FROM customers WHERE address = 'Remote 7'\"\n",
    "\n",
    "mycursor.execute(sql)\n",
    "\n",
    "myresult = mycursor.fetchall()\n",
    "\n",
    "for x in myresult:\n",
    "    print(x)"
   ]
  },
  {
   "cell_type": "code",
   "execution_count": 57,
   "metadata": {},
   "outputs": [
    {
     "name": "stdout",
     "output_type": "stream",
     "text": [
      "('Understood', 'Remote 7')\n"
     ]
    }
   ],
   "source": [
    "import mysql.connector\n",
    "mydb = mysql.connector.connect(host = 'localhost',\n",
    "                              user = 'root',\n",
    "                              password = '@Brian/2001',\n",
    "                               database = 'mydatabase1'\n",
    "                              )\n",
    "\n",
    "mycursor = mydb.cursor()\n",
    "\n",
    "mycursor.execute(\"SELECT * FROM customers WHERE address = 'Remote 7'\")\n",
    "\n",
    "myresult = mycursor.fetchall()\n",
    "\n",
    "for x in myresult:\n",
    "    print(x)"
   ]
  },
  {
   "cell_type": "markdown",
   "metadata": {},
   "source": [
    "### Wildcard Characters\n",
    "You can select records with certain characters/phrases.\n",
    "Use the % to rep. wildcard characters"
   ]
  },
  {
   "cell_type": "code",
   "execution_count": 58,
   "metadata": {},
   "outputs": [
    {
     "name": "stdout",
     "output_type": "stream",
     "text": [
      "('John', 'Highway 21')\n",
      "('Gifty', 'Leeway 98')\n"
     ]
    }
   ],
   "source": [
    "# Select records where address contains the word 'way'\n",
    "import mysql.connector\n",
    "mydb = mysql.connector.connect(host = 'localhost',\n",
    "                              user = 'root',\n",
    "                              password = '@Brian/2001',\n",
    "                               database = 'mydatabase1'\n",
    "                              )\n",
    "\n",
    "mycursor = mydb.cursor()\n",
    "\n",
    "mycursor.execute(\"SELECT * FROM customers WHERE address LIKE '%WAY%'\")\n",
    "\n",
    "myresult = mycursor.fetchall()\n",
    "\n",
    "for x in myresult:\n",
    "    print(x)"
   ]
  },
  {
   "cell_type": "markdown",
   "metadata": {},
   "source": [
    "### Prevent SQL Injection\n",
    "When the user provides query values, you should escape the values to avoid SQL injections.\n",
    "\n",
    "Use the placeholders '%s' method to escape query values"
   ]
  },
  {
   "cell_type": "code",
   "execution_count": 60,
   "metadata": {},
   "outputs": [],
   "source": [
    "import mysql.connector\n",
    "mydb = mysql.connector.connect(host = 'localhost',\n",
    "                              user = 'root',\n",
    "                              password = '@Brian/2001',\n",
    "                               database = 'mydatabase1'\n",
    "                              )\n",
    "\n",
    "mycursor = mydb.cursor()\n",
    "\n",
    "sql = \"SELECT * FROM customers WHERE address = '%s'\"\n",
    "adr = ('Engineer 7')\n",
    "\n",
    "mycursor.execute(sql)\n",
    "\n",
    "myresult = mycursor.fetchall()\n",
    "\n",
    "for x in myresult:\n",
    "    print(x)"
   ]
  },
  {
   "cell_type": "markdown",
   "metadata": {},
   "source": [
    "# Day 20"
   ]
  },
  {
   "cell_type": "markdown",
   "metadata": {},
   "source": [
    "## Database Management - Sorting Records\n",
    "Use the 'OREDR BY' command to sort in ASC/DESC order. By default, the command sorts in ascending."
   ]
  },
  {
   "cell_type": "code",
   "execution_count": 61,
   "metadata": {},
   "outputs": [
    {
     "name": "stdout",
     "output_type": "stream",
     "text": [
      "('Ball', 'Monies 7')\n",
      "('Did', 'Jobland 123')\n",
      "('Gifty', 'Leeway 98')\n",
      "('John', 'Highway 21')\n",
      "('Kim', 'High 4')\n",
      "('Role', 'Engineer 7')\n",
      "('Understood', 'Remote 7')\n",
      "('Won', '57 Waters')\n",
      "('Yolo', 'Came 54')\n"
     ]
    }
   ],
   "source": [
    "import mysql.connector\n",
    "mydb = mysql.connector.connect(host = 'localhost',\n",
    "                              user = 'root',\n",
    "                              password = '@Brian/2001',\n",
    "                               database = 'mydatabase1'\n",
    "                              )\n",
    "\n",
    "mycursor = mydb.cursor()\n",
    "\n",
    "sql = \"SELECT * FROM customers ORDER BY name\"\n",
    "adr = ('Engineer 7')\n",
    "\n",
    "mycursor.execute(sql)\n",
    "\n",
    "myresult = mycursor.fetchall()\n",
    "\n",
    "for x in myresult:\n",
    "    print(x)"
   ]
  },
  {
   "cell_type": "code",
   "execution_count": 62,
   "metadata": {},
   "outputs": [
    {
     "name": "stdout",
     "output_type": "stream",
     "text": [
      "('Yolo', 'Came 54')\n",
      "('Won', '57 Waters')\n",
      "('Understood', 'Remote 7')\n",
      "('Role', 'Engineer 7')\n",
      "('Kim', 'High 4')\n",
      "('John', 'Highway 21')\n",
      "('Gifty', 'Leeway 98')\n",
      "('Did', 'Jobland 123')\n",
      "('Ball', 'Monies 7')\n"
     ]
    }
   ],
   "source": [
    "import mysql.connector\n",
    "mydb = mysql.connector.connect(host = 'localhost',\n",
    "                              user = 'root',\n",
    "                              password = '@Brian/2001',\n",
    "                               database = 'mydatabase1'\n",
    "                              )\n",
    "\n",
    "mycursor = mydb.cursor()\n",
    "\n",
    "sql = \"SELECT * FROM customers ORDER BY name DESC\"\n",
    "adr = ('Engineer 7')\n",
    "\n",
    "mycursor.execute(sql)\n",
    "\n",
    "myresult = mycursor.fetchall()\n",
    "\n",
    "for x in myresult:\n",
    "    print(x)"
   ]
  },
  {
   "cell_type": "markdown",
   "metadata": {},
   "source": [
    "# Day 21"
   ]
  },
  {
   "cell_type": "markdown",
   "metadata": {},
   "source": [
    "## Data Management - Delete Records\n",
    "- Use the 'DELETE FROM' statement"
   ]
  },
  {
   "cell_type": "code",
   "execution_count": 4,
   "metadata": {},
   "outputs": [
    {
     "name": "stdout",
     "output_type": "stream",
     "text": [
      "0 record(s) deleted\n"
     ]
    }
   ],
   "source": [
    "# Delete any record where the address is '57 Waters'\n",
    "import mysql.connector\n",
    "mydb = mysql.connector.connect(host = 'localhost',\n",
    "                              user = 'root',\n",
    "                              password = '@Brian/2001',\n",
    "                               database = 'mydatabase1'\n",
    "                              )\n",
    "\n",
    "mycursor = mydb.cursor()\n",
    "\n",
    "sql = \"DELETE FROM customers WHERE address = '57 Waters'\"\n",
    "\n",
    "mycursor.execute(sql)\n",
    "\n",
    "mydb.commit()\n",
    "\n",
    "print(mycursor.rowcount, 'record(s) deleted')"
   ]
  },
  {
   "cell_type": "markdown",
   "metadata": {},
   "source": [
    "### Delete a table\n",
    "- Use the 'DROP TABLE' statement\n",
    "- If the table you intend to delete has been deleted before, use 'IF EXISTS' to avoid an error."
   ]
  },
  {
   "cell_type": "code",
   "execution_count": 10,
   "metadata": {},
   "outputs": [],
   "source": [
    "#Drop the table customers\n",
    "import mysql.connector\n",
    "mydb = mysql.connector.connect(host = 'localhost',\n",
    "                              user = 'root',\n",
    "                              password = '@Brian/2001',\n",
    "                               database = 'mydatabase1'\n",
    "                              )\n",
    "\n",
    "mycursor = mydb.cursor()\n",
    "\n",
    "sql = \"DROP TABLE customers\"\n",
    "\n",
    "mycursor.execute(sql)"
   ]
  },
  {
   "cell_type": "code",
   "execution_count": 11,
   "metadata": {},
   "outputs": [],
   "source": [
    "import mysql.connector\n",
    "mydb = mysql.connector.connect(host = 'localhost',\n",
    "                              user = 'root',\n",
    "                              password = '@Brian/2001',\n",
    "                               database = 'mydatabase1'\n",
    "                              )\n",
    "\n",
    "mycursor = mydb.cursor()\n",
    "\n",
    "sql = \"DROP TABLE IF EXISTS customers\"\n",
    "\n",
    "mycursor.execute(sql)"
   ]
  },
  {
   "cell_type": "markdown",
   "metadata": {},
   "source": [
    "# Day 22"
   ]
  },
  {
   "cell_type": "markdown",
   "metadata": {},
   "source": [
    "## Data Management - Updating Tables\n",
    "- Use the 'UPDATE' statement"
   ]
  },
  {
   "cell_type": "code",
   "execution_count": 15,
   "metadata": {},
   "outputs": [
    {
     "name": "stdout",
     "output_type": "stream",
     "text": [
      "0 record(s) affected\n"
     ]
    }
   ],
   "source": [
    "# Overwrite 'Came 54' to 'Maximize Time'\n",
    "import mysql.connector\n",
    "mydb = mysql.connector.connect(host = 'localhost',\n",
    "                              user = 'root',\n",
    "                              password = '@Brian/2001',\n",
    "                               database = 'mydatabase1'\n",
    "                              )\n",
    "\n",
    "mycursor = mydb.cursor()\n",
    "\n",
    "sql = \"UPDATE customers SET address = 'Maximize Time' WHERE address = 'Came 54'\"\n",
    "\n",
    "mycursor.execute(sql)\n",
    "\n",
    "mydb.commit()\n",
    "\n",
    "print(mycursor.rowcount, 'record(s) affected')"
   ]
  },
  {
   "cell_type": "markdown",
   "metadata": {},
   "source": [
    "# Day 23"
   ]
  },
  {
   "cell_type": "markdown",
   "metadata": {},
   "source": [
    "## Data Management - Joining Tables\n",
    "- Combine rows from two/more tables based on a related column(primary key) using a 'JOIN' statement.\n",
    "- We use Left, Right, Outer or Inner joins in joining tables.\n",
    "- Use this link \"https://www.youtube.com/playlist?list=PLLAZ4kZ9dFpMGXTKXsBM_ZNpJwowfsP49\" to learn more on SQL."
   ]
  },
  {
   "cell_type": "markdown",
   "metadata": {},
   "source": [
    "# Day 24"
   ]
  },
  {
   "cell_type": "markdown",
   "metadata": {},
   "source": [
    "## Data Visualization with Matplotlib\n",
    "Visualizes data in order to understand the story the data is communicating.\n",
    "Use the 'plot()' function."
   ]
  },
  {
   "cell_type": "code",
   "execution_count": 1,
   "metadata": {},
   "outputs": [
    {
     "data": {
      "image/png": "[encoded data removed]",
      "text/plain": [
       "<Figure size 640x480 with 1 Axes>"
      ]
     },
     "metadata": {},
     "output_type": "display_data"
    }
   ],
   "source": [
    "# Plotting x and y points\n",
    "import matplotlib.pyplot as plt\n",
    "import numpy as np\n",
    "\n",
    "xpoints = np.array([1, 8])\n",
    "ypoints = np.array([3, 10])\n",
    "\n",
    "plt.plot(xpoints, ypoints)\n",
    "plt.show()"
   ]
  },
  {
   "cell_type": "markdown",
   "metadata": {},
   "source": [
    "### Plotting without a line\n",
    "To plot only markers, use \"shortcut string notation\" parameter \"o\" which means rings."
   ]
  },
  {
   "cell_type": "code",
   "execution_count": 2,
   "metadata": {},
   "outputs": [
    {
     "data": {
      "image/png": "[encoded data removed]",
      "text/plain": [
       "<Figure size 640x480 with 1 Axes>"
      ]
     },
     "metadata": {},
     "output_type": "display_data"
    }
   ],
   "source": [
    "import matplotlib.pyplot as plt\n",
    "import numpy as np\n",
    "\n",
    "xpoints = np.array([1, 8])\n",
    "ypoints = np.array([3, 10])\n",
    "\n",
    "plt.plot(xpoints, ypoints, 'o')\n",
    "plt.show()"
   ]
  },
  {
   "cell_type": "markdown",
   "metadata": {},
   "source": [
    "### Multiple points\n",
    "Ensure you have the same number of points on both axis."
   ]
  },
  {
   "cell_type": "code",
   "execution_count": 7,
   "metadata": {},
   "outputs": [
    {
     "data": {
      "image/png": "[encoded data removed]",
      "text/plain": [
       "<Figure size 640x480 with 1 Axes>"
      ]
     },
     "metadata": {},
     "output_type": "display_data"
    }
   ],
   "source": [
    "import matplotlib.pyplot as plt\n",
    "import numpy as np\n",
    "\n",
    "xpoints = np.array([1, 2, 4, 6, 8])\n",
    "ypoints = np.array([3, 5, 7, 1, 10])\n",
    "\n",
    "plt.plot(xpoints, ypoints)\n",
    "plt.show()"
   ]
  },
  {
   "cell_type": "markdown",
   "metadata": {},
   "source": [
    "### Default X-Points\n",
    "If we do not specify x-axis, they get default values 0, 1, 2, 3,... depending on the length of y-axis."
   ]
  },
  {
   "cell_type": "code",
   "execution_count": 8,
   "metadata": {},
   "outputs": [
    {
     "data": {
      "image/png": "[encoded data removed]",
      "text/plain": [
       "<Figure size 640x480 with 1 Axes>"
      ]
     },
     "metadata": {},
     "output_type": "display_data"
    }
   ],
   "source": [
    "import matplotlib.pyplot as plt\n",
    "import numpy as np\n",
    "\n",
    "ypoints = np.array([3, 5, 7, 1, 10])\n",
    "\n",
    "plt.plot(xpoints, ypoints)\n",
    "plt.show()"
   ]
  },
  {
   "cell_type": "markdown",
   "metadata": {},
   "source": [
    "# Day 25"
   ]
  },
  {
   "cell_type": "markdown",
   "metadata": {},
   "source": [
    "## Data Visualization - Matplotlib Subplots\n",
    "Display multiple results with the 'subplot()' function."
   ]
  },
  {
   "cell_type": "code",
   "execution_count": 9,
   "metadata": {},
   "outputs": [
    {
     "data": {
      "image/png": "[encoded data removed]",
      "text/plain": [
       "<Figure size 640x480 with 2 Axes>"
      ]
     },
     "metadata": {},
     "output_type": "display_data"
    }
   ],
   "source": [
    "import matplotlib.pyplot as plt\n",
    "import numpy as np\n",
    "\n",
    "# Plot 1\n",
    "x = np.array([1, 2, 4, 6, 8])\n",
    "y = np.array([3, 5, 7, 1, 10])\n",
    "\n",
    "plt.subplot(1, 2, 1)\n",
    "plt.plot(x, y)\n",
    "\n",
    "# Plot 2\n",
    "x = np.array([0, 1, 2, 3])\n",
    "y = np.array([10, 20, 30, 40])\n",
    "\n",
    "plt.subplot(1, 2, 2)\n",
    "plt.plot(x, y)\n",
    "\n",
    "plt.show()"
   ]
  },
  {
   "cell_type": "markdown",
   "metadata": {},
   "source": [
    "### The subplot() Function\n",
    "Takes 3 arguments that describes the layout of the figure.\n",
    "Layout is oranized in rows and columns rep. by the first and second argument."
   ]
  },
  {
   "cell_type": "code",
   "execution_count": 10,
   "metadata": {},
   "outputs": [
    {
     "data": {
      "image/png": "[encoded data removed]",
      "text/plain": [
       "<Figure size 640x480 with 2 Axes>"
      ]
     },
     "metadata": {},
     "output_type": "display_data"
    }
   ],
   "source": [
    "# Draw 2 plots on top of each other.\n",
    "import matplotlib.pyplot as plt\n",
    "import numpy as np\n",
    "\n",
    "# Plot 1\n",
    "x = np.array([1, 2, 4, 6, 8])\n",
    "y = np.array([3, 5, 7, 1, 10])\n",
    "\n",
    "plt.subplot(2, 1, 1)\n",
    "plt.plot(x, y)\n",
    "\n",
    "# Plot 2\n",
    "x = np.array([0, 1, 2, 3])\n",
    "y = np.array([10, 20, 30, 40])\n",
    "\n",
    "plt.subplot(2, 1, 2)\n",
    "plt.plot(x, y)\n",
    "\n",
    "plt.show()"
   ]
  },
  {
   "cell_type": "code",
   "execution_count": 11,
   "metadata": {},
   "outputs": [
    {
     "data": {
      "image/png": "[encoded data removed]",
      "text/plain": [
       "<Figure size 640x480 with 6 Axes>"
      ]
     },
     "metadata": {},
     "output_type": "display_data"
    }
   ],
   "source": [
    "# Draw 6 plots\n",
    "import matplotlib.pyplot as plt\n",
    "import numpy as np\n",
    "\n",
    "# Plot 1\n",
    "x = np.array([1, 2, 4, 6, 8])\n",
    "y = np.array([3, 5, 7, 1, 10])\n",
    "\n",
    "plt.subplot(2, 3, 1)\n",
    "plt.plot(x, y)\n",
    "\n",
    "# Plot 2\n",
    "x = np.array([0, 1, 2, 3])\n",
    "y = np.array([10, 20, 30, 40])\n",
    "\n",
    "plt.subplot(2, 3, 2)\n",
    "plt.plot(x, y)\n",
    "\n",
    "# Plot 1\n",
    "x = np.array([1, 2, 4, 6, 8])\n",
    "y = np.array([3, 5, 7, 1, 10])\n",
    "\n",
    "plt.subplot(2, 3, 3)\n",
    "plt.plot(x, y)\n",
    "\n",
    "# Plot 2\n",
    "x = np.array([0, 1, 2, 3])\n",
    "y = np.array([10, 20, 30, 40])\n",
    "\n",
    "plt.subplot(2, 3, 4)\n",
    "plt.plot(x, y)\n",
    "\n",
    "# Plot 1\n",
    "x = np.array([1, 2, 4, 6, 8])\n",
    "y = np.array([3, 5, 7, 1, 10])\n",
    "\n",
    "plt.subplot(2, 3, 5)\n",
    "plt.plot(x, y)\n",
    "\n",
    "# Plot 2\n",
    "x = np.array([0, 1, 2, 3])\n",
    "y = np.array([10, 20, 30, 40])\n",
    "\n",
    "plt.subplot(2, 3, 6)\n",
    "plt.plot(x, y)\n",
    "\n",
    "plt.show()"
   ]
  },
  {
   "cell_type": "markdown",
   "metadata": {},
   "source": [
    "# Day 26"
   ]
  },
  {
   "cell_type": "markdown",
   "metadata": {},
   "source": [
    "## Data Visualization - Matplotlib\n",
    "### Creating Scatter Plots\n",
    "With Pyplot, use the scatter() function to draw a scatter plot."
   ]
  },
  {
   "cell_type": "code",
   "execution_count": 13,
   "metadata": {},
   "outputs": [
    {
     "data": {
      "image/png": "[encoded data removed]",
      "text/plain": [
       "<Figure size 640x480 with 1 Axes>"
      ]
     },
     "metadata": {},
     "output_type": "display_data"
    }
   ],
   "source": [
    "import matplotlib.pyplot as plt\n",
    "import numpy as np\n",
    "\n",
    "x = np.array([0, 1, 2, 3, 7, 8, 13, 14, 6, 9, 2, 24, 17])\n",
    "y = np.array([10, 67, 73, 45, 98, 39, 20, 30, 31, 87, 83, 40, 75])\n",
    "\n",
    "plt.scatter(x, y)\n",
    "plt.show()"
   ]
  },
  {
   "cell_type": "markdown",
   "metadata": {},
   "source": [
    "### Compare Plots"
   ]
  },
  {
   "cell_type": "code",
   "execution_count": 15,
   "metadata": {},
   "outputs": [
    {
     "data": {
      "image/png": "[encoded data removed]",
      "text/plain": [
       "<Figure size 640x480 with 1 Axes>"
      ]
     },
     "metadata": {},
     "output_type": "display_data"
    }
   ],
   "source": [
    "import matplotlib.pyplot as plt\n",
    "import numpy as np\n",
    "\n",
    "x = np.array([0, 1, 2, 3, 7, 8, 13, 14, 6, 9, 2, 24, 17])\n",
    "y = np.array([10, 67, 73, 45, 98, 39, 20, 30, 31, 87, 83, 40, 75])\n",
    "\n",
    "plt.scatter(x, y)\n",
    "\n",
    "x = np.array([7, 9, 5, 12, 11, 6, 8, 3, 4, 9, 2, 15, 13])\n",
    "y = np.array([20, 57, 37, 46, 92, 27, 10, 37, 84, 43, 47, 57, 61])\n",
    "\n",
    "plt.scatter(x, y)\n",
    "plt.show()"
   ]
  },
  {
   "cell_type": "markdown",
   "metadata": {},
   "source": [
    "# Day 27"
   ]
  },
  {
   "cell_type": "markdown",
   "metadata": {},
   "source": [
    "## Data Visualization - Matplotlib"
   ]
  },
  {
   "cell_type": "markdown",
   "metadata": {},
   "source": [
    "# Day 28"
   ]
  },
  {
   "cell_type": "markdown",
   "metadata": {},
   "source": [
    "## Data Visualization with Matplotlib\n",
    "\n",
    "### Histograms"
   ]
  },
  {
   "cell_type": "markdown",
   "metadata": {},
   "source": [
    "# Day 29"
   ]
  },
  {
   "cell_type": "markdown",
   "metadata": {},
   "source": [
    "## Data Visualization with Matplotlib\n",
    "\n",
    "### Pie Charts"
   ]
  },
  {
   "cell_type": "markdown",
   "metadata": {},
   "source": [
    "# Day 30"
   ]
  },
  {
   "cell_type": "markdown",
   "metadata": {},
   "source": [
    "# Day 31 - 1st Dec, 2022"
   ]
  },
  {
   "cell_type": "markdown",
   "metadata": {},
   "source": [
    "# Day 32"
   ]
  },
  {
   "cell_type": "markdown",
   "metadata": {},
   "source": [
    "## Pandas DataFrames\n",
    "A 2D data structure with rows and columns"
   ]
  },
  {
   "cell_type": "code",
   "execution_count": 5,
   "metadata": {},
   "outputs": [
    {
     "name": "stdout",
     "output_type": "stream",
     "text": [
      "   calories  duration\n",
      "0       428        50\n",
      "1       380        40\n",
      "2       390        34\n",
      "3       777        67\n",
      "4       856        98\n",
      "5       987        45\n",
      "6       237        27\n"
     ]
    }
   ],
   "source": [
    "import pandas as pd\n",
    "\n",
    "data = {\n",
    "    'calories': [428, 380, 390, 777, 856, 987, 237],\n",
    "    'duration': [50, 40, 34, 67, 98, 45, 27]\n",
    "}\n",
    "\n",
    "# Load data into a DataFrame object:\n",
    "df = pd.DataFrame(data)\n",
    "\n",
    "print(df)"
   ]
  },
  {
   "cell_type": "markdown",
   "metadata": {},
   "source": [
    "### Locating Rows\n",
    "Pandas uses the loc attribute to return one or more specified row(s)."
   ]
  },
  {
   "cell_type": "code",
   "execution_count": 6,
   "metadata": {},
   "outputs": [
    {
     "name": "stdout",
     "output_type": "stream",
     "text": [
      "calories    987\n",
      "duration     45\n",
      "Name: 5, dtype: int64\n"
     ]
    }
   ],
   "source": [
    "# Refer to row index\n",
    "print(df.loc[5])"
   ]
  },
  {
   "cell_type": "markdown",
   "metadata": {},
   "source": [
    "### Named Indexes\n",
    "You can name your own indexes."
   ]
  },
  {
   "cell_type": "code",
   "execution_count": 7,
   "metadata": {},
   "outputs": [
    {
     "name": "stdout",
     "output_type": "stream",
     "text": [
      "      calories  duration\n",
      "day1       428        50\n",
      "day2       380        40\n",
      "day3       390        34\n",
      "day4       777        67\n",
      "day5       856        98\n",
      "day6       987        45\n",
      "day7       237        27\n"
     ]
    }
   ],
   "source": [
    "# Add a list of names to give each row a name\n",
    "import pandas as pd\n",
    "\n",
    "data = {\n",
    "    'calories': [428, 380, 390, 777, 856, 987, 237],\n",
    "    'duration': [50, 40, 34, 67, 98, 45, 27]\n",
    "}\n",
    "\n",
    "df = pd.DataFrame(data, index = ['day1', 'day2', 'day3', 'day4', 'day5', 'day6', 'day7'])\n",
    "\n",
    "print(df)"
   ]
  },
  {
   "cell_type": "code",
   "execution_count": 9,
   "metadata": {},
   "outputs": [
    {
     "name": "stdout",
     "output_type": "stream",
     "text": [
      "calories    237\n",
      "duration     27\n",
      "Name: day7, dtype: int64\n"
     ]
    }
   ],
   "source": [
    "# Locate Named Indexes\n",
    "print(df.loc['day7'])"
   ]
  },
  {
   "cell_type": "markdown",
   "metadata": {},
   "source": [
    "### Load Files into a DataFrame\n",
    "Pandas can load from files into a DataFrame"
   ]
  },
  {
   "cell_type": "code",
   "execution_count": 12,
   "metadata": {},
   "outputs": [
    {
     "name": "stdout",
     "output_type": "stream",
     "text": [
      "    Car_Name  Year  Selling_Price  Present_Price  Kms_Driven Fuel_Type  \\\n",
      "0       ritz  2014           3.35           5.59       27000    Petrol   \n",
      "1        sx4  2013           4.75           9.54       43000    Diesel   \n",
      "2       ciaz  2017           7.25           9.85        6900    Petrol   \n",
      "3    wagon r  2011           2.85           4.15        5200    Petrol   \n",
      "4      swift  2014           4.60           6.87       42450    Diesel   \n",
      "..       ...   ...            ...            ...         ...       ...   \n",
      "296     city  2016           9.50          11.60       33988    Diesel   \n",
      "297     brio  2015           4.00           5.90       60000    Petrol   \n",
      "298     city  2009           3.35          11.00       87934    Petrol   \n",
      "299     city  2017          11.50          12.50        9000    Diesel   \n",
      "300     brio  2016           5.30           5.90        5464    Petrol   \n",
      "\n",
      "    Seller_Type Transmission  Owner  \n",
      "0        Dealer       Manual      0  \n",
      "1        Dealer       Manual      0  \n",
      "2        Dealer       Manual      0  \n",
      "3        Dealer       Manual      0  \n",
      "4        Dealer       Manual      0  \n",
      "..          ...          ...    ...  \n",
      "296      Dealer       Manual      0  \n",
      "297      Dealer       Manual      0  \n",
      "298      Dealer       Manual      0  \n",
      "299      Dealer       Manual      0  \n",
      "300      Dealer       Manual      0  \n",
      "\n",
      "[301 rows x 9 columns]\n"
     ]
    }
   ],
   "source": [
    "# Load a CSV file into a DataFrame\n",
    "import pandas as pd\n",
    "\n",
    "df = pd.read_csv('car data.csv')\n",
    "\n",
    "print(df)"
   ]
  },
  {
   "cell_type": "markdown",
   "metadata": {},
   "source": [
    "# Day 33"
   ]
  },
  {
   "cell_type": "markdown",
   "metadata": {},
   "source": [
    "## Pandas - Reading CSV/JSON Files"
   ]
  },
  {
   "cell_type": "markdown",
   "metadata": {},
   "source": [
    "### Read CSV Files\n",
    "Enables the storage of big data sets"
   ]
  },
  {
   "cell_type": "code",
   "execution_count": 17,
   "metadata": {},
   "outputs": [
    {
     "name": "stdout",
     "output_type": "stream",
     "text": [
      "                      Car_Name  Year  Selling_Price  Present_Price  Kms_Driven Fuel_Type Seller_Type Transmission  Owner\n",
      "0                         ritz  2014           3.35          5.590       27000    Petrol      Dealer       Manual      0\n",
      "1                          sx4  2013           4.75          9.540       43000    Diesel      Dealer       Manual      0\n",
      "2                         ciaz  2017           7.25          9.850        6900    Petrol      Dealer       Manual      0\n",
      "3                      wagon r  2011           2.85          4.150        5200    Petrol      Dealer       Manual      0\n",
      "4                        swift  2014           4.60          6.870       42450    Diesel      Dealer       Manual      0\n",
      "5                vitara brezza  2018           9.25          9.830        2071    Diesel      Dealer       Manual      0\n",
      "6                         ciaz  2015           6.75          8.120       18796    Petrol      Dealer       Manual      0\n",
      "7                      s cross  2015           6.50          8.610       33429    Diesel      Dealer       Manual      0\n",
      "8                         ciaz  2016           8.75          8.890       20273    Diesel      Dealer       Manual      0\n",
      "9                         ciaz  2015           7.45          8.920       42367    Diesel      Dealer       Manual      0\n",
      "10                    alto 800  2017           2.85          3.600        2135    Petrol      Dealer       Manual      0\n",
      "11                        ciaz  2015           6.85         10.380       51000    Diesel      Dealer       Manual      0\n",
      "12                        ciaz  2015           7.50          9.940       15000    Petrol      Dealer    Automatic      0\n",
      "13                      ertiga  2015           6.10          7.710       26000    Petrol      Dealer       Manual      0\n",
      "14                       dzire  2009           2.25          7.210       77427    Petrol      Dealer       Manual      0\n",
      "15                      ertiga  2016           7.75         10.790       43000    Diesel      Dealer       Manual      0\n",
      "16                      ertiga  2015           7.25         10.790       41678    Diesel      Dealer       Manual      0\n",
      "17                      ertiga  2016           7.75         10.790       43000    Diesel      Dealer       Manual      0\n",
      "18                     wagon r  2015           3.25          5.090       35500       CNG      Dealer       Manual      0\n",
      "19                         sx4  2010           2.65          7.980       41442    Petrol      Dealer       Manual      0\n",
      "20                    alto k10  2016           2.85          3.950       25000    Petrol      Dealer       Manual      0\n",
      "21                       ignis  2017           4.90          5.710        2400    Petrol      Dealer       Manual      0\n",
      "22                         sx4  2011           4.40          8.010       50000    Petrol      Dealer    Automatic      0\n",
      "23                    alto k10  2014           2.50          3.460       45280    Petrol      Dealer       Manual      0\n",
      "24                     wagon r  2013           2.90          4.410       56879    Petrol      Dealer       Manual      0\n",
      "25                       swift  2011           3.00          4.990       20000    Petrol      Dealer       Manual      0\n",
      "26                       swift  2013           4.15          5.870       55138    Petrol      Dealer       Manual      0\n",
      "27                       swift  2017           6.00          6.490       16200    Petrol  Individual       Manual      0\n",
      "28                    alto k10  2010           1.95          3.950       44542    Petrol      Dealer       Manual      0\n",
      "29                        ciaz  2015           7.45         10.380       45000    Diesel      Dealer       Manual      0\n",
      "30                        ritz  2012           3.10          5.980       51439    Diesel      Dealer       Manual      0\n",
      "31                        ritz  2011           2.35          4.890       54200    Petrol      Dealer       Manual      0\n",
      "32                       swift  2014           4.95          7.490       39000    Diesel      Dealer       Manual      0\n",
      "33                      ertiga  2014           6.00          9.950       45000    Diesel      Dealer       Manual      0\n",
      "34                       dzire  2014           5.50          8.060       45000    Diesel      Dealer       Manual      0\n",
      "35                         sx4  2011           2.95          7.740       49998       CNG      Dealer       Manual      0\n",
      "36                       dzire  2015           4.65          7.200       48767    Petrol      Dealer       Manual      0\n",
      "37                         800  2003           0.35          2.280      127000    Petrol  Individual       Manual      0\n",
      "38                    alto k10  2016           3.00          3.760       10079    Petrol      Dealer       Manual      0\n",
      "39                         sx4  2003           2.25          7.980       62000    Petrol      Dealer       Manual      0\n",
      "40                      baleno  2016           5.85          7.870       24524    Petrol      Dealer    Automatic      0\n",
      "41                    alto k10  2014           2.55          3.980       46706    Petrol      Dealer       Manual      0\n",
      "42                         sx4  2008           1.95          7.150       58000    Petrol      Dealer       Manual      0\n",
      "43                       dzire  2014           5.50          8.060       45780    Diesel      Dealer       Manual      0\n",
      "44                        omni  2012           1.25          2.690       50000    Petrol      Dealer       Manual      0\n",
      "45                        ciaz  2014           7.50         12.040       15000    Petrol      Dealer    Automatic      0\n",
      "46                        ritz  2013           2.65          4.890       64532    Petrol      Dealer       Manual      0\n",
      "47                     wagon r  2006           1.05          4.150       65000    Petrol      Dealer       Manual      0\n",
      "48                      ertiga  2015           5.80          7.710       25870    Petrol      Dealer       Manual      0\n",
      "49                        ciaz  2017           7.75          9.290       37000    Petrol      Dealer    Automatic      0\n",
      "50                    fortuner  2012          14.90         30.610      104707    Diesel      Dealer    Automatic      0\n",
      "51                    fortuner  2015          23.00         30.610       40000    Diesel      Dealer    Automatic      0\n",
      "52                      innova  2017          18.00         19.770       15000    Diesel      Dealer    Automatic      0\n",
      "53                    fortuner  2013          16.00         30.610      135000    Diesel  Individual    Automatic      0\n",
      "54                      innova  2005           2.75         10.210       90000    Petrol  Individual       Manual      0\n",
      "55               corolla altis  2009           3.60         15.040       70000    Petrol      Dealer    Automatic      0\n",
      "56                 etios cross  2015           4.50          7.270       40534    Petrol      Dealer       Manual      0\n",
      "57               corolla altis  2010           4.75         18.540       50000    Petrol      Dealer       Manual      0\n",
      "58                     etios g  2014           4.10          6.800       39485    Petrol      Dealer       Manual      1\n",
      "59                    fortuner  2014          19.99         35.960       41000    Diesel      Dealer    Automatic      0\n",
      "60               corolla altis  2013           6.95         18.610       40001    Petrol      Dealer       Manual      0\n",
      "61                 etios cross  2015           4.50          7.700       40588    Petrol      Dealer       Manual      0\n",
      "62                    fortuner  2014          18.75         35.960       78000    Diesel      Dealer    Automatic      0\n",
      "63                    fortuner  2015          23.50         35.960       47000    Diesel      Dealer    Automatic      0\n",
      "64                    fortuner  2017          33.00         36.230        6000    Diesel      Dealer    Automatic      0\n",
      "65                  etios liva  2014           4.75          6.950       45000    Diesel      Dealer       Manual      0\n",
      "66                      innova  2017          19.75         23.150       11000    Petrol      Dealer    Automatic      0\n",
      "67                    fortuner  2010           9.25         20.450       59000    Diesel      Dealer       Manual      0\n",
      "68               corolla altis  2011           4.35         13.740       88000    Petrol      Dealer       Manual      0\n",
      "69               corolla altis  2016          14.25         20.910       12000    Petrol      Dealer       Manual      0\n",
      "70                  etios liva  2014           3.95          6.760       71000    Diesel      Dealer       Manual      0\n",
      "71               corolla altis  2011           4.50         12.480       45000    Diesel      Dealer       Manual      0\n",
      "72               corolla altis  2013           7.45         18.610       56001    Petrol      Dealer       Manual      0\n",
      "73                  etios liva  2011           2.65          5.710       43000    Petrol      Dealer       Manual      0\n",
      "74                 etios cross  2014           4.90          8.930       83000    Diesel      Dealer       Manual      0\n",
      "75                     etios g  2015           3.95          6.800       36000    Petrol      Dealer       Manual      0\n",
      "76               corolla altis  2013           5.50         14.680       72000    Petrol      Dealer       Manual      0\n",
      "77                     corolla  2004           1.50         12.350      135154    Petrol      Dealer    Automatic      0\n",
      "78               corolla altis  2010           5.25         22.830       80000    Petrol      Dealer    Automatic      0\n",
      "79                    fortuner  2012          14.50         30.610       89000    Diesel      Dealer    Automatic      0\n",
      "80               corolla altis  2016          14.73         14.890       23000    Diesel      Dealer       Manual      0\n",
      "81                    etios gd  2015           4.75          7.850       40000    Diesel      Dealer       Manual      0\n",
      "82                      innova  2017          23.00         25.390       15000    Diesel      Dealer    Automatic      0\n",
      "83                      innova  2015          12.50         13.460       38000    Diesel      Dealer       Manual      0\n",
      "84                      innova  2005           3.49         13.460      197176    Diesel      Dealer       Manual      0\n",
      "85                       camry  2006           2.50         23.730      142000    Petrol  Individual    Automatic      3\n",
      "86                land cruiser  2010          35.00         92.600       78000    Diesel      Dealer       Manual      0\n",
      "87               corolla altis  2012           5.90         13.740       56000    Petrol      Dealer       Manual      0\n",
      "88                  etios liva  2013           3.45          6.050       47000    Petrol      Dealer       Manual      0\n",
      "89                     etios g  2014           4.75          6.760       40000    Petrol      Dealer       Manual      0\n",
      "90               corolla altis  2009           3.80         18.610       62000    Petrol      Dealer       Manual      0\n",
      "91                      innova  2014          11.25         16.090       58242    Diesel      Dealer       Manual      0\n",
      "92                      innova  2005           3.51         13.700       75000    Petrol      Dealer       Manual      0\n",
      "93                    fortuner  2015          23.00         30.610       40000    Diesel      Dealer    Automatic      0\n",
      "94               corolla altis  2008           4.00         22.780       89000    Petrol      Dealer    Automatic      0\n",
      "95               corolla altis  2012           5.85         18.610       72000    Petrol      Dealer       Manual      0\n",
      "96                      innova  2016          20.75         25.390       29000    Diesel      Dealer    Automatic      0\n",
      "97               corolla altis  2017          17.00         18.640        8700    Petrol      Dealer       Manual      0\n",
      "98               corolla altis  2013           7.05         18.610       45000    Petrol      Dealer       Manual      0\n",
      "99                    fortuner  2010           9.65         20.450       50024    Diesel      Dealer       Manual      0\n",
      "100  Royal Enfield Thunder 500  2016           1.75          1.900        3000    Petrol  Individual       Manual      0\n",
      "101         UM Renegade Mojave  2017           1.70          1.820        1400    Petrol  Individual       Manual      0\n",
      "102                  KTM RC200  2017           1.65          1.780        4000    Petrol  Individual       Manual      0\n",
      "103          Bajaj Dominar 400  2017           1.45          1.600        1200    Petrol  Individual       Manual      0\n",
      "104  Royal Enfield Classic 350  2017           1.35          1.470        4100    Petrol  Individual       Manual      0\n",
      "105                  KTM RC390  2015           1.35          2.370       21700    Petrol  Individual       Manual      0\n",
      "106             Hyosung GT250R  2014           1.35          3.450       16500    Petrol  Individual       Manual      1\n",
      "107  Royal Enfield Thunder 350  2013           1.25          1.500       15000    Petrol  Individual       Manual      0\n",
      "108  Royal Enfield Thunder 350  2016           1.20          1.500       18000    Petrol  Individual       Manual      0\n",
      "109  Royal Enfield Classic 350  2017           1.20          1.470       11000    Petrol  Individual       Manual      0\n",
      "110                  KTM RC200  2016           1.20          1.780        6000    Petrol  Individual       Manual      0\n",
      "111  Royal Enfield Thunder 350  2016           1.15          1.500        8700    Petrol  Individual       Manual      0\n",
      "112              KTM 390 Duke   2014           1.15          2.400        7000    Petrol  Individual       Manual      0\n",
      "113        Mahindra Mojo XT300  2016           1.15          1.400       35000    Petrol  Individual       Manual      0\n",
      "114  Royal Enfield Classic 350  2015           1.15          1.470       17000    Petrol  Individual       Manual      0\n",
      "115  Royal Enfield Classic 350  2015           1.11          1.470       17500    Petrol  Individual       Manual      0\n",
      "116  Royal Enfield Classic 350  2013           1.10          1.470       33000    Petrol  Individual       Manual      0\n",
      "117  Royal Enfield Thunder 500  2015           1.10          1.900       14000    Petrol  Individual       Manual      0\n",
      "118  Royal Enfield Classic 350  2015           1.10          1.470       26000    Petrol  Individual       Manual      0\n",
      "119  Royal Enfield Thunder 500  2013           1.05          1.900        5400    Petrol  Individual       Manual      0\n",
      "120         Bajaj Pulsar RS200  2016           1.05          1.260        5700    Petrol  Individual       Manual      0\n",
      "121  Royal Enfield Thunder 350  2011           1.05          1.500        6900    Petrol  Individual       Manual      0\n",
      "122   Royal Enfield Bullet 350  2016           1.05          1.170        6000    Petrol  Individual       Manual      0\n",
      "123  Royal Enfield Classic 350  2013           1.00          1.470       46500    Petrol  Individual       Manual      0\n",
      "124  Royal Enfield Classic 500  2012           0.95          1.750       11500    Petrol  Individual       Manual      0\n",
      "125  Royal Enfield Classic 500  2009           0.90          1.750       40000    Petrol  Individual       Manual      0\n",
      "126          Bajaj Avenger 220  2017           0.90          0.950        1300    Petrol  Individual       Manual      0\n",
      "127          Bajaj Avenger 150  2016           0.75          0.800        7000    Petrol  Individual       Manual      0\n",
      "128       Honda CB Hornet 160R  2017           0.80          0.870        3000    Petrol  Individual       Manual      0\n",
      "129          Yamaha FZ S V 2.0  2017           0.78          0.840        5000    Petrol  Individual       Manual      0\n",
      "130       Honda CB Hornet 160R  2017           0.75          0.870       11000    Petrol  Individual       Manual      0\n",
      "131               Yamaha FZ 16  2015           0.75          0.820       18000    Petrol  Individual       Manual      0\n",
      "132          Bajaj Avenger 220  2017           0.75          0.950        3500    Petrol  Individual       Manual      0\n",
      "133          Bajaj Avenger 220  2016           0.72          0.950         500    Petrol  Individual       Manual      0\n",
      "134         TVS Apache RTR 160  2017           0.65          0.810       11800    Petrol  Individual       Manual      0\n",
      "135           Bajaj Pulsar 150  2015           0.65          0.740        5000    Petrol  Individual       Manual      0\n",
      "136              Honda CBR 150  2014           0.65          1.200       23500    Petrol  Individual       Manual      0\n",
      "137               Hero Extreme  2013           0.65          0.787       16000    Petrol  Individual       Manual      0\n",
      "138       Honda CB Hornet 160R  2016           0.60          0.870       15000    Petrol  Individual       Manual      0\n",
      "139     Bajaj Avenger 220 dtsi  2015           0.60          0.950       16600    Petrol  Individual       Manual      0\n",
      "140              Honda CBR 150  2013           0.60          1.200       32000    Petrol  Individual       Manual      0\n",
      "141   Bajaj Avenger 150 street  2016           0.60          0.800       20000    Petrol  Individual       Manual      0\n",
      "142           Yamaha FZ  v 2.0  2015           0.60          0.840       29000    Petrol  Individual       Manual      0\n",
      "143           Yamaha FZ  v 2.0  2016           0.60          0.840       25000    Petrol  Individual       Manual      0\n",
      "144       Bajaj Pulsar  NS 200  2014           0.60          0.990       25000    Petrol  Individual       Manual      0\n",
      "145         TVS Apache RTR 160  2012           0.60          0.810       19000    Petrol  Individual       Manual      0\n",
      "146               Hero Extreme  2014           0.55          0.787       15000    Petrol  Individual       Manual      0\n",
      "147          Yamaha FZ S V 2.0  2015           0.55          0.840       58000    Petrol  Individual       Manual      0\n",
      "148         Bajaj Pulsar 220 F  2010           0.52          0.940       45000    Petrol  Individual       Manual      0\n",
      "149         Bajaj Pulsar 220 F  2016           0.51          0.940       24000    Petrol  Individual       Manual      0\n",
      "150         TVS Apache RTR 180  2011           0.50          0.826        6000    Petrol  Individual       Manual      0\n",
      "151         Hero Passion X pro  2016           0.50          0.550       31000    Petrol  Individual       Manual      0\n",
      "152        Bajaj Pulsar NS 200  2012           0.50          0.990       13000    Petrol  Individual       Manual      0\n",
      "153        Bajaj Pulsar NS 200  2013           0.50          0.990       45000    Petrol  Individual       Manual      0\n",
      "154              Yamaha Fazer   2014           0.50          0.880        8000    Petrol  Individual       Manual      0\n",
      "155            Honda Activa 4G  2017           0.48          0.510        4300    Petrol  Individual    Automatic      0\n",
      "156                 TVS Sport   2017           0.48          0.520       15000    Petrol  Individual       Manual      0\n",
      "157          Yamaha FZ S V 2.0  2015           0.48          0.840       23000    Petrol  Individual       Manual      0\n",
      "158          Honda Dream Yuga   2017           0.48          0.540        8600    Petrol  Individual       Manual      0\n",
      "159            Honda Activa 4G  2017           0.45          0.510        4000    Petrol  Individual    Automatic      0\n",
      "160   Bajaj Avenger Street 220  2011           0.45          0.950       24000    Petrol  Individual       Manual      0\n",
      "161         TVS Apache RTR 180  2014           0.45          0.826       23000    Petrol  Individual       Manual      0\n",
      "162        Bajaj Pulsar NS 200  2012           0.45          0.990       14500    Petrol  Individual       Manual      0\n",
      "163     Bajaj Avenger 220 dtsi  2010           0.45          0.950       27000    Petrol  Individual       Manual      0\n",
      "164       Hero Splender iSmart  2016           0.45          0.540       14000    Petrol  Individual       Manual      0\n",
      "165                  Activa 3g  2016           0.45          0.540         500    Petrol  Individual    Automatic      0\n",
      "166           Hero Passion Pro  2016           0.45          0.550        1000    Petrol  Individual       Manual      0\n",
      "167         TVS Apache RTR 160  2014           0.42          0.810       42000    Petrol  Individual       Manual      0\n",
      "168           Honda CB Trigger  2013           0.42          0.730       12000    Petrol  Individual       Manual      0\n",
      "169       Hero Splender iSmart  2015           0.40          0.540       14000    Petrol  Individual       Manual      0\n",
      "170               Yamaha FZ S   2012           0.40          0.830        5500    Petrol  Individual       Manual      0\n",
      "171           Hero Passion Pro  2015           0.40          0.550        6700    Petrol  Individual       Manual      0\n",
      "172        Bajaj Pulsar 135 LS  2014           0.40          0.640       13700    Petrol  Individual       Manual      0\n",
      "173                  Activa 4g  2017           0.40          0.510        1300    Petrol  Individual    Automatic      0\n",
      "174           Honda CB Unicorn  2015           0.38          0.720       38600    Petrol  Individual       Manual      0\n",
      "175     Hero Honda CBZ extreme  2011           0.38          0.787       75000    Petrol  Individual       Manual      0\n",
      "176              Honda Karizma  2011           0.35          1.050       30000    Petrol  Individual       Manual      0\n",
      "177           Honda Activa 125  2016           0.35          0.570       24000    Petrol  Individual    Automatic      0\n",
      "178                TVS Jupyter  2014           0.35          0.520       19000    Petrol  Individual    Automatic      0\n",
      "179              Honda Karizma  2010           0.31          1.050      213000    Petrol  Individual       Manual      0\n",
      "180     Hero Honda Passion Pro  2012           0.30          0.510       60000    Petrol  Individual       Manual      0\n",
      "181         Hero Splender Plus  2016           0.30          0.480       50000    Petrol  Individual       Manual      0\n",
      "182             Honda CB Shine  2013           0.30          0.580       30000    Petrol  Individual       Manual      0\n",
      "183         Bajaj Discover 100  2013           0.27          0.470       21000    Petrol  Individual       Manual      0\n",
      "184           Bajaj Pulsar 150  2008           0.25          0.750       26000    Petrol  Individual       Manual      1\n",
      "185          Suzuki Access 125  2008           0.25          0.580        1900    Petrol  Individual    Automatic      0\n",
      "186                   TVS Wego  2010           0.25          0.520       22000    Petrol  Individual    Automatic      0\n",
      "187           Honda CB twister  2013           0.25          0.510       32000    Petrol  Individual       Manual      0\n",
      "188               Hero Glamour  2013           0.25          0.570       18000    Petrol  Individual       Manual      0\n",
      "189        Hero Super Splendor  2005           0.20          0.570       55000    Petrol  Individual       Manual      0\n",
      "190           Bajaj Pulsar 150  2008           0.20          0.750       60000    Petrol  Individual       Manual      0\n",
      "191         Bajaj Discover 125  2012           0.20          0.570       25000    Petrol  Individual       Manual      1\n",
      "192                  Hero Hunk  2007           0.20          0.750       49000    Petrol  Individual       Manual      1\n",
      "193         Hero  Ignitor Disc  2013           0.20          0.650       24000    Petrol  Individual       Manual      1\n",
      "194           Hero  CBZ Xtreme  2008           0.20          0.787       50000    Petrol  Individual       Manual      0\n",
      "195              Bajaj  ct 100  2015           0.18          0.320       35000    Petrol  Individual       Manual      0\n",
      "196                  Activa 3g  2008           0.17          0.520      500000    Petrol  Individual    Automatic      0\n",
      "197           Honda CB twister  2010           0.16          0.510       33000    Petrol  Individual       Manual      0\n",
      "198         Bajaj Discover 125  2011           0.15          0.570       35000    Petrol  Individual       Manual      1\n",
      "199             Honda CB Shine  2007           0.12          0.580       53000    Petrol  Individual       Manual      0\n",
      "200           Bajaj Pulsar 150  2006           0.10          0.750       92233    Petrol  Individual       Manual      0\n",
      "201                        i20  2010           3.25          6.790       58000    Diesel      Dealer       Manual      1\n",
      "202                  grand i10  2015           4.40          5.700       28200    Petrol      Dealer       Manual      0\n",
      "203                        i10  2011           2.95          4.600       53460    Petrol      Dealer       Manual      0\n",
      "204                        eon  2015           2.75          4.430       28282    Petrol      Dealer       Manual      0\n",
      "205                  grand i10  2016           5.25          5.700        3493    Petrol      Dealer       Manual      1\n",
      "206                      xcent  2017           5.75          7.130       12479    Petrol      Dealer       Manual      0\n",
      "207                  grand i10  2015           5.15          5.700       34797    Petrol      Dealer    Automatic      0\n",
      "208                        i20  2017           7.90          8.100        3435    Petrol      Dealer       Manual      0\n",
      "209                  grand i10  2015           4.85          5.700       21125    Diesel      Dealer       Manual      0\n",
      "210                        i10  2012           3.10          4.600       35775    Petrol      Dealer       Manual      0\n",
      "211                    elantra  2015          11.75         14.790       43535    Diesel      Dealer       Manual      0\n",
      "212                      creta  2016          11.25         13.600       22671    Petrol      Dealer       Manual      0\n",
      "213                        i20  2011           2.90          6.790       31604    Petrol      Dealer       Manual      0\n",
      "214                  grand i10  2017           5.25          5.700       20114    Petrol      Dealer       Manual      0\n",
      "215                      verna  2012           4.50          9.400       36100    Petrol      Dealer       Manual      0\n",
      "216                        eon  2016           2.90          4.430       12500    Petrol      Dealer       Manual      0\n",
      "217                        eon  2016           3.15          4.430       15000    Petrol      Dealer       Manual      0\n",
      "218                      verna  2014           6.45          9.400       45078    Petrol      Dealer       Manual      0\n",
      "219                      verna  2012           4.50          9.400       36000    Petrol      Dealer       Manual      0\n",
      "220                        eon  2017           3.50          4.430       38488    Petrol      Dealer       Manual      0\n",
      "221                        i20  2013           4.50          6.790       32000    Petrol      Dealer    Automatic      0\n",
      "222                        i20  2014           6.00          7.600       77632    Diesel      Dealer       Manual      0\n",
      "223                      verna  2015           8.25          9.400       61381    Diesel      Dealer       Manual      0\n",
      "224                      verna  2013           5.11          9.400       36198    Petrol      Dealer    Automatic      0\n",
      "225                        i10  2011           2.70          4.600       22517    Petrol      Dealer       Manual      0\n",
      "226                  grand i10  2015           5.25          5.700       24678    Petrol      Dealer       Manual      0\n",
      "227                        i10  2011           2.55          4.430       57000    Petrol      Dealer       Manual      0\n",
      "228                      verna  2012           4.95          9.400       60000    Diesel      Dealer       Manual      0\n",
      "229                        i20  2012           3.10          6.790       52132    Diesel      Dealer       Manual      0\n",
      "230                      verna  2013           6.15          9.400       45000    Diesel      Dealer       Manual      0\n",
      "231                      verna  2017           9.25          9.400       15001    Petrol      Dealer       Manual      0\n",
      "232                    elantra  2015          11.45         14.790       12900    Petrol      Dealer    Automatic      0\n",
      "233                  grand i10  2013           3.90          5.700       53000    Diesel      Dealer       Manual      0\n",
      "234                  grand i10  2015           5.50          5.700        4492    Petrol      Dealer       Manual      0\n",
      "235                      verna  2017           9.10          9.400       15141    Petrol      Dealer       Manual      0\n",
      "236                        eon  2016           3.10          4.430       11849    Petrol      Dealer       Manual      0\n",
      "237                      creta  2015          11.25         13.600       68000    Diesel      Dealer       Manual      0\n",
      "238                      verna  2013           4.80          9.400       60241    Petrol      Dealer       Manual      0\n",
      "239                        eon  2012           2.00          4.430       23709    Petrol      Dealer       Manual      0\n",
      "240                      verna  2012           5.35          9.400       32322    Diesel      Dealer       Manual      0\n",
      "241                      xcent  2015           4.75          7.130       35866    Petrol      Dealer       Manual      1\n",
      "242                      xcent  2014           4.40          7.130       34000    Petrol      Dealer       Manual      0\n",
      "243                        i20  2016           6.25          7.600        7000    Petrol      Dealer       Manual      0\n",
      "244                      verna  2013           5.95          9.400       49000    Diesel      Dealer       Manual      0\n",
      "245                      verna  2012           5.20          9.400       71000    Diesel      Dealer       Manual      0\n",
      "246                        i20  2012           3.75          6.790       35000    Petrol      Dealer       Manual      0\n",
      "247                      verna  2015           5.95          9.400       36000    Petrol      Dealer       Manual      0\n",
      "248                        i10  2013           4.00          4.600       30000    Petrol      Dealer       Manual      0\n",
      "249                        i20  2016           5.25          7.600       17000    Petrol      Dealer       Manual      0\n",
      "250                      creta  2016          12.90         13.600       35934    Diesel      Dealer       Manual      0\n",
      "251                       city  2013           5.00          9.900       56701    Petrol      Dealer       Manual      0\n",
      "252                       brio  2015           5.40          6.820       31427    Petrol      Dealer    Automatic      0\n",
      "253                       city  2014           7.20          9.900       48000    Diesel      Dealer       Manual      0\n",
      "254                       city  2013           5.25          9.900       54242    Petrol      Dealer       Manual      0\n",
      "255                       brio  2012           3.00          5.350       53675    Petrol      Dealer       Manual      0\n",
      "256                       city  2016          10.25         13.600       49562    Petrol      Dealer       Manual      0\n",
      "257                       city  2015           8.50         13.600       40324    Petrol      Dealer       Manual      0\n",
      "258                       city  2015           8.40         13.600       25000    Petrol      Dealer       Manual      0\n",
      "259                      amaze  2014           3.90          7.000       36054    Petrol      Dealer       Manual      0\n",
      "260                       city  2016           9.15         13.600       29223    Petrol      Dealer       Manual      0\n",
      "261                       brio  2016           5.50          5.970        5600    Petrol      Dealer       Manual      0\n",
      "262                      amaze  2015           4.00          5.800       40023    Petrol      Dealer       Manual      0\n",
      "263                       jazz  2016           6.60          7.700       16002    Petrol      Dealer       Manual      0\n",
      "264                      amaze  2015           4.00          7.000       40026    Petrol      Dealer       Manual      0\n",
      "265                       jazz  2017           6.50          8.700       21200    Petrol      Dealer       Manual      0\n",
      "266                      amaze  2014           3.65          7.000       35000    Petrol      Dealer       Manual      0\n",
      "267                       city  2016           8.35          9.400       19434    Diesel      Dealer       Manual      0\n",
      "268                       brio  2017           4.80          5.800       19000    Petrol      Dealer       Manual      0\n",
      "269                       city  2015           6.70         10.000       18828    Petrol      Dealer       Manual      0\n",
      "270                       city  2011           4.10         10.000       69341    Petrol      Dealer       Manual      0\n",
      "271                       city  2009           3.00         10.000       69562    Petrol      Dealer       Manual      0\n",
      "272                       city  2015           7.50         10.000       27600    Petrol      Dealer       Manual      0\n",
      "273                       jazz  2010           2.25          7.500       61203    Petrol      Dealer       Manual      0\n",
      "274                       brio  2014           5.30          6.800       16500    Petrol      Dealer       Manual      0\n",
      "275                       city  2016          10.90         13.600       30753    Petrol      Dealer    Automatic      0\n",
      "276                       city  2015           8.65         13.600       24800    Petrol      Dealer       Manual      0\n",
      "277                       city  2015           9.70         13.600       21780    Petrol      Dealer       Manual      0\n",
      "278                       jazz  2016           6.00          8.400        4000    Petrol      Dealer       Manual      0\n",
      "279                       city  2014           6.25         13.600       40126    Petrol      Dealer       Manual      0\n",
      "280                       brio  2015           5.25          5.900       14465    Petrol      Dealer       Manual      0\n",
      "281                       city  2006           2.10          7.600       50456    Petrol      Dealer       Manual      0\n",
      "282                       city  2014           8.25         14.000       63000    Diesel      Dealer       Manual      0\n",
      "283                       city  2016           8.99         11.800        9010    Petrol      Dealer       Manual      0\n",
      "284                       brio  2013           3.50          5.900        9800    Petrol      Dealer       Manual      0\n",
      "285                       jazz  2016           7.40          8.500       15059    Petrol      Dealer    Automatic      0\n",
      "286                       jazz  2016           5.65          7.900       28569    Petrol      Dealer       Manual      0\n",
      "287                      amaze  2015           5.75          7.500       44000    Petrol      Dealer    Automatic      0\n",
      "288                       city  2015           8.40         13.600       34000    Petrol      Dealer       Manual      0\n",
      "289                       city  2016          10.11         13.600       10980    Petrol      Dealer       Manual      0\n",
      "290                      amaze  2014           4.50          6.400       19000    Petrol      Dealer       Manual      0\n",
      "291                       brio  2015           5.40          6.100       31427    Petrol      Dealer       Manual      0\n",
      "292                       jazz  2016           6.40          8.400       12000    Petrol      Dealer       Manual      0\n",
      "293                       city  2010           3.25          9.900       38000    Petrol      Dealer       Manual      0\n",
      "294                      amaze  2014           3.75          6.800       33019    Petrol      Dealer       Manual      0\n",
      "295                       city  2015           8.55         13.090       60076    Diesel      Dealer       Manual      0\n",
      "296                       city  2016           9.50         11.600       33988    Diesel      Dealer       Manual      0\n",
      "297                       brio  2015           4.00          5.900       60000    Petrol      Dealer       Manual      0\n",
      "298                       city  2009           3.35         11.000       87934    Petrol      Dealer       Manual      0\n",
      "299                       city  2017          11.50         12.500        9000    Diesel      Dealer       Manual      0\n",
      "300                       brio  2016           5.30          5.900        5464    Petrol      Dealer       Manual      0\n"
     ]
    }
   ],
   "source": [
    "import pandas as pd\n",
    "\n",
    "df = pd.read_csv('car data.csv')\n",
    "\n",
    "print(df.to_string())"
   ]
  },
  {
   "cell_type": "code",
   "execution_count": 15,
   "metadata": {},
   "outputs": [
    {
     "name": "stdout",
     "output_type": "stream",
     "text": [
      "    Car_Name  Year  Selling_Price  Present_Price  Kms_Driven Fuel_Type  \\\n",
      "0       ritz  2014           3.35           5.59       27000    Petrol   \n",
      "1        sx4  2013           4.75           9.54       43000    Diesel   \n",
      "2       ciaz  2017           7.25           9.85        6900    Petrol   \n",
      "3    wagon r  2011           2.85           4.15        5200    Petrol   \n",
      "4      swift  2014           4.60           6.87       42450    Diesel   \n",
      "..       ...   ...            ...            ...         ...       ...   \n",
      "296     city  2016           9.50          11.60       33988    Diesel   \n",
      "297     brio  2015           4.00           5.90       60000    Petrol   \n",
      "298     city  2009           3.35          11.00       87934    Petrol   \n",
      "299     city  2017          11.50          12.50        9000    Diesel   \n",
      "300     brio  2016           5.30           5.90        5464    Petrol   \n",
      "\n",
      "    Seller_Type Transmission  Owner  \n",
      "0        Dealer       Manual      0  \n",
      "1        Dealer       Manual      0  \n",
      "2        Dealer       Manual      0  \n",
      "3        Dealer       Manual      0  \n",
      "4        Dealer       Manual      0  \n",
      "..          ...          ...    ...  \n",
      "296      Dealer       Manual      0  \n",
      "297      Dealer       Manual      0  \n",
      "298      Dealer       Manual      0  \n",
      "299      Dealer       Manual      0  \n",
      "300      Dealer       Manual      0  \n",
      "\n",
      "[301 rows x 9 columns]\n"
     ]
    }
   ],
   "source": [
    "# With a large dataframe, Pandas only returns the first and last 5 rows\n",
    "print(df)"
   ]
  },
  {
   "cell_type": "markdown",
   "metadata": {},
   "source": [
    "### Max Rows\n",
    "The number of rows returned by the system"
   ]
  },
  {
   "cell_type": "code",
   "execution_count": 16,
   "metadata": {},
   "outputs": [
    {
     "name": "stdout",
     "output_type": "stream",
     "text": [
      "60\n"
     ]
    }
   ],
   "source": [
    "print(pd.options.display.max_rows)"
   ]
  },
  {
   "cell_type": "markdown",
   "metadata": {},
   "source": [
    "### Read JSON Files\n",
    "JSON is plain text but has the format of an object."
   ]
  },
  {
   "cell_type": "code",
   "execution_count": 32,
   "metadata": {},
   "outputs": [
    {
     "data": {
      "text/plain": [
       "{'firstName': 'Joe',\n",
       " 'lastName': 'Jackson',\n",
       " 'gender': 'male',\n",
       " 'age': 28,\n",
       " 'address': {'streetAddress': '101', 'city': 'San Diego', 'state': 'CA'},\n",
       " 'phoneNumbers': [{'type': 'home', 'number': '7349282382'}]}"
      ]
     },
     "execution_count": 32,
     "metadata": {},
     "output_type": "execute_result"
    }
   ],
   "source": [
    "import json\n",
    "import pandas as pd\n",
    "\n",
    "data = json.load(open('sample2.json'))\n",
    "data"
   ]
  },
  {
   "cell_type": "code",
   "execution_count": 37,
   "metadata": {},
   "outputs": [
    {
     "ename": "KeyError",
     "evalue": "'address[streetAddress]'",
     "output_type": "error",
     "traceback": [
      "\u001b[1;31m---------------------------------------------------------------------------\u001b[0m",
      "\u001b[1;31mKeyError\u001b[0m                                  Traceback (most recent call last)",
      "Cell \u001b[1;32mIn [37], line 1\u001b[0m\n\u001b[1;32m----> 1\u001b[0m df \u001b[38;5;241m=\u001b[39m pd\u001b[38;5;241m.\u001b[39mDataFrame(data[\u001b[38;5;124m\"\u001b[39m\u001b[38;5;124maddress[streetAddress]\u001b[39m\u001b[38;5;124m\"\u001b[39m])\n\u001b[0;32m      3\u001b[0m \u001b[38;5;28mprint\u001b[39m(df\u001b[38;5;241m.\u001b[39mto_string())\n",
      "\u001b[1;31mKeyError\u001b[0m: 'address[streetAddress]'"
     ]
    }
   ],
   "source": [
    "df = pd.DataFrame(data[\"address[streetAddress]\"])\n",
    "\n",
    "print(df.to_string())"
   ]
  },
  {
   "cell_type": "markdown",
   "metadata": {},
   "source": [
    "# Day 34"
   ]
  },
  {
   "cell_type": "markdown",
   "metadata": {},
   "source": [
    "## Analyzing Pandas DataFrames\n",
    "### Viewing the Data"
   ]
  },
  {
   "cell_type": "code",
   "execution_count": 3,
   "metadata": {},
   "outputs": [
    {
     "name": "stdout",
     "output_type": "stream",
     "text": [
      "  Car_Name  Year  Selling_Price  Present_Price  Kms_Driven Fuel_Type  \\\n",
      "0     ritz  2014           3.35           5.59       27000    Petrol   \n",
      "1      sx4  2013           4.75           9.54       43000    Diesel   \n",
      "2     ciaz  2017           7.25           9.85        6900    Petrol   \n",
      "3  wagon r  2011           2.85           4.15        5200    Petrol   \n",
      "4    swift  2014           4.60           6.87       42450    Diesel   \n",
      "\n",
      "  Seller_Type Transmission  Owner  \n",
      "0      Dealer       Manual      0  \n",
      "1      Dealer       Manual      0  \n",
      "2      Dealer       Manual      0  \n",
      "3      Dealer       Manual      0  \n",
      "4      Dealer       Manual      0  \n"
     ]
    }
   ],
   "source": [
    "import pandas as pd\n",
    "\n",
    "df = pd.read_csv('car data.csv')\n",
    "\n",
    "print(df.head())"
   ]
  },
  {
   "cell_type": "code",
   "execution_count": null,
   "metadata": {},
   "outputs": [],
   "source": []
  }
 ],
 "metadata": {
  "kernelspec": {
   "display_name": "Python (project_practice)",
   "language": "python",
   "name": "project_practice"
  },
  "language_info": {
   "codemirror_mode": {
    "name": "ipython",
    "version": 3
   },
   "file_extension": ".py",
   "mimetype": "text/x-python",
   "name": "python",
   "nbconvert_exporter": "python",
   "pygments_lexer": "ipython3",
   "version": "3.9.13"
  }
 },
 "nbformat": 4,
 "nbformat_minor": 4
}
